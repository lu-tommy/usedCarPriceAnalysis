{
 "cells": [
  {
   "cell_type": "raw",
   "id": "assumed-beast",
   "metadata": {},
   "source": [
    "1. What is being tried to accomplish from this project?\n",
    "\n",
    "        We know that cars depreciate over times. However, why do some used cars are sold at higher price than other used cars? \n",
    "    We seek to answer to this question with the help of data mining. Using machine learning, we pinpoint the important reasons \n",
    "    that decide the price of cars. We attempt to build several models to predict the price of used cars, and compare those to decide\n",
    "    which model is better than others.\n",
    "\n",
    "\n",
    "2. Project Description/Abstract.\n",
    "\n",
    "    To get to know the decisive factor about the price of used cars. We use sevral machine learning methods.\n",
    "\n",
    "        First, we use linear regression model.\n",
    "\n",
    "        Second, in classification part, we use logstic regression model.\n",
    "    \n",
    "        Third, in variable selection part, we use Forward selection, Backward selection, Lidge Regression, and Lasso.\n",
    "\n",
    "        Forth, in decision tree part, we use post-pruning and pre-pruning.\n",
    "\n",
    "        Fifth, we use Clustering method. \n",
    "        \n",
    "\n",
    "3. Introduction\n",
    "\n",
    "            Some used cars tend to be sold at higher price others. However, people tend to consider just one price-decisive factors \n",
    "        like brand or year-produced. In fact, there are more decisive factors and all these factors contribute to decide the price of\n",
    "        use cars. So, we will go through several characteristics of cars, and decide the importance of each characterlistic.\n",
    "        \n",
    "        \n",
    "4. Dataset being used and descriptions of the dataset\n",
    "        \n",
    "        we use this dataset (https://www.kaggle.com/lepchenkov/usedcarscatalog). The raw data has 30 columns and 38531 rows.\n",
    "    We open the raw dataset and looked through it.However, we found that some of the cars columns were of no use to us. \n",
    "    Representatively, the number of car's photos, the location of sale of the car, and so on. so we removed them. We also discovered       \n",
    "    Russian car brands that written with Russian.To keep it simple, we removed those as well and leave only the brands' names marked with \n",
    "    English. After doing so, we are left with a more useful dataset. Let's see the survived variables.\n",
    "    \n",
    "        #1. price_usd: This is dependent vaiable.\n",
    "        #2. manufacturer_name: This is car brand.\n",
    "        #3. model name: This is model name of car\n",
    "        #4. transmission:This represents type of the transmission.\n",
    "        #5. color: This is color of used cars.\n",
    "        #6. odometer_value: This is Odometer state in kilometers, which represent how much the car is used.\n",
    "        #7. year_produced: This represents the year the car has been produced.\n",
    "        #8. engine_fuel: This represents fuel type of the engine.\n",
    "        #9. engine_has_gas: This represent whether the car is equipped with propane tank and tubin.\n",
    "        #10.engine_type: This represent which engine type the car has.\n",
    "        #11.engine_capacity: This represent the capacity of the engine in liters.\n",
    "        #12.body_type: This represents the type of the body (hatchback, sedan, etc).\n",
    "        #13.has_warranty: This represent wheter the car has warranty. \n",
    "        #14.state: This is state of cars( New/owned/emergency. Emergency means the car has been severely damaged)\n",
    "        #15.drivetrain: This is which type of drivetrain the car has. Drivetrain  is the group of components of a motor vehicle that \n",
    "            deliver power to the driving wheels. \n",
    "        #16.is_exchangeable: If \"is_exchangeable\" is True, the owner of the car is ready to exchange this car to other cars with little or \n",
    "            no additional payment.\n",
    "    \n",
    "    Finally, we have 16 columns. The type of variables and values in each qualitative variables will be explained when we show summary()\n",
    "    funtion.\n",
    "    \n",
    "    \n",
    "5. Literature Survey(existing work on this dataset)\n",
    "            \n",
    "        The study performed by Abhimanyu Dasarwar attempt several machine learinig methods on this dataset. The researchers claimed that\n",
    "        \"year_produced\" is an important factor in Car Price Prediction. Also, he claims that DriveTrain, Odometer Value, Engine Capacity \n",
    "        are also in top 5 Features for Price Prediction.(https://www.kaggle.com/abhimanyudasarwar/used-cars-price-prediction)\n",
    "        \n",
    "        \n",
    "6. Project methodology \n",
    "\n",
    "        To get to know the decisive factor about the price of used cars. We use sevral machine learning methods.\n",
    "\n",
    "        First, we use linear regression model.\n",
    "\n",
    "        Second, in classification part, we use logstic regression model.\n",
    "    \n",
    "        Third, in variable selection part, we use Forward selection, Backward selection, Lidge Regression, and Lasso.\n",
    "\n",
    "        Forth, in decision tree part, we use post-pruning and pre-pruning.\n",
    "\n",
    "        Fifth, we use Clustering method. \n",
    "        \n",
    "        And we compare the accuracy of each method, and compare the results.\n",
    "    \n"
   ]
  },
  {
   "cell_type": "markdown",
   "id": "indoor-relation",
   "metadata": {},
   "source": [
    "# 7.Analysis & Results"
   ]
  },
  {
   "cell_type": "markdown",
   "id": "flexible-innocent",
   "metadata": {},
   "source": [
    "# 7.1 linear regression"
   ]
  },
  {
   "cell_type": "code",
   "execution_count": 1,
   "id": "healthy-spare",
   "metadata": {
    "vscode": {
     "languageId": "r"
    }
   },
   "outputs": [],
   "source": [
    "install.packages(\"moments\")\n",
    "library(moments)"
   ]
  },
  {
   "cell_type": "code",
   "execution_count": 2,
   "id": "conceptual-mention",
   "metadata": {
    "vscode": {
     "languageId": "r"
    }
   },
   "outputs": [],
   "source": [
    "# I build functions. tgt is the abbreviations for target. pre is the the abbreviations for prediction.\n",
    "# So, tgt is answer, and pre_y is the value predicted by regression  model\n",
    "# RMSE is calculated by subtracting the predicted value from the actual value and multiplying the squared values and put square root.\n",
    "# MAE  is gained by subtracting the predicted value from the actual value, making it absolute value, and averages it again.\n",
    "# MAP is gained by subtracting predicted values from the actual values, deviding with the actual values, and averaging it with mutyplying 100\n",
    "\n",
    "\n",
    "perf_eval_reg <- function(tgt_y, pre_y){\n",
    "  \n",
    "  # RMSE\n",
    "  rmse <- sqrt(mean((tgt_y - pre_y)^2, na.rm=TRUE))\n",
    "  # MAE\n",
    "  mae <- mean(abs(tgt_y - pre_y),na.rm=TRUE)\n",
    "  # MAPE\n",
    "  mape <- 100*mean(abs((tgt_y - pre_y)/tgt_y),na.rm=TRUE)\n",
    "  \n",
    "  return(c(rmse, mae, mape))\n",
    "  \n",
    "}\n",
    "  # Initialize  performance evaluation matrix\n",
    "perf_mat <- matrix(0, nrow = 1, ncol = 3)\n"
   ]
  },
  {
   "cell_type": "code",
   "execution_count": 18,
   "id": "formal-preference",
   "metadata": {
    "vscode": {
     "languageId": "r"
    }
   },
   "outputs": [
    {
     "data": {
      "text/html": [
       "<table>\n",
       "<thead><tr><th></th><th scope=col>RMSE</th><th scope=col>MAE</th><th scope=col>MAPE</th></tr></thead>\n",
       "<tbody>\n",
       "\t<tr><th scope=row>car</th><td>0</td><td>0</td><td>0</td></tr>\n",
       "</tbody>\n",
       "</table>\n"
      ],
      "text/latex": [
       "\\begin{tabular}{r|lll}\n",
       "  & RMSE & MAE & MAPE\\\\\n",
       "\\hline\n",
       "\tcar & 0 & 0 & 0\\\\\n",
       "\\end{tabular}\n"
      ],
      "text/markdown": [
       "\n",
       "| <!--/--> | RMSE | MAE | MAPE |\n",
       "|---|---|---|---|\n",
       "| car | 0 | 0 | 0 |\n",
       "\n"
      ],
      "text/plain": [
       "    RMSE MAE MAPE\n",
       "car 0    0   0   "
      ]
     },
     "metadata": {},
     "output_type": "display_data"
    }
   ],
   "source": [
    "# we use RMSE, MAE, MAPE to know how accurately linear regression can make predictions.\n",
    "\n",
    "rownames(perf_mat) <- c(\"car\")\n",
    "colnames(perf_mat) <- c(\"RMSE\", \"MAE\", \"MAPE\")\n",
    "perf_mat"
   ]
  },
  {
   "cell_type": "code",
   "execution_count": 19,
   "id": "female-africa",
   "metadata": {
    "vscode": {
     "languageId": "r"
    }
   },
   "outputs": [],
   "source": [
    "# load data csv file\n",
    "\n",
    "setwd(\"C:/Users/Tommy/Desktop/CIS3920/carAnalysis\")"
   ]
  },
  {
   "cell_type": "code",
   "execution_count": 20,
   "id": "underlying-maker",
   "metadata": {
    "vscode": {
     "languageId": "r"
    }
   },
   "outputs": [],
   "source": [
    "car=read.csv(\"cars_new.csv\")"
   ]
  },
  {
   "cell_type": "code",
   "execution_count": 21,
   "id": "smoking-edward",
   "metadata": {
    "vscode": {
     "languageId": "r"
    }
   },
   "outputs": [
    {
     "data": {
      "text/html": [
       "37679"
      ],
      "text/latex": [
       "37679"
      ],
      "text/markdown": [
       "37679"
      ],
      "text/plain": [
       "[1] 37679"
      ]
     },
     "metadata": {},
     "output_type": "display_data"
    },
    {
     "data": {
      "text/html": [
       "16"
      ],
      "text/latex": [
       "16"
      ],
      "text/markdown": [
       "16"
      ],
      "text/plain": [
       "[1] 16"
      ]
     },
     "metadata": {},
     "output_type": "display_data"
    }
   ],
   "source": [
    "# analyze the dimension of data\n",
    "\n",
    "num_row0 <- nrow(car)\n",
    "num_col0 <- ncol(car)\n",
    "num_row0\n",
    "num_col0"
   ]
  },
  {
   "cell_type": "markdown",
   "id": "otherwise-insurance",
   "metadata": {},
   "source": [
    "This data has 37679 observations(row), and 16 variables(column)"
   ]
  },
  {
   "cell_type": "code",
   "execution_count": 22,
   "id": "respective-center",
   "metadata": {
    "vscode": {
     "languageId": "r"
    }
   },
   "outputs": [],
   "source": [
    "# we suspect this original data has NA values, so remove those values\n",
    "\n",
    "car1=na.omit(car)"
   ]
  },
  {
   "cell_type": "code",
   "execution_count": 23,
   "id": "chronic-vocabulary",
   "metadata": {
    "vscode": {
     "languageId": "r"
    }
   },
   "outputs": [
    {
     "data": {
      "text/html": [
       "37669"
      ],
      "text/latex": [
       "37669"
      ],
      "text/markdown": [
       "37669"
      ],
      "text/plain": [
       "[1] 37669"
      ]
     },
     "metadata": {},
     "output_type": "display_data"
    },
    {
     "data": {
      "text/html": [
       "16"
      ],
      "text/latex": [
       "16"
      ],
      "text/markdown": [
       "16"
      ],
      "text/plain": [
       "[1] 16"
      ]
     },
     "metadata": {},
     "output_type": "display_data"
    }
   ],
   "source": [
    "num_row <- nrow(car1)\n",
    "num_col <- ncol(car1)\n",
    "num_row\n",
    "num_col"
   ]
  },
  {
   "cell_type": "markdown",
   "id": "confused-firmware",
   "metadata": {},
   "source": [
    "Removing NA values, it has 37669 observations only."
   ]
  },
  {
   "cell_type": "code",
   "execution_count": 24,
   "id": "voluntary-karaoke",
   "metadata": {
    "vscode": {
     "languageId": "r"
    }
   },
   "outputs": [
    {
     "data": {
      "text/plain": [
       "   price_usd      manufacturer_name   model_name        transmission  \n",
       " Min.   :    1   Volkswagen: 4243   Passat : 1423   automatic :12885  \n",
       " 1st Qu.: 2250   Opel      : 2759   Astra  :  751   mechanical:24784  \n",
       " Median : 4900   BMW       : 2608   Golf   :  707                     \n",
       " Mean   : 6738   Ford      : 2566   A6     :  687                     \n",
       " 3rd Qu.: 9000   Renault   : 2493   Mondeo :  637                     \n",
       " Max.   :50000   Audi      : 2468   Vectra :  565                     \n",
       "                 (Other)   :20532   (Other):32899                     \n",
       "     color      odometer_value    year_produced         engine_fuel   \n",
       " black  :7630   Min.   :      0   Min.   :1960   diesel       :12848  \n",
       " silver :6799   1st Qu.: 160000   1st Qu.:1998   electric     :    0  \n",
       " blue   :5684   Median : 250000   Median :2003   gas          : 1300  \n",
       " white  :4051   Mean   : 251114   Mean   :2003   gasoline     :23284  \n",
       " grey   :3705   3rd Qu.: 326000   3rd Qu.:2009   hybrid-diesel:    2  \n",
       " red    :2825   Max.   :1000000   Max.   :2019   hybrid-petrol:  235  \n",
       " (Other):6975                                                         \n",
       " engine_has_gas    engine_type    engine_capacity     body_type    \n",
       " Mode :logical   diesel  :12850   Min.   :0.200   sedan    :12559  \n",
       " FALSE:36369     electric:    0   1st Qu.:1.600   hatchback: 7503  \n",
       " TRUE :1300      gasoline:24819   Median :2.000   universal: 5471  \n",
       "                                  Mean   :2.061   suv      : 5037  \n",
       "                                  3rd Qu.:2.300   minivan  : 3607  \n",
       "                                  Max.   :7.500   minibus  : 1334  \n",
       "                                                  (Other)  : 2158  \n",
       " has_warranty          state       drivetrain    is_exchangeable\n",
       " Mode :logical   emergency:  353   all  : 5244   Mode :logical  \n",
       " FALSE:37222     new      :  438   front:27468   FALSE:24326    \n",
       " TRUE :447       owned    :36878   rear : 4957   TRUE :13343    \n",
       "                                                                \n",
       "                                                                \n",
       "                                                                \n",
       "                                                                "
      ]
     },
     "metadata": {},
     "output_type": "display_data"
    }
   ],
   "source": [
    "# analyze vectors and get the type of variables\n",
    "\n",
    "summary(car1)"
   ]
  },
  {
   "cell_type": "code",
   "execution_count": 25,
   "id": "crazy-citizen",
   "metadata": {
    "vscode": {
     "languageId": "r"
    }
   },
   "outputs": [
    {
     "data": {
      "text/html": [
       "<dl class=dl-horizontal>\n",
       "\t<dt>price_usd</dt>\n",
       "\t\t<dd>'numeric'</dd>\n",
       "\t<dt>manufacturer_name</dt>\n",
       "\t\t<dd>'factor'</dd>\n",
       "\t<dt>model_name</dt>\n",
       "\t\t<dd>'factor'</dd>\n",
       "\t<dt>transmission</dt>\n",
       "\t\t<dd>'factor'</dd>\n",
       "\t<dt>color</dt>\n",
       "\t\t<dd>'factor'</dd>\n",
       "\t<dt>odometer_value</dt>\n",
       "\t\t<dd>'integer'</dd>\n",
       "\t<dt>year_produced</dt>\n",
       "\t\t<dd>'integer'</dd>\n",
       "\t<dt>engine_fuel</dt>\n",
       "\t\t<dd>'factor'</dd>\n",
       "\t<dt>engine_has_gas</dt>\n",
       "\t\t<dd>'logical'</dd>\n",
       "\t<dt>engine_type</dt>\n",
       "\t\t<dd>'factor'</dd>\n",
       "\t<dt>engine_capacity</dt>\n",
       "\t\t<dd>'numeric'</dd>\n",
       "\t<dt>body_type</dt>\n",
       "\t\t<dd>'factor'</dd>\n",
       "\t<dt>has_warranty</dt>\n",
       "\t\t<dd>'logical'</dd>\n",
       "\t<dt>state</dt>\n",
       "\t\t<dd>'factor'</dd>\n",
       "\t<dt>drivetrain</dt>\n",
       "\t\t<dd>'factor'</dd>\n",
       "\t<dt>is_exchangeable</dt>\n",
       "\t\t<dd>'logical'</dd>\n",
       "</dl>\n"
      ],
      "text/latex": [
       "\\begin{description*}\n",
       "\\item[price\\textbackslash{}\\_usd] 'numeric'\n",
       "\\item[manufacturer\\textbackslash{}\\_name] 'factor'\n",
       "\\item[model\\textbackslash{}\\_name] 'factor'\n",
       "\\item[transmission] 'factor'\n",
       "\\item[color] 'factor'\n",
       "\\item[odometer\\textbackslash{}\\_value] 'integer'\n",
       "\\item[year\\textbackslash{}\\_produced] 'integer'\n",
       "\\item[engine\\textbackslash{}\\_fuel] 'factor'\n",
       "\\item[engine\\textbackslash{}\\_has\\textbackslash{}\\_gas] 'logical'\n",
       "\\item[engine\\textbackslash{}\\_type] 'factor'\n",
       "\\item[engine\\textbackslash{}\\_capacity] 'numeric'\n",
       "\\item[body\\textbackslash{}\\_type] 'factor'\n",
       "\\item[has\\textbackslash{}\\_warranty] 'logical'\n",
       "\\item[state] 'factor'\n",
       "\\item[drivetrain] 'factor'\n",
       "\\item[is\\textbackslash{}\\_exchangeable] 'logical'\n",
       "\\end{description*}\n"
      ],
      "text/markdown": [
       "price_usd\n",
       ":   'numeric'manufacturer_name\n",
       ":   'factor'model_name\n",
       ":   'factor'transmission\n",
       ":   'factor'color\n",
       ":   'factor'odometer_value\n",
       ":   'integer'year_produced\n",
       ":   'integer'engine_fuel\n",
       ":   'factor'engine_has_gas\n",
       ":   'logical'engine_type\n",
       ":   'factor'engine_capacity\n",
       ":   'numeric'body_type\n",
       ":   'factor'has_warranty\n",
       ":   'logical'state\n",
       ":   'factor'drivetrain\n",
       ":   'factor'is_exchangeable\n",
       ":   'logical'\n",
       "\n"
      ],
      "text/plain": [
       "        price_usd manufacturer_name        model_name      transmission \n",
       "        \"numeric\"          \"factor\"          \"factor\"          \"factor\" \n",
       "            color    odometer_value     year_produced       engine_fuel \n",
       "         \"factor\"         \"integer\"         \"integer\"          \"factor\" \n",
       "   engine_has_gas       engine_type   engine_capacity         body_type \n",
       "        \"logical\"          \"factor\"         \"numeric\"          \"factor\" \n",
       "     has_warranty             state        drivetrain   is_exchangeable \n",
       "        \"logical\"          \"factor\"          \"factor\"         \"logical\" "
      ]
     },
     "metadata": {},
     "output_type": "display_data"
    }
   ],
   "source": [
    "sapply(car1,class)"
   ]
  },
  {
   "cell_type": "markdown",
   "id": "expressed-waters",
   "metadata": {},
   "source": [
    "As we see, the dependent variable(price_usd) is numeric value, but many other values have logical and factor type value. We convert these types of values to dummy variable for linear regression model."
   ]
  },
  {
   "cell_type": "code",
   "execution_count": 26,
   "id": "angry-franchise",
   "metadata": {
    "vscode": {
     "languageId": "r"
    }
   },
   "outputs": [],
   "source": [
    "# Convert logical to dummy variable\n",
    "dummy_is_exchangeable <- as.numeric(car1$is_exchangeable)\n",
    "dummy_has_warranty <- as.numeric(car1$has_warranty)\n",
    "dummy_engine_has_gas<- as.numeric(car1$engine_has_gas )"
   ]
  },
  {
   "cell_type": "code",
   "execution_count": null,
   "id": "considerable-violin",
   "metadata": {
    "vscode": {
     "languageId": "r"
    }
   },
   "outputs": [],
   "source": [
    "# Convert factor variavle into dummy variable\n",
    "transmission_dummy=as.numeric(as.integer(car1$ transmission)-1)\n",
    "\n"
   ]
  },
  {
   "cell_type": "code",
   "execution_count": 28,
   "id": "collectible-witness",
   "metadata": {
    "vscode": {
     "languageId": "r"
    }
   },
   "outputs": [],
   "source": [
    "dummy_Volkswagen <- rep(0,num_row)\n",
    "dummy_Opel <- rep(0,num_row)\n",
    "dummy_BMW <- rep(0,num_row)\n",
    "dummy_Ford <- rep(0,num_row)\n",
    "dummy_Renault <- rep(0,num_row)\n",
    "dummy_Audi <- rep(0,num_row)\n",
    "dummy_other_manufaturer <- rep(0,num_row)"
   ]
  },
  {
   "cell_type": "code",
   "execution_count": 29,
   "id": "naval-burden",
   "metadata": {
    "vscode": {
     "languageId": "r"
    }
   },
   "outputs": [],
   "source": [
    "Volkswagen_idx <- which(car1$manufacturer_name == \"Volkswagen\")\n",
    "Opel_idx <- which(car1$manufacturer_name == \"Opel\")\n",
    "BMW_idx <- which(car1$manufacturer_name == \"BMW\")\n",
    "Ford_idx <- which(car1$manufacturer_name == \"Ford\")\n",
    "Renault_idx <- which(car1$manufacturer_name == \"Renault\")\n",
    "Audi_idx <- which(car1$manufacturer_name == \"Audi\")\n",
    "other_manufacturer_idx <- which(car1$manufacturer_name == \"(other)\")"
   ]
  },
  {
   "cell_type": "code",
   "execution_count": 30,
   "id": "smart-switzerland",
   "metadata": {
    "vscode": {
     "languageId": "r"
    }
   },
   "outputs": [],
   "source": [
    "dummy_Volkswagen[Volkswagen_idx] <- 1\n",
    "dummy_Opel[Opel_idx] <- 1\n",
    "dummy_BMW[BMW_idx] <- 1\n",
    "dummy_Ford[Ford_idx] <- 1\n",
    "dummy_Renault[Renault_idx] <- 1\n",
    "dummy_Audi[Audi_idx] <- 1\n",
    "dummy_other_manufaturer[other_manufacturer_idx] <- 1"
   ]
  },
  {
   "cell_type": "code",
   "execution_count": 31,
   "id": "completed-neighborhood",
   "metadata": {
    "vscode": {
     "languageId": "r"
    }
   },
   "outputs": [],
   "source": [
    "manufacturer_name <- data.frame(dummy_Volkswagen, dummy_Opel, dummy_BMW, dummy_Ford, dummy_Renault, dummy_Audi, dummy_other_manufaturer)\n",
    "names(manufacturer_name) <- c(\"Volkswagen\",\"Opel\",\"BMW\",\"Ford\",\"Renault\",\"Audi\", \"other_manufaturer\")"
   ]
  },
  {
   "cell_type": "code",
   "execution_count": 32,
   "id": "removed-works",
   "metadata": {
    "vscode": {
     "languageId": "r"
    }
   },
   "outputs": [],
   "source": [
    "dummy_black <- rep(0,num_row)\n",
    "dummy_silver <- rep(0,num_row)\n",
    "dummy_blue <- rep(0,num_row)\n",
    "dummy_white <- rep(0,num_row)\n",
    "dummy_grey <- rep(0,num_row)\n",
    "dummy_red <- rep(0,num_row)\n",
    "dummy_other_color <- rep(0,num_row)"
   ]
  },
  {
   "cell_type": "code",
   "execution_count": 33,
   "id": "finnish-personal",
   "metadata": {
    "vscode": {
     "languageId": "r"
    }
   },
   "outputs": [],
   "source": [
    "black_idx <- which(car1$color == \"black\")\n",
    "silver_idx <- which(car1$color == \"silver\")\n",
    "blue_idx <- which(car1$color == \"blue\")\n",
    "white_idx <- which(car1$color == \"white\")\n",
    "grey_idx <- which(car1$color == \"grey\")\n",
    "red_idx <- which(car1$color == \"red\")\n",
    "other_color_idx <- which(car1$color == \"other\")"
   ]
  },
  {
   "cell_type": "code",
   "execution_count": 34,
   "id": "virgin-delhi",
   "metadata": {
    "vscode": {
     "languageId": "r"
    }
   },
   "outputs": [],
   "source": [
    "dummy_black[black_idx] <- 1\n",
    "dummy_silver[silver_idx] <- 1\n",
    "dummy_blue[blue_idx] <- 1\n",
    "dummy_white[white_idx] <- 1\n",
    "dummy_grey[grey_idx] <- 1\n",
    "dummy_red[red_idx] <- 1\n",
    "dummy_other_color[other_color_idx] <- 1"
   ]
  },
  {
   "cell_type": "code",
   "execution_count": 35,
   "id": "stunning-audience",
   "metadata": {
    "vscode": {
     "languageId": "r"
    }
   },
   "outputs": [],
   "source": [
    "color <- data.frame(dummy_black, dummy_silver, dummy_blue, dummy_white, dummy_grey, dummy_red, dummy_other_color  )\n",
    "names(color) <- c(\"black\",\"silver\",\"blue\",\"white\",\"grey\",\"red\", \"other_color\")"
   ]
  },
  {
   "cell_type": "code",
   "execution_count": 36,
   "id": "suspended-crack",
   "metadata": {
    "vscode": {
     "languageId": "r"
    }
   },
   "outputs": [],
   "source": [
    "dummy_diesel  <- rep(0,num_row)\n",
    "dummy_electric <- rep(0,num_row)\n",
    "dummy_gas   <- rep(0,num_row)\n",
    "dummy_gasoline <- rep(0,num_row)\n",
    "dummy_hybrid_diesel <- rep(0,num_row)\n",
    "dummy_hybrid_petrol <- rep(0,num_row)"
   ]
  },
  {
   "cell_type": "code",
   "execution_count": 37,
   "id": "cultural-straight",
   "metadata": {
    "vscode": {
     "languageId": "r"
    }
   },
   "outputs": [],
   "source": [
    "diesel_idx <- which(car1$engine_fuel == \"diesel\")\n",
    "electric_idx <- which(car1$engine_fuel   == \"electric\")\n",
    "gas_idx <- which(car1$engine_fuel   == \"gas\")\n",
    "gasoline_idx <- which(car1$engine_fuel   == \"gasoline\")\n",
    "hybrid_diesel_idx <- which(car1$engine_fuel   == \"hybrid-diesel\")\n",
    "hybrid_petrol_idx <- which(car1$engine_fuel   == \"hybrid-petrol\")\n"
   ]
  },
  {
   "cell_type": "code",
   "execution_count": 38,
   "id": "center-meter",
   "metadata": {
    "vscode": {
     "languageId": "r"
    }
   },
   "outputs": [],
   "source": [
    "dummy_diesel[diesel_idx] <- 1\n",
    "dummy_electric[electric_idx] <- 1\n",
    "dummy_gas[gas_idx] <- 1\n",
    "dummy_gasoline[gasoline_idx] <- 1\n",
    "dummy_hybrid_diesel[hybrid_diesel_idx] <- 1\n",
    "dummy_hybrid_petrol[hybrid_petrol_idx] <- 1"
   ]
  },
  {
   "cell_type": "code",
   "execution_count": 39,
   "id": "discrete-soviet",
   "metadata": {
    "vscode": {
     "languageId": "r"
    }
   },
   "outputs": [],
   "source": [
    "engine_fuel <- data.frame(dummy_diesel, dummy_electric, dummy_gas, dummy_gasoline, dummy_hybrid_diesel, dummy_hybrid_petrol)\n",
    "names(engine_fuel) <- c(\"diesel\",\"electric\",\"gas\",\"gasoline\",\"hybrid-diesel\",\"hybrid-petrol\")"
   ]
  },
  {
   "cell_type": "code",
   "execution_count": 40,
   "id": "twenty-franklin",
   "metadata": {
    "vscode": {
     "languageId": "r"
    }
   },
   "outputs": [],
   "source": [
    "dummy_sedan  <- rep(0,num_row)\n",
    "dummy_hatchback <- rep(0,num_row)\n",
    "dummy_universal   <- rep(0,num_row)\n",
    "dummy_suv <- rep(0,num_row)\n",
    "dummy_minibus <- rep(0,num_row)\n",
    "dummy_other_type <- rep(0,num_row)\n"
   ]
  },
  {
   "cell_type": "code",
   "execution_count": 41,
   "id": "compound-forge",
   "metadata": {
    "vscode": {
     "languageId": "r"
    }
   },
   "outputs": [],
   "source": [
    "sedan_idx <- which(car1$ body_type     == \"sedan\")\n",
    "hatchback_idx <- which(car1$ body_type       == \"hatchback\")\n",
    "universal_idx <- which(car1$ body_type       == \"universal\")\n",
    "suv_idx <- which(car1$ body_type       == \"suv\")\n",
    "minibus_idx <- which(car1$ body_type       == \"minibus\")\n",
    "other_type_idx <- which(car1$ body_type       == \"other_type\")"
   ]
  },
  {
   "cell_type": "code",
   "execution_count": 42,
   "id": "signed-halloween",
   "metadata": {
    "vscode": {
     "languageId": "r"
    }
   },
   "outputs": [],
   "source": [
    "dummy_sedan[sedan_idx] <- 1\n",
    "dummy_hatchback[hatchback_idx] <- 1\n",
    "dummy_universal[universal_idx] <- 1\n",
    "dummy_suv[suv_idx] <- 1\n",
    "dummy_minibus[minibus_idx] <- 1\n",
    "dummy_other_type[other_type_idx] <- 1"
   ]
  },
  {
   "cell_type": "code",
   "execution_count": 43,
   "id": "unable-applicant",
   "metadata": {
    "vscode": {
     "languageId": "r"
    }
   },
   "outputs": [],
   "source": [
    " body_type     <- data.frame(dummy_sedan, dummy_hatchback, dummy_universal, dummy_suv, dummy_minibus,dummy_other_type)\n",
    "names(body_type) <- c(\"sedan\",\"hatchback\",\"universal\",\"suv\",\"minibus\",\"other_type\")"
   ]
  },
  {
   "cell_type": "code",
   "execution_count": 44,
   "id": "extra-boxing",
   "metadata": {
    "vscode": {
     "languageId": "r"
    }
   },
   "outputs": [],
   "source": [
    "dummy_diesel_engine_type<- rep(0,num_row)\n",
    "dummy_electric_engine_type<- rep(0,num_row)\n",
    "dummy_gasoline_engine_type<- rep(0,num_row)"
   ]
  },
  {
   "cell_type": "code",
   "execution_count": 45,
   "id": "caroline-manitoba",
   "metadata": {
    "vscode": {
     "languageId": "r"
    }
   },
   "outputs": [],
   "source": [
    "diesel_engine_type_idx <- which(car1$ engine_type     == \"diesel\")\n",
    "electric_engine_type_idx <- which(car1$ engine_type       == \"electric\")\n",
    "gasoline_engine_type_idx <- which(car1$ engine_type      == \"gasoline\")"
   ]
  },
  {
   "cell_type": "code",
   "execution_count": 46,
   "id": "beginning-hayes",
   "metadata": {
    "vscode": {
     "languageId": "r"
    }
   },
   "outputs": [],
   "source": [
    "dummy_diesel_engine_type[diesel_engine_type_idx] <- 1\n",
    "dummy_electric_engine_type[electric_engine_type_idx] <- 1\n",
    "dummy_gasoline_engine_type [gasoline_engine_type_idx] <- 1"
   ]
  },
  {
   "cell_type": "code",
   "execution_count": 47,
   "id": "great-stick",
   "metadata": {
    "vscode": {
     "languageId": "r"
    }
   },
   "outputs": [],
   "source": [
    "engine_type     <- data.frame(dummy_diesel_engine_type, dummy_electric_engine_type,dummy_gasoline_engine_type)\n",
    "names(engine_type) <- c(\"diesel_type\",\"electric_type\",\"gasoline_type\")"
   ]
  },
  {
   "cell_type": "code",
   "execution_count": 48,
   "id": "continuing-bunny",
   "metadata": {
    "vscode": {
     "languageId": "r"
    }
   },
   "outputs": [],
   "source": [
    "dummy_emergency   <- rep(0,num_row)\n",
    "dummy_new<- rep(0,num_row)\n",
    "dummy_owned  <- rep(0,num_row)"
   ]
  },
  {
   "cell_type": "code",
   "execution_count": 49,
   "id": "stainless-xerox",
   "metadata": {
    "vscode": {
     "languageId": "r"
    }
   },
   "outputs": [],
   "source": [
    "emergency_idx <- which(car1$state     == \"emergency\")\n",
    "new_idx <- which(car1$ state       == \"new\")\n",
    "owned_idx <- which(car1$ state      == \"owned\")\n"
   ]
  },
  {
   "cell_type": "code",
   "execution_count": 50,
   "id": "indian-inside",
   "metadata": {
    "vscode": {
     "languageId": "r"
    }
   },
   "outputs": [],
   "source": [
    "dummy_emergency[emergency_idx] <- 1\n",
    "dummy_new[new_idx] <- 1\n",
    "dummy_owned[owned_idx] <- 1"
   ]
  },
  {
   "cell_type": "code",
   "execution_count": 51,
   "id": "animal-reader",
   "metadata": {
    "vscode": {
     "languageId": "r"
    }
   },
   "outputs": [],
   "source": [
    "state    <- data.frame(dummy_emergency, dummy_new,dummy_owned)\n",
    "names(state) <- c(\"emergency\",\"new\",\"owned\")"
   ]
  },
  {
   "cell_type": "code",
   "execution_count": 52,
   "id": "naked-fetish",
   "metadata": {
    "vscode": {
     "languageId": "r"
    }
   },
   "outputs": [],
   "source": [
    "dummy_all   <- rep(0,num_row)\n",
    "dummy_front<- rep(0,num_row)\n",
    "dummy_rear  <- rep(0,num_row)"
   ]
  },
  {
   "cell_type": "code",
   "execution_count": 53,
   "id": "logical-queensland",
   "metadata": {
    "vscode": {
     "languageId": "r"
    }
   },
   "outputs": [],
   "source": [
    "all_idx <- which(car1$drivetrain     == \"all\")\n",
    "front_idx <- which(car1$drivetrain       == \"front\")\n",
    "rear_idx <- which(car1$drivetrain      == \"rear\")\n"
   ]
  },
  {
   "cell_type": "code",
   "execution_count": 54,
   "id": "located-ebony",
   "metadata": {
    "vscode": {
     "languageId": "r"
    }
   },
   "outputs": [],
   "source": [
    "dummy_all[all_idx] <- 1\n",
    "dummy_front[front_idx] <- 1\n",
    "dummy_rear [rear_idx] <- 1"
   ]
  },
  {
   "cell_type": "code",
   "execution_count": 55,
   "id": "seasonal-twelve",
   "metadata": {
    "vscode": {
     "languageId": "r"
    }
   },
   "outputs": [],
   "source": [
    "drivetrain    <- data.frame(dummy_all, dummy_front,dummy_rear)\n",
    "names(drivetrain) <- c(\"all\",\"front\",\"rear\")"
   ]
  },
  {
   "cell_type": "markdown",
   "id": "original-suspension",
   "metadata": {},
   "source": [
    "In case of the factor variables(manufacturer_name, color, engine_fuel, body_type, engine_type, state, drivetrain), each of these has several categorical values. Therefore, we make each value dummy variable. For example if car's color is blue, we assin 1. Unless, we assin 0."
   ]
  },
  {
   "cell_type": "code",
   "execution_count": 56,
   "id": "associate-listing",
   "metadata": {
    "vscode": {
     "languageId": "r"
    }
   },
   "outputs": [],
   "source": [
    "# We create new data that we think best suitable for linear regression model analysis.\n",
    "\n",
    "car_data <- cbind(car1[-c(2,3,4,5,8,9,10,12,13,14,15,16)],dummy_is_exchangeable, dummy_has_warranty,dummy_engine_has_gas, transmission_dummy, color, manufacturer_name, engine_fuel, engine_type, body_type, state, drivetrain)"
   ]
  },
  {
   "cell_type": "markdown",
   "id": "matched-crash",
   "metadata": {},
   "source": [
    "In the above, we also remove \"model_name\" variable because it has high correlation and corlinearity with other variables"
   ]
  },
  {
   "cell_type": "code",
   "execution_count": 57,
   "id": "tested-brown",
   "metadata": {
    "vscode": {
     "languageId": "r"
    }
   },
   "outputs": [
    {
     "data": {
      "text/plain": [
       "   price_usd     odometer_value    year_produced  engine_capacity\n",
       " Min.   :    1   Min.   :      0   Min.   :1960   Min.   :0.200  \n",
       " 1st Qu.: 2250   1st Qu.: 160000   1st Qu.:1998   1st Qu.:1.600  \n",
       " Median : 4900   Median : 250000   Median :2003   Median :2.000  \n",
       " Mean   : 6738   Mean   : 251114   Mean   :2003   Mean   :2.061  \n",
       " 3rd Qu.: 9000   3rd Qu.: 326000   3rd Qu.:2009   3rd Qu.:2.300  \n",
       " Max.   :50000   Max.   :1000000   Max.   :2019   Max.   :7.500  \n",
       " dummy_is_exchangeable dummy_has_warranty dummy_engine_has_gas\n",
       " Min.   :0.0000        Min.   :0.00000    Min.   :0.00000     \n",
       " 1st Qu.:0.0000        1st Qu.:0.00000    1st Qu.:0.00000     \n",
       " Median :0.0000        Median :0.00000    Median :0.00000     \n",
       " Mean   :0.3542        Mean   :0.01187    Mean   :0.03451     \n",
       " 3rd Qu.:1.0000        3rd Qu.:0.00000    3rd Qu.:0.00000     \n",
       " Max.   :1.0000        Max.   :1.00000    Max.   :1.00000     \n",
       " transmission_dummy     black            silver            blue       \n",
       " Min.   :0.0000     Min.   :0.0000   Min.   :0.0000   Min.   :0.0000  \n",
       " 1st Qu.:0.0000     1st Qu.:0.0000   1st Qu.:0.0000   1st Qu.:0.0000  \n",
       " Median :1.0000     Median :0.0000   Median :0.0000   Median :0.0000  \n",
       " Mean   :0.6579     Mean   :0.2026   Mean   :0.1805   Mean   :0.1509  \n",
       " 3rd Qu.:1.0000     3rd Qu.:0.0000   3rd Qu.:0.0000   3rd Qu.:0.0000  \n",
       " Max.   :1.0000     Max.   :1.0000   Max.   :1.0000   Max.   :1.0000  \n",
       "     white             grey              red         other_color     \n",
       " Min.   :0.0000   Min.   :0.00000   Min.   :0.000   Min.   :0.00000  \n",
       " 1st Qu.:0.0000   1st Qu.:0.00000   1st Qu.:0.000   1st Qu.:0.00000  \n",
       " Median :0.0000   Median :0.00000   Median :0.000   Median :0.00000  \n",
       " Mean   :0.1075   Mean   :0.09836   Mean   :0.075   Mean   :0.06876  \n",
       " 3rd Qu.:0.0000   3rd Qu.:0.00000   3rd Qu.:0.000   3rd Qu.:0.00000  \n",
       " Max.   :1.0000   Max.   :1.00000   Max.   :1.000   Max.   :1.00000  \n",
       "   Volkswagen          Opel              BMW               Ford        \n",
       " Min.   :0.0000   Min.   :0.00000   Min.   :0.00000   Min.   :0.00000  \n",
       " 1st Qu.:0.0000   1st Qu.:0.00000   1st Qu.:0.00000   1st Qu.:0.00000  \n",
       " Median :0.0000   Median :0.00000   Median :0.00000   Median :0.00000  \n",
       " Mean   :0.1126   Mean   :0.07324   Mean   :0.06923   Mean   :0.06812  \n",
       " 3rd Qu.:0.0000   3rd Qu.:0.00000   3rd Qu.:0.00000   3rd Qu.:0.00000  \n",
       " Max.   :1.0000   Max.   :1.00000   Max.   :1.00000   Max.   :1.00000  \n",
       "    Renault             Audi         other_manufaturer     diesel      \n",
       " Min.   :0.00000   Min.   :0.00000   Min.   :0         Min.   :0.0000  \n",
       " 1st Qu.:0.00000   1st Qu.:0.00000   1st Qu.:0         1st Qu.:0.0000  \n",
       " Median :0.00000   Median :0.00000   Median :0         Median :0.0000  \n",
       " Mean   :0.06618   Mean   :0.06552   Mean   :0         Mean   :0.3411  \n",
       " 3rd Qu.:0.00000   3rd Qu.:0.00000   3rd Qu.:0         3rd Qu.:1.0000  \n",
       " Max.   :1.00000   Max.   :1.00000   Max.   :0         Max.   :1.0000  \n",
       "    electric      gas             gasoline      hybrid-diesel     \n",
       " Min.   :0   Min.   :0.00000   Min.   :0.0000   Min.   :0.00e+00  \n",
       " 1st Qu.:0   1st Qu.:0.00000   1st Qu.:0.0000   1st Qu.:0.00e+00  \n",
       " Median :0   Median :0.00000   Median :1.0000   Median :0.00e+00  \n",
       " Mean   :0   Mean   :0.03451   Mean   :0.6181   Mean   :5.31e-05  \n",
       " 3rd Qu.:0   3rd Qu.:0.00000   3rd Qu.:1.0000   3rd Qu.:0.00e+00  \n",
       " Max.   :0   Max.   :1.00000   Max.   :1.0000   Max.   :1.00e+00  \n",
       " hybrid-petrol       diesel_type     electric_type gasoline_type   \n",
       " Min.   :0.000000   Min.   :0.0000   Min.   :0     Min.   :0.0000  \n",
       " 1st Qu.:0.000000   1st Qu.:0.0000   1st Qu.:0     1st Qu.:0.0000  \n",
       " Median :0.000000   Median :0.0000   Median :0     Median :1.0000  \n",
       " Mean   :0.006239   Mean   :0.3411   Mean   :0     Mean   :0.6589  \n",
       " 3rd Qu.:0.000000   3rd Qu.:1.0000   3rd Qu.:0     3rd Qu.:1.0000  \n",
       " Max.   :1.000000   Max.   :1.0000   Max.   :0     Max.   :1.0000  \n",
       "     sedan          hatchback        universal           suv        \n",
       " Min.   :0.0000   Min.   :0.0000   Min.   :0.0000   Min.   :0.0000  \n",
       " 1st Qu.:0.0000   1st Qu.:0.0000   1st Qu.:0.0000   1st Qu.:0.0000  \n",
       " Median :0.0000   Median :0.0000   Median :0.0000   Median :0.0000  \n",
       " Mean   :0.3334   Mean   :0.1992   Mean   :0.1452   Mean   :0.1337  \n",
       " 3rd Qu.:1.0000   3rd Qu.:0.0000   3rd Qu.:0.0000   3rd Qu.:0.0000  \n",
       " Max.   :1.0000   Max.   :1.0000   Max.   :1.0000   Max.   :1.0000  \n",
       "    minibus          other_type   emergency             new         \n",
       " Min.   :0.00000   Min.   :0    Min.   :0.000000   Min.   :0.00000  \n",
       " 1st Qu.:0.00000   1st Qu.:0    1st Qu.:0.000000   1st Qu.:0.00000  \n",
       " Median :0.00000   Median :0    Median :0.000000   Median :0.00000  \n",
       " Mean   :0.03541   Mean   :0    Mean   :0.009371   Mean   :0.01163  \n",
       " 3rd Qu.:0.00000   3rd Qu.:0    3rd Qu.:0.000000   3rd Qu.:0.00000  \n",
       " Max.   :1.00000   Max.   :0    Max.   :1.000000   Max.   :1.00000  \n",
       "     owned            all             front             rear       \n",
       " Min.   :0.000   Min.   :0.0000   Min.   :0.0000   Min.   :0.0000  \n",
       " 1st Qu.:1.000   1st Qu.:0.0000   1st Qu.:0.0000   1st Qu.:0.0000  \n",
       " Median :1.000   Median :0.0000   Median :1.0000   Median :0.0000  \n",
       " Mean   :0.979   Mean   :0.1392   Mean   :0.7292   Mean   :0.1316  \n",
       " 3rd Qu.:1.000   3rd Qu.:0.0000   3rd Qu.:1.0000   3rd Qu.:0.0000  \n",
       " Max.   :1.000   Max.   :1.0000   Max.   :1.0000   Max.   :1.0000  "
      ]
     },
     "metadata": {},
     "output_type": "display_data"
    }
   ],
   "source": [
    "# summary og new data for MLR\n",
    "summary(car_data)"
   ]
  },
  {
   "cell_type": "code",
   "execution_count": 58,
   "id": "overall-maldives",
   "metadata": {
    "vscode": {
     "languageId": "r"
    }
   },
   "outputs": [],
   "source": [
    "# We divide the data into training data set and test data set.\n",
    "\n",
    "set.seed(12345) \n",
    "car_training_idx <- sample(1:num_row, round(0.7*num_row))\n",
    "car_training_data <- car_data[car_training_idx,]\n",
    "car_test_data <- car_data[-car_training_idx,]"
   ]
  },
  {
   "cell_type": "markdown",
   "id": "productive-damage",
   "metadata": {},
   "source": [
    "In machine learning, if we use all of the given data to build a model, it is impossible to \n",
    "know how well the model fits to untrained data. So, we use 70% of data as training data, and 30% of the data as test data\n",
    "to measure the fitness of the model."
   ]
  },
  {
   "cell_type": "code",
   "execution_count": 59,
   "id": "engaging-affairs",
   "metadata": {
    "vscode": {
     "languageId": "r"
    }
   },
   "outputs": [],
   "source": [
    "options(scipen = 999)"
   ]
  },
  {
   "cell_type": "code",
   "execution_count": 60,
   "id": "bridal-coast",
   "metadata": {
    "vscode": {
     "languageId": "r"
    }
   },
   "outputs": [
    {
     "data": {
      "text/plain": [
       "\n",
       "Call:\n",
       "lm(formula = price_usd ~ ., data = car_training_data)\n",
       "\n",
       "Coefficients:\n",
       "          (Intercept)         odometer_value          year_produced  \n",
       "       -944043.400379              -0.004679             475.550940  \n",
       "      engine_capacity  dummy_is_exchangeable     dummy_has_warranty  \n",
       "          1257.161207            -110.898241            1755.407433  \n",
       " dummy_engine_has_gas     transmission_dummy                  black  \n",
       "         -2370.553009            -851.235562              -0.268067  \n",
       "               silver                   blue                  white  \n",
       "          -777.915296            -260.006046             417.160247  \n",
       "                 grey                    red            other_color  \n",
       "            42.173447             300.337649            -407.811429  \n",
       "           Volkswagen                   Opel                    BMW  \n",
       "          1372.051770            -172.666333            1411.310094  \n",
       "                 Ford                Renault                   Audi  \n",
       "          -189.552184            -604.271626            2293.707946  \n",
       "    other_manufaturer                 diesel               electric  \n",
       "                   NA            -928.272460                     NA  \n",
       "                  gas               gasoline        `hybrid-diesel`  \n",
       "                   NA           -1886.699651             969.590031  \n",
       "      `hybrid-petrol`            diesel_type          electric_type  \n",
       "                   NA                     NA                     NA  \n",
       "        gasoline_type                  sedan              hatchback  \n",
       "                   NA            -898.142146           -1003.228415  \n",
       "            universal                    suv                minibus  \n",
       "         -1101.226534            1279.348616            1892.940085  \n",
       "           other_type              emergency                    new  \n",
       "                   NA           -1276.482265            8669.269612  \n",
       "                owned                    all                  front  \n",
       "                   NA            1032.040890           -1560.341456  \n",
       "                 rear  \n",
       "                   NA  \n"
      ]
     },
     "metadata": {},
     "output_type": "display_data"
    },
    {
     "data": {
      "text/plain": [
       "\n",
       "Call:\n",
       "lm(formula = price_usd ~ ., data = car_training_data)\n",
       "\n",
       "Residuals:\n",
       "   Min     1Q Median     3Q    Max \n",
       "-14971  -1709   -294   1150  33792 \n",
       "\n",
       "Coefficients: (10 not defined because of singularities)\n",
       "                             Estimate      Std. Error  t value\n",
       "(Intercept)           -944043.4003786    7667.3079004 -123.126\n",
       "odometer_value             -0.0046789       0.0002004  -23.350\n",
       "year_produced             475.5509402       3.8051635  124.975\n",
       "engine_capacity          1257.1612071      42.7175372   29.430\n",
       "dummy_is_exchangeable    -110.8982411      44.4006893   -2.498\n",
       "dummy_has_warranty       1755.4074334     354.0586427    4.958\n",
       "dummy_engine_has_gas    -2370.5530092     286.0918490   -8.286\n",
       "transmission_dummy       -851.2355619      57.5101972  -14.801\n",
       "black                      -0.2680671      79.5114751   -0.003\n",
       "silver                   -777.9152961      79.3680324   -9.801\n",
       "blue                     -260.0060464      81.4513578   -3.192\n",
       "white                     417.1602471      90.3205434    4.619\n",
       "grey                       42.1734466      91.4039418    0.461\n",
       "red                       300.3376489      97.1862741    3.090\n",
       "other_color              -407.8114286     100.4056518   -4.062\n",
       "Volkswagen               1372.0517701      71.4131805   19.213\n",
       "Opel                     -172.6663326      84.2535293   -2.049\n",
       "BMW                      1411.3100940      98.2110652   14.370\n",
       "Ford                     -189.5521844      86.1877829   -2.199\n",
       "Renault                  -604.2716261      87.7971523   -6.883\n",
       "Audi                     2293.7079463      91.5941776   25.042\n",
       "other_manufaturer                  NA              NA       NA\n",
       "diesel                   -928.2724597     266.0251982   -3.489\n",
       "electric                           NA              NA       NA\n",
       "gas                                NA              NA       NA\n",
       "gasoline                -1886.6996505     262.7256371   -7.181\n",
       "`hybrid-diesel`           969.5900307    3390.5141895    0.286\n",
       "`hybrid-petrol`                    NA              NA       NA\n",
       "diesel_type                        NA              NA       NA\n",
       "electric_type                      NA              NA       NA\n",
       "gasoline_type                      NA              NA       NA\n",
       "sedan                    -898.1421459      69.0300993  -13.011\n",
       "hatchback               -1003.2284148      75.1669817  -13.347\n",
       "universal               -1101.2265344      77.9293270  -14.131\n",
       "suv                      1279.3486164     101.1967900   12.642\n",
       "minibus                  1892.9400849     129.3160673   14.638\n",
       "other_type                         NA              NA       NA\n",
       "emergency               -1276.4822649     216.8063856   -5.888\n",
       "new                      8669.2696124     361.9466119   23.952\n",
       "owned                              NA              NA       NA\n",
       "all                      1032.0408905     109.9738536    9.384\n",
       "front                   -1560.3414561      80.6736013  -19.341\n",
       "rear                               NA              NA       NA\n",
       "                                  Pr(>|t|)    \n",
       "(Intercept)           < 0.0000000000000002 ***\n",
       "odometer_value        < 0.0000000000000002 ***\n",
       "year_produced         < 0.0000000000000002 ***\n",
       "engine_capacity       < 0.0000000000000002 ***\n",
       "dummy_is_exchangeable             0.012507 *  \n",
       "dummy_has_warranty       0.000000716808903 ***\n",
       "dummy_engine_has_gas  < 0.0000000000000002 ***\n",
       "transmission_dummy    < 0.0000000000000002 ***\n",
       "black                             0.997310    \n",
       "silver                < 0.0000000000000002 ***\n",
       "blue                              0.001414 ** \n",
       "white                    0.000003880440975 ***\n",
       "grey                              0.644518    \n",
       "red                               0.002001 ** \n",
       "other_color              0.000048870556005 ***\n",
       "Volkswagen            < 0.0000000000000002 ***\n",
       "Opel                              0.040436 *  \n",
       "BMW                   < 0.0000000000000002 ***\n",
       "Ford                              0.027866 *  \n",
       "Renault                  0.000000000006009 ***\n",
       "Audi                  < 0.0000000000000002 ***\n",
       "other_manufaturer                       NA    \n",
       "diesel                            0.000485 ***\n",
       "electric                                NA    \n",
       "gas                                     NA    \n",
       "gasoline                 0.000000000000709 ***\n",
       "`hybrid-diesel`                   0.774902    \n",
       "`hybrid-petrol`                         NA    \n",
       "diesel_type                             NA    \n",
       "electric_type                           NA    \n",
       "gasoline_type                           NA    \n",
       "sedan                 < 0.0000000000000002 ***\n",
       "hatchback             < 0.0000000000000002 ***\n",
       "universal             < 0.0000000000000002 ***\n",
       "suv                   < 0.0000000000000002 ***\n",
       "minibus               < 0.0000000000000002 ***\n",
       "other_type                              NA    \n",
       "emergency                0.000000003964495 ***\n",
       "new                   < 0.0000000000000002 ***\n",
       "owned                                   NA    \n",
       "all                   < 0.0000000000000002 ***\n",
       "front                 < 0.0000000000000002 ***\n",
       "rear                                    NA    \n",
       "---\n",
       "Signif. codes:  0 '***' 0.001 '**' 0.01 '*' 0.05 '.' 0.1 ' ' 1\n",
       "\n",
       "Residual standard error: 3378 on 26335 degrees of freedom\n",
       "Multiple R-squared:  0.7236,\tAdjusted R-squared:  0.7233 \n",
       "F-statistic:  2155 on 32 and 26335 DF,  p-value: < 0.00000000000000022\n"
      ]
     },
     "metadata": {},
     "output_type": "display_data"
    }
   ],
   "source": [
    "# build a linear regression model and analyze the importance of each variables.\n",
    "\n",
    "car_linear <- lm( price_usd ~ ., data = car_training_data)\n",
    "car_linear\n",
    "summary(car_linear)\n"
   ]
  },
  {
   "cell_type": "markdown",
   "id": "crucial-yacht",
   "metadata": {},
   "source": [
    "Let's watch the result. \n",
    "\n",
    "Very Important variables(***): odometer_value, year_produced, engine_capacity, dummy_has_warranty, dummy_engine_has_gas, transmission_dummy, silver, white, other_color, Volkswagen, BMW, Renault, Audi, diesel, gasoline, sedan, hatchback, universal, suv, minibus, emergency, new, all, front.\n",
    "\n",
    "Important variables(**): blue, red\n",
    "\n",
    "Less Important variables(*): dummy_is_exchangeable, Opel, Ford .\n",
    "\n",
    "Non-Important variables( ):black, grey\n",
    "\n",
    "\n",
    "Here, we have many variables, so we should prefer Adjusted R-squared to Multiple R-squared. \n",
    "Adjusted R-squared is 0.7233, which means the data has moderate linearity. \n",
    "\n",
    "NA value is because the variables have colinearity and high correlation with other variables.\n",
    "\n",
    "\n",
    "\n"
   ]
  },
  {
   "cell_type": "code",
   "execution_count": 189,
   "id": "moral-feelings",
   "metadata": {
    "vscode": {
     "languageId": "r"
    }
   },
   "outputs": [
    {
     "name": "stderr",
     "output_type": "stream",
     "text": [
      "Warning message:\n",
      "\"not plotting observations with leverage one:\n",
      "  610\"Warning message:\n",
      "\"not plotting observations with leverage one:\n",
      "  610\""
     ]
    },
    {
     "data": {
      "image/png": "[encoded data removed]",
      "text/plain": [
       "Plot with title \"\""
      ]
     },
     "metadata": {},
     "output_type": "display_data"
    }
   ],
   "source": [
    "# making graph to show the fitness of model. \n",
    "\n",
    "par(mfrow = c(2,2))\n",
    "plot(car_linear)"
   ]
  },
  {
   "cell_type": "markdown",
   "id": "overall-sarah",
   "metadata": {},
   "source": [
    "Residual VS Fitted graph: shows the strongness of residual's homoskedasticity(The variability in Y values for a given set of predictors \n",
    "                                                                                 is the same regradless of the values of the predictors). So, horizontal line represents predicted y value, and vertical line represents residuals (actual value-predicted value). In this graph, the red line is curved much. So, it doesn't seem to satisfy homoskedasticity.\n",
    "\n",
    "Normal QQ of residuals: plotting two sets of quantiles against one another. \n",
    "If both sets of quantiles came from the same distribution, we should see the points forming a line that's roughly straight. But, in this graph, it's hard to be seen as straight."
   ]
  },
  {
   "cell_type": "code",
   "execution_count": 190,
   "id": "everyday-aging",
   "metadata": {
    "vscode": {
     "languageId": "r"
    }
   },
   "outputs": [
    {
     "data": {
      "image/png": "[encoded data removed]",
      "text/plain": [
       "plot without title"
      ]
     },
     "metadata": {},
     "output_type": "display_data"
    }
   ],
   "source": [
    "# Plot the result\n",
    "plot(car_training_data1$price_usd, fitted(car_linear), \n",
    "     xlim = c(0,60000), ylim = c(0,60000))\n",
    "abline(0,1,lty=3)"
   ]
  },
  {
   "cell_type": "markdown",
   "id": "treated-auditor",
   "metadata": {},
   "source": [
    "Here, \"car_training_data1$price_usd\" is real value of the data,  \"fitted(car_linear)\" is estimated value. \n",
    "So, this graph shows how much the difference is between the actual value and the estimated value.\n",
    "The slope line means Y=x. Here the dotted plot is not that much concentrated around the slope line, which means this data doesn't\n",
    "have linearity and less suitable for linear regression model."
   ]
  },
  {
   "cell_type": "code",
   "execution_count": 61,
   "id": "reliable-arthritis",
   "metadata": {
    "vscode": {
     "languageId": "r"
    }
   },
   "outputs": [
    {
     "name": "stderr",
     "output_type": "stream",
     "text": [
      "Warning message in predict.lm(car_linear, newdata = car_test_data):\n",
      "\"prediction from a rank-deficient fit may be misleading\""
     ]
    },
    {
     "data": {
      "text/html": [
       "<table>\n",
       "<thead><tr><th></th><th scope=col>RMSE</th><th scope=col>MAE</th><th scope=col>MAPE</th></tr></thead>\n",
       "<tbody>\n",
       "\t<tr><th scope=row>car</th><td>3405.938</td><td>2148.64 </td><td>87.64733</td></tr>\n",
       "</tbody>\n",
       "</table>\n"
      ],
      "text/latex": [
       "\\begin{tabular}{r|lll}\n",
       "  & RMSE & MAE & MAPE\\\\\n",
       "\\hline\n",
       "\tcar & 3405.938 & 2148.64  & 87.64733\\\\\n",
       "\\end{tabular}\n"
      ],
      "text/markdown": [
       "\n",
       "| <!--/--> | RMSE | MAE | MAPE |\n",
       "|---|---|---|---|\n",
       "| car | 3405.938 | 2148.64  | 87.64733 |\n",
       "\n"
      ],
      "text/plain": [
       "    RMSE     MAE     MAPE    \n",
       "car 3405.938 2148.64 87.64733"
      ]
     },
     "metadata": {},
     "output_type": "display_data"
    }
   ],
   "source": [
    "car_linear_haty <- predict(car_linear, newdata = car_test_data)\n",
    "perf_mat[1,] <- perf_eval_reg(car_test_data$price_usd, car_linear_haty)\n",
    "perf_mat"
   ]
  },
  {
   "cell_type": "markdown",
   "id": "peripheral-client",
   "metadata": {},
   "source": [
    "Here, RMSE is 3405.938, MAE is 2148.64, and MAPE is 87.64733.\n",
    "\n",
    "Here, we interpret MAE and MAPE because those are easy to intuitively understand and thus easy to communicate.\n",
    "\n",
    "The value of MAE means that on average, the error in price prediction per unit is 2148.64 dollars\n",
    "\n",
    "The value of MAPE means that there is a relative error of about 87.65% in MLR model based on the actual selling price of each car."
   ]
  },
  {
   "cell_type": "markdown",
   "id": "sudden-proportion",
   "metadata": {},
   "source": [
    "# 7.2 logistic regression"
   ]
  },
  {
   "cell_type": "code",
   "execution_count": null,
   "id": "perfect-variable",
   "metadata": {
    "vscode": {
     "languageId": "r"
    }
   },
   "outputs": [],
   "source": [
    "install.packages(\"glmnet\")\n",
    "install.packages(\"GA\")\n",
    "install.packages(\"mice\")"
   ]
  },
  {
   "cell_type": "code",
   "execution_count": 62,
   "id": "occupational-corruption",
   "metadata": {
    "vscode": {
     "languageId": "r"
    }
   },
   "outputs": [
    {
     "name": "stderr",
     "output_type": "stream",
     "text": [
      "Warning message:\n",
      "\"package 'glmnet' was built under R version 3.6.3\"Loading required package: Matrix\n",
      "Loaded glmnet 4.1-1\n",
      "Warning message:\n",
      "\"package 'GA' was built under R version 3.6.3\"Loading required package: foreach\n",
      "Loading required package: iterators\n",
      "Package 'GA' version 3.2.1\n",
      "Type 'citation(\"GA\")' for citing this R package in publications.\n",
      "\n",
      "Attaching package: 'GA'\n",
      "\n",
      "The following object is masked from 'package:utils':\n",
      "\n",
      "    de\n",
      "\n",
      "Warning message:\n",
      "\"package 'mice' was built under R version 3.6.3\"\n",
      "Attaching package: 'mice'\n",
      "\n",
      "The following object is masked from 'package:stats':\n",
      "\n",
      "    filter\n",
      "\n",
      "The following objects are masked from 'package:base':\n",
      "\n",
      "    cbind, rbind\n",
      "\n"
     ]
    }
   ],
   "source": [
    "library(glmnet)\n",
    "library(GA)\n",
    "library(mice)"
   ]
  },
  {
   "cell_type": "code",
   "execution_count": 63,
   "id": "killing-springfield",
   "metadata": {
    "vscode": {
     "languageId": "r"
    }
   },
   "outputs": [],
   "source": [
    "# For classification, the dependent vvariable should be qualitative variable. \n",
    "# Therefore, we use binary classification for dependent variable"
   ]
  },
  {
   "cell_type": "code",
   "execution_count": 64,
   "id": "impossible-museum",
   "metadata": {
    "vscode": {
     "languageId": "r"
    }
   },
   "outputs": [
    {
     "data": {
      "text/html": [
       "TRUE"
      ],
      "text/latex": [
       "TRUE"
      ],
      "text/markdown": [
       "TRUE"
      ],
      "text/plain": [
       "[1] TRUE"
      ]
     },
     "metadata": {},
     "output_type": "display_data"
    }
   ],
   "source": [
    "is.numeric(car_data$price_usd)"
   ]
  },
  {
   "cell_type": "markdown",
   "id": "helpful-temperature",
   "metadata": {},
   "source": [
    "We can see that the dependent variable(price_usd) is continuous numeric type of variable"
   ]
  },
  {
   "cell_type": "code",
   "execution_count": 65,
   "id": "subjective-chain",
   "metadata": {
    "vscode": {
     "languageId": "r"
    }
   },
   "outputs": [],
   "source": [
    "price_category=cut(car_data$price_usd, breaks=c(0,25000,50001), labels=c(\"0\",\"1\"), right=FALSE)"
   ]
  },
  {
   "cell_type": "markdown",
   "id": "looking-corner",
   "metadata": {},
   "source": [
    "But, we change it into categorical variable. If the price is between 0 and 25000, we consider it cheap.\n",
    "If the price is between 25000 and 50000, we consider it expensive"
   ]
  },
  {
   "cell_type": "code",
   "execution_count": 66,
   "id": "alpha-spotlight",
   "metadata": {
    "vscode": {
     "languageId": "r"
    }
   },
   "outputs": [],
   "source": [
    "car_data_for_log <- cbind(price_category,car_data[,-c(1)])"
   ]
  },
  {
   "cell_type": "markdown",
   "id": "amazing-coverage",
   "metadata": {},
   "source": [
    "Here, we deduct the continuous numeric value(price_usd) for car_data, and add the qualitative binary variable(price_category)."
   ]
  },
  {
   "cell_type": "code",
   "execution_count": 67,
   "id": "dominican-ancient",
   "metadata": {
    "vscode": {
     "languageId": "r"
    }
   },
   "outputs": [
    {
     "data": {
      "text/plain": [
       " price_category odometer_value    year_produced  engine_capacity\n",
       " 0:36807        Min.   :      0   Min.   :1960   Min.   :0.200  \n",
       " 1:  862        1st Qu.: 160000   1st Qu.:1998   1st Qu.:1.600  \n",
       "                Median : 250000   Median :2003   Median :2.000  \n",
       "                Mean   : 251114   Mean   :2003   Mean   :2.061  \n",
       "                3rd Qu.: 326000   3rd Qu.:2009   3rd Qu.:2.300  \n",
       "                Max.   :1000000   Max.   :2019   Max.   :7.500  \n",
       " dummy_is_exchangeable dummy_has_warranty dummy_engine_has_gas\n",
       " Min.   :0.0000        Min.   :0.00000    Min.   :0.00000     \n",
       " 1st Qu.:0.0000        1st Qu.:0.00000    1st Qu.:0.00000     \n",
       " Median :0.0000        Median :0.00000    Median :0.00000     \n",
       " Mean   :0.3542        Mean   :0.01187    Mean   :0.03451     \n",
       " 3rd Qu.:1.0000        3rd Qu.:0.00000    3rd Qu.:0.00000     \n",
       " Max.   :1.0000        Max.   :1.00000    Max.   :1.00000     \n",
       " transmission_dummy     black            silver            blue       \n",
       " Min.   :0.0000     Min.   :0.0000   Min.   :0.0000   Min.   :0.0000  \n",
       " 1st Qu.:0.0000     1st Qu.:0.0000   1st Qu.:0.0000   1st Qu.:0.0000  \n",
       " Median :1.0000     Median :0.0000   Median :0.0000   Median :0.0000  \n",
       " Mean   :0.6579     Mean   :0.2026   Mean   :0.1805   Mean   :0.1509  \n",
       " 3rd Qu.:1.0000     3rd Qu.:0.0000   3rd Qu.:0.0000   3rd Qu.:0.0000  \n",
       " Max.   :1.0000     Max.   :1.0000   Max.   :1.0000   Max.   :1.0000  \n",
       "     white             grey              red         other_color     \n",
       " Min.   :0.0000   Min.   :0.00000   Min.   :0.000   Min.   :0.00000  \n",
       " 1st Qu.:0.0000   1st Qu.:0.00000   1st Qu.:0.000   1st Qu.:0.00000  \n",
       " Median :0.0000   Median :0.00000   Median :0.000   Median :0.00000  \n",
       " Mean   :0.1075   Mean   :0.09836   Mean   :0.075   Mean   :0.06876  \n",
       " 3rd Qu.:0.0000   3rd Qu.:0.00000   3rd Qu.:0.000   3rd Qu.:0.00000  \n",
       " Max.   :1.0000   Max.   :1.00000   Max.   :1.000   Max.   :1.00000  \n",
       "   Volkswagen          Opel              BMW               Ford        \n",
       " Min.   :0.0000   Min.   :0.00000   Min.   :0.00000   Min.   :0.00000  \n",
       " 1st Qu.:0.0000   1st Qu.:0.00000   1st Qu.:0.00000   1st Qu.:0.00000  \n",
       " Median :0.0000   Median :0.00000   Median :0.00000   Median :0.00000  \n",
       " Mean   :0.1126   Mean   :0.07324   Mean   :0.06923   Mean   :0.06812  \n",
       " 3rd Qu.:0.0000   3rd Qu.:0.00000   3rd Qu.:0.00000   3rd Qu.:0.00000  \n",
       " Max.   :1.0000   Max.   :1.00000   Max.   :1.00000   Max.   :1.00000  \n",
       "    Renault             Audi         other_manufaturer     diesel      \n",
       " Min.   :0.00000   Min.   :0.00000   Min.   :0         Min.   :0.0000  \n",
       " 1st Qu.:0.00000   1st Qu.:0.00000   1st Qu.:0         1st Qu.:0.0000  \n",
       " Median :0.00000   Median :0.00000   Median :0         Median :0.0000  \n",
       " Mean   :0.06618   Mean   :0.06552   Mean   :0         Mean   :0.3411  \n",
       " 3rd Qu.:0.00000   3rd Qu.:0.00000   3rd Qu.:0         3rd Qu.:1.0000  \n",
       " Max.   :1.00000   Max.   :1.00000   Max.   :0         Max.   :1.0000  \n",
       "    electric      gas             gasoline      hybrid-diesel      \n",
       " Min.   :0   Min.   :0.00000   Min.   :0.0000   Min.   :0.0000000  \n",
       " 1st Qu.:0   1st Qu.:0.00000   1st Qu.:0.0000   1st Qu.:0.0000000  \n",
       " Median :0   Median :0.00000   Median :1.0000   Median :0.0000000  \n",
       " Mean   :0   Mean   :0.03451   Mean   :0.6181   Mean   :0.0000531  \n",
       " 3rd Qu.:0   3rd Qu.:0.00000   3rd Qu.:1.0000   3rd Qu.:0.0000000  \n",
       " Max.   :0   Max.   :1.00000   Max.   :1.0000   Max.   :1.0000000  \n",
       " hybrid-petrol       diesel_type     electric_type gasoline_type   \n",
       " Min.   :0.000000   Min.   :0.0000   Min.   :0     Min.   :0.0000  \n",
       " 1st Qu.:0.000000   1st Qu.:0.0000   1st Qu.:0     1st Qu.:0.0000  \n",
       " Median :0.000000   Median :0.0000   Median :0     Median :1.0000  \n",
       " Mean   :0.006239   Mean   :0.3411   Mean   :0     Mean   :0.6589  \n",
       " 3rd Qu.:0.000000   3rd Qu.:1.0000   3rd Qu.:0     3rd Qu.:1.0000  \n",
       " Max.   :1.000000   Max.   :1.0000   Max.   :0     Max.   :1.0000  \n",
       "     sedan          hatchback        universal           suv        \n",
       " Min.   :0.0000   Min.   :0.0000   Min.   :0.0000   Min.   :0.0000  \n",
       " 1st Qu.:0.0000   1st Qu.:0.0000   1st Qu.:0.0000   1st Qu.:0.0000  \n",
       " Median :0.0000   Median :0.0000   Median :0.0000   Median :0.0000  \n",
       " Mean   :0.3334   Mean   :0.1992   Mean   :0.1452   Mean   :0.1337  \n",
       " 3rd Qu.:1.0000   3rd Qu.:0.0000   3rd Qu.:0.0000   3rd Qu.:0.0000  \n",
       " Max.   :1.0000   Max.   :1.0000   Max.   :1.0000   Max.   :1.0000  \n",
       "    minibus          other_type   emergency             new         \n",
       " Min.   :0.00000   Min.   :0    Min.   :0.000000   Min.   :0.00000  \n",
       " 1st Qu.:0.00000   1st Qu.:0    1st Qu.:0.000000   1st Qu.:0.00000  \n",
       " Median :0.00000   Median :0    Median :0.000000   Median :0.00000  \n",
       " Mean   :0.03541   Mean   :0    Mean   :0.009371   Mean   :0.01163  \n",
       " 3rd Qu.:0.00000   3rd Qu.:0    3rd Qu.:0.000000   3rd Qu.:0.00000  \n",
       " Max.   :1.00000   Max.   :0    Max.   :1.000000   Max.   :1.00000  \n",
       "     owned            all             front             rear       \n",
       " Min.   :0.000   Min.   :0.0000   Min.   :0.0000   Min.   :0.0000  \n",
       " 1st Qu.:1.000   1st Qu.:0.0000   1st Qu.:0.0000   1st Qu.:0.0000  \n",
       " Median :1.000   Median :0.0000   Median :1.0000   Median :0.0000  \n",
       " Mean   :0.979   Mean   :0.1392   Mean   :0.7292   Mean   :0.1316  \n",
       " 3rd Qu.:1.000   3rd Qu.:0.0000   3rd Qu.:1.0000   3rd Qu.:0.0000  \n",
       " Max.   :1.000   Max.   :1.0000   Max.   :1.0000   Max.   :1.0000  "
      ]
     },
     "metadata": {},
     "output_type": "display_data"
    }
   ],
   "source": [
    "summary(car_data_for_log)"
   ]
  },
  {
   "cell_type": "markdown",
   "id": "excess-startup",
   "metadata": {},
   "source": [
    "We can see that priced_category cosists of the values 0 and 1 only. 1 means expensive. 0 menas cheap. "
   ]
  },
  {
   "cell_type": "code",
   "execution_count": 68,
   "id": "certain-oxygen",
   "metadata": {
    "vscode": {
     "languageId": "r"
    }
   },
   "outputs": [],
   "source": [
    "# We build fuction to evaluate performance.\n",
    "\n",
    "perf_eval2 <- function(cm){\n",
    "  \n",
    "  # True positive rate: TPR \n",
    "  TPR <- cm[2,2]/sum(cm[2,])\n",
    "  # Precision\n",
    "  PRE <- cm[2,2]/sum(cm[,2])\n",
    "  # True negative rate: TNR\n",
    "  TNR <- cm[1,1]/sum(cm[1,])\n",
    "  # Simple Accuracy\n",
    "  ACC <- (cm[1,1]+cm[2,2])/sum(cm)\n",
    "  # F1-Measure\n",
    "  F1 <- 2*TPR*PRE/(TPR+PRE)\n",
    "  \n",
    "  return(c(TPR, PRE, TNR, ACC, F1))\n",
    "}"
   ]
  },
  {
   "cell_type": "code",
   "execution_count": 69,
   "id": "silver-connecticut",
   "metadata": {
    "vscode": {
     "languageId": "r"
    }
   },
   "outputs": [],
   "source": [
    "# we initialize the performance comparison matrix\n",
    "perf_mat2 <- matrix(0,nrow = 5, ncol= 5)\n",
    "colnames(perf_mat2) <- c(\"TPR \", \"Precision\", \"TNR\", \"ACC\", \"F1\")\n",
    "rownames(perf_mat2) <- c(\"Logstic Regression\",\"Forward\", \"Backward\", \"Lidge\", \"Lasso\")\n"
   ]
  },
  {
   "cell_type": "code",
   "execution_count": 70,
   "id": "unique-plain",
   "metadata": {
    "vscode": {
     "languageId": "r"
    }
   },
   "outputs": [
    {
     "data": {
      "text/html": [
       "<table>\n",
       "<thead><tr><th></th><th scope=col>TPR </th><th scope=col>Precision</th><th scope=col>TNR</th><th scope=col>ACC</th><th scope=col>F1</th></tr></thead>\n",
       "<tbody>\n",
       "\t<tr><th scope=row>Logstic Regression</th><td>0</td><td>0</td><td>0</td><td>0</td><td>0</td></tr>\n",
       "\t<tr><th scope=row>Forward</th><td>0</td><td>0</td><td>0</td><td>0</td><td>0</td></tr>\n",
       "\t<tr><th scope=row>Backward</th><td>0</td><td>0</td><td>0</td><td>0</td><td>0</td></tr>\n",
       "\t<tr><th scope=row>Lidge</th><td>0</td><td>0</td><td>0</td><td>0</td><td>0</td></tr>\n",
       "\t<tr><th scope=row>Lasso</th><td>0</td><td>0</td><td>0</td><td>0</td><td>0</td></tr>\n",
       "</tbody>\n",
       "</table>\n"
      ],
      "text/latex": [
       "\\begin{tabular}{r|lllll}\n",
       "  & TPR  & Precision & TNR & ACC & F1\\\\\n",
       "\\hline\n",
       "\tLogstic Regression & 0 & 0 & 0 & 0 & 0\\\\\n",
       "\tForward & 0 & 0 & 0 & 0 & 0\\\\\n",
       "\tBackward & 0 & 0 & 0 & 0 & 0\\\\\n",
       "\tLidge & 0 & 0 & 0 & 0 & 0\\\\\n",
       "\tLasso & 0 & 0 & 0 & 0 & 0\\\\\n",
       "\\end{tabular}\n"
      ],
      "text/markdown": [
       "\n",
       "| <!--/--> | TPR  | Precision | TNR | ACC | F1 |\n",
       "|---|---|---|---|---|---|\n",
       "| Logstic Regression | 0 | 0 | 0 | 0 | 0 |\n",
       "| Forward | 0 | 0 | 0 | 0 | 0 |\n",
       "| Backward | 0 | 0 | 0 | 0 | 0 |\n",
       "| Lidge | 0 | 0 | 0 | 0 | 0 |\n",
       "| Lasso | 0 | 0 | 0 | 0 | 0 |\n",
       "\n"
      ],
      "text/plain": [
       "                   TPR  Precision TNR ACC F1\n",
       "Logstic Regression 0    0         0   0   0 \n",
       "Forward            0    0         0   0   0 \n",
       "Backward           0    0         0   0   0 \n",
       "Lidge              0    0         0   0   0 \n",
       "Lasso              0    0         0   0   0 "
      ]
     },
     "metadata": {},
     "output_type": "display_data"
    }
   ],
   "source": [
    "perf_mat2"
   ]
  },
  {
   "cell_type": "markdown",
   "id": "dressed-subscription",
   "metadata": {},
   "source": [
    "we will do logistic regression with all variables, and compare 4 feature selection methods( Forwaed selection, Backward selection, Lidge, Lasso)"
   ]
  },
  {
   "cell_type": "code",
   "execution_count": 71,
   "id": "employed-electric",
   "metadata": {
    "vscode": {
     "languageId": "r"
    }
   },
   "outputs": [],
   "source": [
    "# We make price_category as target variable, and the other as input variables.\n",
    "\n",
    "target_idx <- 1\n",
    "input_idx <- -c(1)\n"
   ]
  },
  {
   "cell_type": "code",
   "execution_count": 72,
   "id": "pregnant-silence",
   "metadata": {
    "vscode": {
     "languageId": "r"
    }
   },
   "outputs": [],
   "source": [
    "car_input <- car_data_for_log[,input_idx]\n",
    "car_input <- scale(car_input, center = TRUE, scale = TRUE)\n",
    "car_target <- as.factor(car_data_for_log[,target_idx])\n",
    "car_data_log <- data.frame(car_input, car_target)\n"
   ]
  },
  {
   "cell_type": "markdown",
   "id": "moving-regulation",
   "metadata": {},
   "source": [
    "Here, we normalize the input using \"scale\" with mean=o and standard deviation=1.\n",
    "Also we make new data called \"car_data_log\""
   ]
  },
  {
   "cell_type": "code",
   "execution_count": 73,
   "id": "stuck-closing",
   "metadata": {
    "vscode": {
     "languageId": "r"
    }
   },
   "outputs": [
    {
     "data": {
      "text/html": [
       "<dl class=dl-horizontal>\n",
       "\t<dt>0</dt>\n",
       "\t\t<dd>36807</dd>\n",
       "\t<dt>1</dt>\n",
       "\t\t<dd>862</dd>\n",
       "</dl>\n"
      ],
      "text/latex": [
       "\\begin{description*}\n",
       "\\item[0] 36807\n",
       "\\item[1] 862\n",
       "\\end{description*}\n"
      ],
      "text/markdown": [
       "0\n",
       ":   368071\n",
       ":   862\n",
       "\n"
      ],
      "text/plain": [
       "    0     1 \n",
       "36807   862 "
      ]
     },
     "metadata": {},
     "output_type": "display_data"
    }
   ],
   "source": [
    "# check whether target variable has converted into binary.\n",
    "\n",
    "summary(car_target)"
   ]
  },
  {
   "cell_type": "code",
   "execution_count": 74,
   "id": "declared-science",
   "metadata": {
    "vscode": {
     "languageId": "r"
    }
   },
   "outputs": [
    {
     "data": {
      "text/plain": [
       " odometer_value      year_produced      engine_capacity   \n",
       " Min.   :-1.869755   Min.   :-5.59607   Min.   :-2.76809  \n",
       " 1st Qu.:-0.678422   1st Qu.:-0.67134   1st Qu.:-0.68586  \n",
       " Median :-0.008297   Median :-0.02335   Median :-0.09093  \n",
       " Mean   : 0.000000   Mean   : 0.00000   Mean   : 0.00000  \n",
       " 3rd Qu.: 0.557586   3rd Qu.: 0.75423   3rd Qu.: 0.35526  \n",
       " Max.   : 5.576075   Max.   : 2.05022   Max.   : 8.08925  \n",
       "                                                          \n",
       " dummy_is_exchangeable dummy_has_warranty dummy_engine_has_gas\n",
       " Min.   :-0.7406       Min.   :-0.1096    Min.   :-0.1891     \n",
       " 1st Qu.:-0.7406       1st Qu.:-0.1096    1st Qu.:-0.1891     \n",
       " Median :-0.7406       Median :-0.1096    Median :-0.1891     \n",
       " Mean   : 0.0000       Mean   : 0.0000    Mean   : 0.0000     \n",
       " 3rd Qu.: 1.3502       3rd Qu.:-0.1096    3rd Qu.:-0.1891     \n",
       " Max.   : 1.3502       Max.   : 9.1252    Max.   : 5.2892     \n",
       "                                                              \n",
       " transmission_dummy     black            silver             blue        \n",
       " Min.   :-1.387     Min.   :-0.504   Min.   :-0.4693   Min.   :-0.4215  \n",
       " 1st Qu.:-1.387     1st Qu.:-0.504   1st Qu.:-0.4693   1st Qu.:-0.4215  \n",
       " Median : 0.721     Median :-0.504   Median :-0.4693   Median :-0.4215  \n",
       " Mean   : 0.000     Mean   : 0.000   Mean   : 0.0000   Mean   : 0.0000  \n",
       " 3rd Qu.: 0.721     3rd Qu.:-0.504   3rd Qu.:-0.4693   3rd Qu.:-0.4215  \n",
       " Max.   : 0.721     Max.   : 1.984   Max.   : 2.1308   Max.   : 2.3721  \n",
       "                                                                        \n",
       "     white              grey              red           other_color     \n",
       " Min.   :-0.3471   Min.   :-0.3303   Min.   :-0.2847   Min.   :-0.2717  \n",
       " 1st Qu.:-0.3471   1st Qu.:-0.3303   1st Qu.:-0.2847   1st Qu.:-0.2717  \n",
       " Median :-0.3471   Median :-0.3303   Median :-0.2847   Median :-0.2717  \n",
       " Mean   : 0.0000   Mean   : 0.0000   Mean   : 0.0000   Mean   : 0.0000  \n",
       " 3rd Qu.:-0.3471   3rd Qu.:-0.3303   3rd Qu.:-0.2847   3rd Qu.:-0.2717  \n",
       " Max.   : 2.8807   Max.   : 3.0277   Max.   : 3.5120   Max.   : 3.6802  \n",
       "                                                                        \n",
       "   Volkswagen           Opel              BMW               Ford        \n",
       " Min.   :-0.3563   Min.   :-0.2811   Min.   :-0.2727   Min.   :-0.2704  \n",
       " 1st Qu.:-0.3563   1st Qu.:-0.2811   1st Qu.:-0.2727   1st Qu.:-0.2704  \n",
       " Median :-0.3563   Median :-0.2811   Median :-0.2727   Median :-0.2704  \n",
       " Mean   : 0.0000   Mean   : 0.0000   Mean   : 0.0000   Mean   : 0.0000  \n",
       " 3rd Qu.:-0.3563   3rd Qu.:-0.2811   3rd Qu.:-0.2727   3rd Qu.:-0.2704  \n",
       " Max.   : 2.8067   Max.   : 3.5571   Max.   : 3.6665   Max.   : 3.6986  \n",
       "                                                                        \n",
       "    Renault             Audi         other_manufaturer     diesel       \n",
       " Min.   :-0.2662   Min.   :-0.2648   Min.   : NA       Min.   :-0.7195  \n",
       " 1st Qu.:-0.2662   1st Qu.:-0.2648   1st Qu.: NA       1st Qu.:-0.7195  \n",
       " Median :-0.2662   Median :-0.2648   Median : NA       Median :-0.7195  \n",
       " Mean   : 0.0000   Mean   : 0.0000   Mean   :NaN       Mean   : 0.0000  \n",
       " 3rd Qu.:-0.2662   3rd Qu.:-0.2648   3rd Qu.: NA       3rd Qu.: 1.3899  \n",
       " Max.   : 3.7563   Max.   : 3.7766   Max.   : NA       Max.   : 1.3899  \n",
       "                                     NA's   :37669                      \n",
       "    electric          gas             gasoline      hybrid.diesel      \n",
       " Min.   : NA     Min.   :-0.1891   Min.   :-1.272   Min.   : -0.00729  \n",
       " 1st Qu.: NA     1st Qu.:-0.1891   1st Qu.:-1.272   1st Qu.: -0.00729  \n",
       " Median : NA     Median :-0.1891   Median : 0.786   Median : -0.00729  \n",
       " Mean   :NaN     Mean   : 0.0000   Mean   : 0.000   Mean   :  0.00000  \n",
       " 3rd Qu.: NA     3rd Qu.:-0.1891   3rd Qu.: 0.786   3rd Qu.: -0.00729  \n",
       " Max.   : NA     Max.   : 5.2892   Max.   : 0.786   Max.   :137.23338  \n",
       " NA's   :37669                                                         \n",
       " hybrid.petrol       diesel_type      electric_type   gasoline_type    \n",
       " Min.   :-0.07923   Min.   :-0.7195   Min.   : NA     Min.   :-1.3897  \n",
       " 1st Qu.:-0.07923   1st Qu.:-0.7195   1st Qu.: NA     1st Qu.:-1.3897  \n",
       " Median :-0.07923   Median :-0.7195   Median : NA     Median : 0.7195  \n",
       " Mean   : 0.00000   Mean   : 0.0000   Mean   :NaN     Mean   : 0.0000  \n",
       " 3rd Qu.:-0.07923   3rd Qu.: 1.3897   3rd Qu.: NA     3rd Qu.: 0.7195  \n",
       " Max.   :12.62099   Max.   : 1.3897   Max.   : NA     Max.   : 0.7195  \n",
       "                                      NA's   :37669                    \n",
       "     sedan           hatchback         universal            suv         \n",
       " Min.   :-0.7072   Min.   :-0.4987   Min.   :-0.4122   Min.   :-0.3929  \n",
       " 1st Qu.:-0.7072   1st Qu.:-0.4987   1st Qu.:-0.4122   1st Qu.:-0.3929  \n",
       " Median :-0.7072   Median :-0.4987   Median :-0.4122   Median :-0.3929  \n",
       " Mean   : 0.0000   Mean   : 0.0000   Mean   : 0.0000   Mean   : 0.0000  \n",
       " 3rd Qu.: 1.4140   3rd Qu.:-0.4987   3rd Qu.:-0.4122   3rd Qu.:-0.3929  \n",
       " Max.   : 1.4140   Max.   : 2.0051   Max.   : 2.4259   Max.   : 2.5452  \n",
       "                                                                        \n",
       "    minibus          other_type      emergency             new         \n",
       " Min.   :-0.1916   Min.   : NA     Min.   :-0.09726   Min.   :-0.1085  \n",
       " 1st Qu.:-0.1916   1st Qu.: NA     1st Qu.:-0.09726   1st Qu.:-0.1085  \n",
       " Median :-0.1916   Median : NA     Median :-0.09726   Median :-0.1085  \n",
       " Mean   : 0.0000   Mean   :NaN     Mean   : 0.00000   Mean   : 0.0000  \n",
       " 3rd Qu.:-0.1916   3rd Qu.: NA     3rd Qu.:-0.09726   3rd Qu.:-0.1085  \n",
       " Max.   : 5.2189   Max.   : NA     Max.   :10.28145   Max.   : 9.2195  \n",
       "                   NA's   :37669                                       \n",
       "     owned              all              front              rear        \n",
       " Min.   :-6.8279   Min.   :-0.4021   Min.   :-1.6409   Min.   :-0.3893  \n",
       " 1st Qu.: 0.1465   1st Qu.:-0.4021   1st Qu.:-1.6409   1st Qu.:-0.3893  \n",
       " Median : 0.1465   Median :-0.4021   Median : 0.6094   Median :-0.3893  \n",
       " Mean   : 0.0000   Mean   : 0.0000   Mean   : 0.0000   Mean   : 0.0000  \n",
       " 3rd Qu.: 0.1465   3rd Qu.:-0.4021   3rd Qu.: 0.6094   3rd Qu.:-0.3893  \n",
       " Max.   : 0.1465   Max.   : 2.4866   Max.   : 0.6094   Max.   : 2.5688  \n",
       "                                                                        \n",
       " car_target\n",
       " 0:36807   \n",
       " 1:  862   \n",
       "           \n",
       "           \n",
       "           \n",
       "           \n",
       "           "
      ]
     },
     "metadata": {},
     "output_type": "display_data"
    }
   ],
   "source": [
    "summary(car_data_log)"
   ]
  },
  {
   "cell_type": "markdown",
   "id": "seventh-kingdom",
   "metadata": {},
   "source": [
    "As we see, newly created data (car_data_log) is diffenent to previous data(car_data).\n",
    "This is because in new data, variables are normalized with mean=0 and standard deviation=1."
   ]
  },
  {
   "cell_type": "code",
   "execution_count": 75,
   "id": "overhead-authentication",
   "metadata": {
    "vscode": {
     "languageId": "r"
    }
   },
   "outputs": [],
   "source": [
    "# We delete the variables with NA values(other_type,other_manufaturer, electric_type, electric ) from new data to exercise glm function.\n",
    "\n",
    "car_data_log_new <- car_data_log[,c(-21,-23,-29, -36)]"
   ]
  },
  {
   "cell_type": "code",
   "execution_count": 76,
   "id": "banner-preference",
   "metadata": {
    "vscode": {
     "languageId": "r"
    }
   },
   "outputs": [],
   "source": [
    "# We split newly created data into training data and test data. \n",
    "# 70% of the data is training data, 30% is test data.\n",
    "\n",
    "set.seed(23456)\n",
    "car_training_idx2 <- sample(1:nrow(car_data_log_new), round(0.7*nrow(car_data_log_new)))\n",
    "car_training_data2 <- na.omit(car_data_log_new[car_training_idx2,])\n",
    "car_test_data2 <- na.omit(car_data_log_new[-car_training_idx2,])"
   ]
  },
  {
   "cell_type": "code",
   "execution_count": 77,
   "id": "measured-sweet",
   "metadata": {
    "vscode": {
     "languageId": "r"
    }
   },
   "outputs": [
    {
     "name": "stderr",
     "output_type": "stream",
     "text": [
      "Warning message:\n",
      "\"glm.fit: fitted probabilities numerically 0 or 1 occurred\""
     ]
    },
    {
     "data": {
      "text/plain": [
       "\n",
       "Call:\n",
       "glm(formula = car_target ~ ., family = binomial, data = car_training_data2)\n",
       "\n",
       "Deviance Residuals: \n",
       "    Min       1Q   Median       3Q      Max  \n",
       "-2.4324  -0.0136  -0.0007   0.0000   5.1350  \n",
       "\n",
       "Coefficients: (6 not defined because of singularities)\n",
       "                       Estimate Std. Error z value             Pr(>|z|)    \n",
       "(Intercept)           -15.28789   31.88368  -0.479             0.631590    \n",
       "odometer_value         -1.35378    0.18236  -7.423  0.00000000000011409 ***\n",
       "year_produced           5.44880    0.29544  18.443 < 0.0000000000000002 ***\n",
       "engine_capacity         1.11815    0.06619  16.892 < 0.0000000000000002 ***\n",
       "dummy_is_exchangeable   0.04684    0.06574   0.713             0.476146    \n",
       "dummy_has_warranty     -0.02227    0.04014  -0.555             0.579117    \n",
       "dummy_engine_has_gas   -0.57356    0.19227  -2.983             0.002853 ** \n",
       "transmission_dummy     -0.64764    0.09969  -6.497  0.00000000008212535 ***\n",
       "black                   0.03423    0.09112   0.376             0.707156    \n",
       "silver                  0.05427    0.11072   0.490             0.623999    \n",
       "blue                   -0.03162    0.10862  -0.291             0.770932    \n",
       "white                  -0.06789    0.07736  -0.878             0.380126    \n",
       "grey                   -0.04394    0.08194  -0.536             0.591756    \n",
       "red                    -0.18770    0.10343  -1.815             0.069546 .  \n",
       "other_color            -0.02423    0.08280  -0.293             0.769802    \n",
       "Volkswagen              0.17411    0.08926   1.951             0.051098 .  \n",
       "Opel                   -3.79836  107.90503  -0.035             0.971920    \n",
       "BMW                     0.24321    0.04632   5.250  0.00000015173420918 ***\n",
       "Ford                   -0.16364    0.09607  -1.703             0.088495 .  \n",
       "Renault                -0.58607    0.14873  -3.941  0.00008127869661797 ***\n",
       "Audi                    0.14771    0.06937   2.129             0.033222 *  \n",
       "diesel                  0.28823    0.30804   0.936             0.349423    \n",
       "gas                          NA         NA      NA                   NA    \n",
       "gasoline               -0.53256    0.31003  -1.718             0.085832 .  \n",
       "hybrid.diesel           0.16178  213.13578   0.001             0.999394    \n",
       "hybrid.petrol                NA         NA      NA                   NA    \n",
       "diesel_type                  NA         NA      NA                   NA    \n",
       "gasoline_type                NA         NA      NA                   NA    \n",
       "sedan                  -0.27087    0.11642  -2.327             0.019978 *  \n",
       "hatchback              -0.44082    0.20575  -2.143             0.032150 *  \n",
       "universal              -0.59414    0.16301  -3.645             0.000268 ***\n",
       "suv                     0.03445    0.08402   0.410             0.681761    \n",
       "minibus                 0.54707    0.06945   7.877  0.00000000000000335 ***\n",
       "emergency              -1.57179  100.10898  -0.016             0.987473    \n",
       "new                     0.08096    0.03964   2.042             0.041112 *  \n",
       "owned                        NA         NA      NA                   NA    \n",
       "all                     0.10893    0.08257   1.319             0.187080    \n",
       "front                  -0.86530    0.11490  -7.531  0.00000000000005036 ***\n",
       "rear                         NA         NA      NA                   NA    \n",
       "---\n",
       "Signif. codes:  0 '***' 0.001 '**' 0.01 '*' 0.05 '.' 0.1 ' ' 1\n",
       "\n",
       "(Dispersion parameter for binomial family taken to be 1)\n",
       "\n",
       "    Null deviance: 5703.2  on 26367  degrees of freedom\n",
       "Residual deviance: 1815.0  on 26335  degrees of freedom\n",
       "AIC: 1881\n",
       "\n",
       "Number of Fisher Scoring iterations: 20\n"
      ]
     },
     "metadata": {},
     "output_type": "display_data"
    }
   ],
   "source": [
    "#The first model uses all the variables to create a logistic regression analysis.\n",
    "\n",
    "full_train <- glm(car_target ~ .,family=binomial, data= car_training_data2)\n",
    "summary(full_train)"
   ]
  },
  {
   "cell_type": "markdown",
   "id": "loving-charlotte",
   "metadata": {},
   "source": [
    "Let's watch the result. In predicting whether the price of used car is expensive or cheap, D\n",
    "\n",
    "Very Important variables(***): odometer_value, year_produced, engine_capacity, transmission_dummy, BMW, Renault, universal,\n",
    "                                minibus, front. \n",
    "\n",
    "\n",
    "Important variables(**): dummy_engine_has_gas.\n",
    "\n",
    "Less Important variables(*): Audi, sedan, hatchback, new. \n",
    "\n",
    "Non-Important variables( ):the remaining variables exept above variables.\n",
    "\n",
    "\n",
    "NA value is because the variables have colinearity and high correlation with other variables."
   ]
  },
  {
   "cell_type": "code",
   "execution_count": 158,
   "id": "duplicate-laser",
   "metadata": {
    "vscode": {
     "languageId": "r"
    }
   },
   "outputs": [
    {
     "data": {
      "text/html": [
       "<table>\n",
       "<tbody>\n",
       "\t<tr><th scope=row>(Intercept)</th><td>-15.28789002</td></tr>\n",
       "\t<tr><th scope=row>odometer_value</th><td> -1.35377620</td></tr>\n",
       "\t<tr><th scope=row>year_produced</th><td>  5.44880489</td></tr>\n",
       "\t<tr><th scope=row>engine_capacity</th><td>  1.11814710</td></tr>\n",
       "\t<tr><th scope=row>dummy_is_exchangeable</th><td>  0.04684299</td></tr>\n",
       "\t<tr><th scope=row>dummy_has_warranty</th><td> -0.02226507</td></tr>\n",
       "\t<tr><th scope=row>dummy_engine_has_gas</th><td> -0.57356355</td></tr>\n",
       "\t<tr><th scope=row>transmission_dummy</th><td> -0.64764174</td></tr>\n",
       "\t<tr><th scope=row>black</th><td>  0.03423083</td></tr>\n",
       "\t<tr><th scope=row>silver</th><td>  0.05427213</td></tr>\n",
       "\t<tr><th scope=row>blue</th><td> -0.03162395</td></tr>\n",
       "\t<tr><th scope=row>white</th><td> -0.06789187</td></tr>\n",
       "\t<tr><th scope=row>grey</th><td> -0.04394172</td></tr>\n",
       "\t<tr><th scope=row>red</th><td> -0.18770482</td></tr>\n",
       "\t<tr><th scope=row>other_color</th><td> -0.02423097</td></tr>\n",
       "\t<tr><th scope=row>Volkswagen</th><td>  0.17411131</td></tr>\n",
       "\t<tr><th scope=row>Opel</th><td> -3.79835650</td></tr>\n",
       "\t<tr><th scope=row>BMW</th><td>  0.24320774</td></tr>\n",
       "\t<tr><th scope=row>Ford</th><td> -0.16363997</td></tr>\n",
       "\t<tr><th scope=row>Renault</th><td> -0.58607114</td></tr>\n",
       "\t<tr><th scope=row>Audi</th><td>  0.14771228</td></tr>\n",
       "\t<tr><th scope=row>diesel</th><td>  0.28823464</td></tr>\n",
       "\t<tr><th scope=row>gas</th><td>          NA</td></tr>\n",
       "\t<tr><th scope=row>gasoline</th><td> -0.53256466</td></tr>\n",
       "\t<tr><th scope=row>hybrid.diesel</th><td>  0.16178214</td></tr>\n",
       "\t<tr><th scope=row>hybrid.petrol</th><td>          NA</td></tr>\n",
       "\t<tr><th scope=row>diesel_type</th><td>          NA</td></tr>\n",
       "\t<tr><th scope=row>gasoline_type</th><td>          NA</td></tr>\n",
       "\t<tr><th scope=row>sedan</th><td> -0.27087401</td></tr>\n",
       "\t<tr><th scope=row>hatchback</th><td> -0.44082358</td></tr>\n",
       "\t<tr><th scope=row>universal</th><td> -0.59413736</td></tr>\n",
       "\t<tr><th scope=row>suv</th><td>  0.03445186</td></tr>\n",
       "\t<tr><th scope=row>minibus</th><td>  0.54706539</td></tr>\n",
       "\t<tr><th scope=row>emergency</th><td> -1.57179216</td></tr>\n",
       "\t<tr><th scope=row>new</th><td>  0.08096472</td></tr>\n",
       "\t<tr><th scope=row>owned</th><td>          NA</td></tr>\n",
       "\t<tr><th scope=row>all</th><td>  0.10893202</td></tr>\n",
       "\t<tr><th scope=row>front</th><td> -0.86530043</td></tr>\n",
       "\t<tr><th scope=row>rear</th><td>          NA</td></tr>\n",
       "</tbody>\n",
       "</table>\n"
      ],
      "text/latex": [
       "\\begin{tabular}{r|l}\n",
       "\t(Intercept) & -15.28789002\\\\\n",
       "\todometer\\_value &  -1.35377620\\\\\n",
       "\tyear\\_produced &   5.44880489\\\\\n",
       "\tengine\\_capacity &   1.11814710\\\\\n",
       "\tdummy\\_is\\_exchangeable &   0.04684299\\\\\n",
       "\tdummy\\_has\\_warranty &  -0.02226507\\\\\n",
       "\tdummy\\_engine\\_has\\_gas &  -0.57356355\\\\\n",
       "\ttransmission\\_dummy &  -0.64764174\\\\\n",
       "\tblack &   0.03423083\\\\\n",
       "\tsilver &   0.05427213\\\\\n",
       "\tblue &  -0.03162395\\\\\n",
       "\twhite &  -0.06789187\\\\\n",
       "\tgrey &  -0.04394172\\\\\n",
       "\tred &  -0.18770482\\\\\n",
       "\tother\\_color &  -0.02423097\\\\\n",
       "\tVolkswagen &   0.17411131\\\\\n",
       "\tOpel &  -3.79835650\\\\\n",
       "\tBMW &   0.24320774\\\\\n",
       "\tFord &  -0.16363997\\\\\n",
       "\tRenault &  -0.58607114\\\\\n",
       "\tAudi &   0.14771228\\\\\n",
       "\tdiesel &   0.28823464\\\\\n",
       "\tgas &           NA\\\\\n",
       "\tgasoline &  -0.53256466\\\\\n",
       "\thybrid.diesel &   0.16178214\\\\\n",
       "\thybrid.petrol &           NA\\\\\n",
       "\tdiesel\\_type &           NA\\\\\n",
       "\tgasoline\\_type &           NA\\\\\n",
       "\tsedan &  -0.27087401\\\\\n",
       "\thatchback &  -0.44082358\\\\\n",
       "\tuniversal &  -0.59413736\\\\\n",
       "\tsuv &   0.03445186\\\\\n",
       "\tminibus &   0.54706539\\\\\n",
       "\temergency &  -1.57179216\\\\\n",
       "\tnew &   0.08096472\\\\\n",
       "\towned &           NA\\\\\n",
       "\tall &   0.10893202\\\\\n",
       "\tfront &  -0.86530043\\\\\n",
       "\trear &           NA\\\\\n",
       "\\end{tabular}\n"
      ],
      "text/markdown": [
       "\n",
       "| (Intercept) | -15.28789002 |\n",
       "| odometer_value |  -1.35377620 |\n",
       "| year_produced |   5.44880489 |\n",
       "| engine_capacity |   1.11814710 |\n",
       "| dummy_is_exchangeable |   0.04684299 |\n",
       "| dummy_has_warranty |  -0.02226507 |\n",
       "| dummy_engine_has_gas |  -0.57356355 |\n",
       "| transmission_dummy |  -0.64764174 |\n",
       "| black |   0.03423083 |\n",
       "| silver |   0.05427213 |\n",
       "| blue |  -0.03162395 |\n",
       "| white |  -0.06789187 |\n",
       "| grey |  -0.04394172 |\n",
       "| red |  -0.18770482 |\n",
       "| other_color |  -0.02423097 |\n",
       "| Volkswagen |   0.17411131 |\n",
       "| Opel |  -3.79835650 |\n",
       "| BMW |   0.24320774 |\n",
       "| Ford |  -0.16363997 |\n",
       "| Renault |  -0.58607114 |\n",
       "| Audi |   0.14771228 |\n",
       "| diesel |   0.28823464 |\n",
       "| gas |           NA |\n",
       "| gasoline |  -0.53256466 |\n",
       "| hybrid.diesel |   0.16178214 |\n",
       "| hybrid.petrol |           NA |\n",
       "| diesel_type |           NA |\n",
       "| gasoline_type |           NA |\n",
       "| sedan |  -0.27087401 |\n",
       "| hatchback |  -0.44082358 |\n",
       "| universal |  -0.59413736 |\n",
       "| suv |   0.03445186 |\n",
       "| minibus |   0.54706539 |\n",
       "| emergency |  -1.57179216 |\n",
       "| new |   0.08096472 |\n",
       "| owned |           NA |\n",
       "| all |   0.10893202 |\n",
       "| front |  -0.86530043 |\n",
       "| rear |           NA |\n",
       "\n"
      ],
      "text/plain": [
       "                      [,1]        \n",
       "(Intercept)           -15.28789002\n",
       "odometer_value         -1.35377620\n",
       "year_produced           5.44880489\n",
       "engine_capacity         1.11814710\n",
       "dummy_is_exchangeable   0.04684299\n",
       "dummy_has_warranty     -0.02226507\n",
       "dummy_engine_has_gas   -0.57356355\n",
       "transmission_dummy     -0.64764174\n",
       "black                   0.03423083\n",
       "silver                  0.05427213\n",
       "blue                   -0.03162395\n",
       "white                  -0.06789187\n",
       "grey                   -0.04394172\n",
       "red                    -0.18770482\n",
       "other_color            -0.02423097\n",
       "Volkswagen              0.17411131\n",
       "Opel                   -3.79835650\n",
       "BMW                     0.24320774\n",
       "Ford                   -0.16363997\n",
       "Renault                -0.58607114\n",
       "Audi                    0.14771228\n",
       "diesel                  0.28823464\n",
       "gas                             NA\n",
       "gasoline               -0.53256466\n",
       "hybrid.diesel           0.16178214\n",
       "hybrid.petrol                   NA\n",
       "diesel_type                     NA\n",
       "gasoline_type                   NA\n",
       "sedan                  -0.27087401\n",
       "hatchback              -0.44082358\n",
       "universal              -0.59413736\n",
       "suv                     0.03445186\n",
       "minibus                 0.54706539\n",
       "emergency              -1.57179216\n",
       "new                     0.08096472\n",
       "owned                           NA\n",
       "all                     0.10893202\n",
       "front                  -0.86530043\n",
       "rear                            NA"
      ]
     },
     "metadata": {},
     "output_type": "display_data"
    }
   ],
   "source": [
    "#Check the coefficient\n",
    "\n",
    "full_train_coeff <- as.matrix(full_train$coefficients, 39, 1)\n",
    "full_train_coeff\n"
   ]
  },
  {
   "cell_type": "raw",
   "id": "ancient-budapest",
   "metadata": {},
   "source": [
    "This logit form of coefficient is hard to intuitively interpret. So, we use the below."
   ]
  },
  {
   "cell_type": "code",
   "execution_count": 78,
   "id": "english-judges",
   "metadata": {
    "vscode": {
     "languageId": "r"
    }
   },
   "outputs": [
    {
     "data": {
      "text/html": [
       "<dl class=dl-horizontal>\n",
       "\t<dt>(Intercept)</dt>\n",
       "\t\t<dd>-99.9999770620964</dd>\n",
       "\t<dt>odometer_value</dt>\n",
       "\t\t<dd>-74.1736835752351</dd>\n",
       "\t<dt>year_produced</dt>\n",
       "\t\t<dd>23148.0161180748</dd>\n",
       "\t<dt>engine_capacity</dt>\n",
       "\t\t<dd>205.918060812971</dd>\n",
       "\t<dt>dummy_is_exchangeable</dt>\n",
       "\t\t<dd>4.79574530376794</dd>\n",
       "\t<dt>dummy_has_warranty</dt>\n",
       "\t\t<dd>-2.20190287122252</dd>\n",
       "\t<dt>dummy_engine_has_gas</dt>\n",
       "\t\t<dd>-43.6486251189484</dd>\n",
       "\t<dt>transmission_dummy</dt>\n",
       "\t\t<dd>-47.6721651965706</dd>\n",
       "\t<dt>black</dt>\n",
       "\t\t<dd>3.48234454198673</dd>\n",
       "\t<dt>silver</dt>\n",
       "\t\t<dd>5.57718751682126</dd>\n",
       "\t<dt>blue</dt>\n",
       "\t\t<dd>-3.11291437108077</dd>\n",
       "\t<dt>white</dt>\n",
       "\t\t<dd>-6.56384964587053</dd>\n",
       "\t<dt>grey</dt>\n",
       "\t\t<dd>-4.29902699291487</dd>\n",
       "\t<dt>red</dt>\n",
       "\t\t<dd>-17.1140664619564</dd>\n",
       "\t<dt>other_color</dt>\n",
       "\t\t<dd>-2.39397595487244</dd>\n",
       "\t<dt>Volkswagen</dt>\n",
       "\t\t<dd>19.0188043720761</dd>\n",
       "\t<dt>Opel</dt>\n",
       "\t\t<dd>-97.7592431463414</dd>\n",
       "\t<dt>BMW</dt>\n",
       "\t\t<dd>27.5333534633327</dd>\n",
       "\t<dt>Ford</dt>\n",
       "\t\t<dd>-15.0952347630879</dd>\n",
       "\t<dt>Renault</dt>\n",
       "\t\t<dd>-44.3490559581645</dd>\n",
       "\t<dt>Audi</dt>\n",
       "\t\t<dd>15.9179333078946</dd>\n",
       "\t<dt>diesel</dt>\n",
       "\t\t<dd>33.4070289967421</dd>\n",
       "\t<dt>gas</dt>\n",
       "\t\t<dd>&lt;NA&gt;</dd>\n",
       "\t<dt>gasoline</dt>\n",
       "\t\t<dd>-41.2902669574152</dd>\n",
       "\t<dt>hybrid.diesel</dt>\n",
       "\t\t<dd>17.5604098256503</dd>\n",
       "\t<dt>hybrid.petrol</dt>\n",
       "\t\t<dd>&lt;NA&gt;</dd>\n",
       "\t<dt>diesel_type</dt>\n",
       "\t\t<dd>&lt;NA&gt;</dd>\n",
       "\t<dt>gasoline_type</dt>\n",
       "\t\t<dd>&lt;NA&gt;</dd>\n",
       "\t<dt>sedan</dt>\n",
       "\t\t<dd>-23.7287417536718</dd>\n",
       "\t<dt>hatchback</dt>\n",
       "\t\t<dd>-35.6493776027695</dd>\n",
       "\t<dt>universal</dt>\n",
       "\t\t<dd>-44.796143099655</dd>\n",
       "\t<dt>suv</dt>\n",
       "\t\t<dd>3.50522029315599</dd>\n",
       "\t<dt>minibus</dt>\n",
       "\t\t<dd>72.81740541724</dd>\n",
       "\t<dt>emergency</dt>\n",
       "\t\t<dd>-79.2327333072365</dd>\n",
       "\t<dt>new</dt>\n",
       "\t\t<dd>8.43326415223295</dd>\n",
       "\t<dt>owned</dt>\n",
       "\t\t<dd>&lt;NA&gt;</dd>\n",
       "\t<dt>all</dt>\n",
       "\t\t<dd>11.5086545173014</dd>\n",
       "\t<dt>front</dt>\n",
       "\t\t<dd>-57.907492639756</dd>\n",
       "\t<dt>rear</dt>\n",
       "\t\t<dd>&lt;NA&gt;</dd>\n",
       "</dl>\n"
      ],
      "text/latex": [
       "\\begin{description*}\n",
       "\\item[(Intercept)] -99.9999770620964\n",
       "\\item[odometer\\textbackslash{}\\_value] -74.1736835752351\n",
       "\\item[year\\textbackslash{}\\_produced] 23148.0161180748\n",
       "\\item[engine\\textbackslash{}\\_capacity] 205.918060812971\n",
       "\\item[dummy\\textbackslash{}\\_is\\textbackslash{}\\_exchangeable] 4.79574530376794\n",
       "\\item[dummy\\textbackslash{}\\_has\\textbackslash{}\\_warranty] -2.20190287122252\n",
       "\\item[dummy\\textbackslash{}\\_engine\\textbackslash{}\\_has\\textbackslash{}\\_gas] -43.6486251189484\n",
       "\\item[transmission\\textbackslash{}\\_dummy] -47.6721651965706\n",
       "\\item[black] 3.48234454198673\n",
       "\\item[silver] 5.57718751682126\n",
       "\\item[blue] -3.11291437108077\n",
       "\\item[white] -6.56384964587053\n",
       "\\item[grey] -4.29902699291487\n",
       "\\item[red] -17.1140664619564\n",
       "\\item[other\\textbackslash{}\\_color] -2.39397595487244\n",
       "\\item[Volkswagen] 19.0188043720761\n",
       "\\item[Opel] -97.7592431463414\n",
       "\\item[BMW] 27.5333534633327\n",
       "\\item[Ford] -15.0952347630879\n",
       "\\item[Renault] -44.3490559581645\n",
       "\\item[Audi] 15.9179333078946\n",
       "\\item[diesel] 33.4070289967421\n",
       "\\item[gas] <NA>\n",
       "\\item[gasoline] -41.2902669574152\n",
       "\\item[hybrid.diesel] 17.5604098256503\n",
       "\\item[hybrid.petrol] <NA>\n",
       "\\item[diesel\\textbackslash{}\\_type] <NA>\n",
       "\\item[gasoline\\textbackslash{}\\_type] <NA>\n",
       "\\item[sedan] -23.7287417536718\n",
       "\\item[hatchback] -35.6493776027695\n",
       "\\item[universal] -44.796143099655\n",
       "\\item[suv] 3.50522029315599\n",
       "\\item[minibus] 72.81740541724\n",
       "\\item[emergency] -79.2327333072365\n",
       "\\item[new] 8.43326415223295\n",
       "\\item[owned] <NA>\n",
       "\\item[all] 11.5086545173014\n",
       "\\item[front] -57.907492639756\n",
       "\\item[rear] <NA>\n",
       "\\end{description*}\n"
      ],
      "text/markdown": [
       "(Intercept)\n",
       ":   -99.9999770620964odometer_value\n",
       ":   -74.1736835752351year_produced\n",
       ":   23148.0161180748engine_capacity\n",
       ":   205.918060812971dummy_is_exchangeable\n",
       ":   4.79574530376794dummy_has_warranty\n",
       ":   -2.20190287122252dummy_engine_has_gas\n",
       ":   -43.6486251189484transmission_dummy\n",
       ":   -47.6721651965706black\n",
       ":   3.48234454198673silver\n",
       ":   5.57718751682126blue\n",
       ":   -3.11291437108077white\n",
       ":   -6.56384964587053grey\n",
       ":   -4.29902699291487red\n",
       ":   -17.1140664619564other_color\n",
       ":   -2.39397595487244Volkswagen\n",
       ":   19.0188043720761Opel\n",
       ":   -97.7592431463414BMW\n",
       ":   27.5333534633327Ford\n",
       ":   -15.0952347630879Renault\n",
       ":   -44.3490559581645Audi\n",
       ":   15.9179333078946diesel\n",
       ":   33.4070289967421gas\n",
       ":   &lt;NA&gt;gasoline\n",
       ":   -41.2902669574152hybrid.diesel\n",
       ":   17.5604098256503hybrid.petrol\n",
       ":   &lt;NA&gt;diesel_type\n",
       ":   &lt;NA&gt;gasoline_type\n",
       ":   &lt;NA&gt;sedan\n",
       ":   -23.7287417536718hatchback\n",
       ":   -35.6493776027695universal\n",
       ":   -44.796143099655suv\n",
       ":   3.50522029315599minibus\n",
       ":   72.81740541724emergency\n",
       ":   -79.2327333072365new\n",
       ":   8.43326415223295owned\n",
       ":   &lt;NA&gt;all\n",
       ":   11.5086545173014front\n",
       ":   -57.907492639756rear\n",
       ":   &lt;NA&gt;\n",
       "\n"
      ],
      "text/plain": [
       "          (Intercept)        odometer_value         year_produced \n",
       "           -99.999977            -74.173684          23148.016118 \n",
       "      engine_capacity dummy_is_exchangeable    dummy_has_warranty \n",
       "           205.918061              4.795745             -2.201903 \n",
       " dummy_engine_has_gas    transmission_dummy                 black \n",
       "           -43.648625            -47.672165              3.482345 \n",
       "               silver                  blue                 white \n",
       "             5.577188             -3.112914             -6.563850 \n",
       "                 grey                   red           other_color \n",
       "            -4.299027            -17.114066             -2.393976 \n",
       "           Volkswagen                  Opel                   BMW \n",
       "            19.018804            -97.759243             27.533353 \n",
       "                 Ford               Renault                  Audi \n",
       "           -15.095235            -44.349056             15.917933 \n",
       "               diesel                   gas              gasoline \n",
       "            33.407029                    NA            -41.290267 \n",
       "        hybrid.diesel         hybrid.petrol           diesel_type \n",
       "            17.560410                    NA                    NA \n",
       "        gasoline_type                 sedan             hatchback \n",
       "                   NA            -23.728742            -35.649378 \n",
       "            universal                   suv               minibus \n",
       "           -44.796143              3.505220             72.817405 \n",
       "            emergency                   new                 owned \n",
       "           -79.232733              8.433264                    NA \n",
       "                  all                 front                  rear \n",
       "            11.508655            -57.907493                    NA "
      ]
     },
     "metadata": {},
     "output_type": "display_data"
    }
   ],
   "source": [
    "(exp(full_train$coefficients)-1)*100"
   ]
  },
  {
   "cell_type": "raw",
   "id": "foreign-recycling",
   "metadata": {},
   "source": [
    "The interpretation of this will be observed later at the part of conclusion. "
   ]
  },
  {
   "cell_type": "code",
   "execution_count": 151,
   "id": "universal-antarctica",
   "metadata": {
    "vscode": {
     "languageId": "r"
    }
   },
   "outputs": [
    {
     "name": "stderr",
     "output_type": "stream",
     "text": [
      "Warning message in predict.lm(object, newdata, se.fit, scale = 1, type = if (type == :\n",
      "\"prediction from a rank-deficient fit may be misleading\""
     ]
    },
    {
     "data": {
      "text/plain": [
       "         lr_predicted\n",
       "lr_target     0     1\n",
       "        0 10988    48\n",
       "        1   116   149"
      ]
     },
     "metadata": {},
     "output_type": "display_data"
    }
   ],
   "source": [
    "# we test the model and evaluate the classification performance\n",
    "\n",
    "\n",
    "#Let’s perform predictions. Predict command is used, the full_train model using all variables is used, \n",
    "# the type of response means that the we get the probability that value belongs to category 1, and the data used is test data.\n",
    "lr_response <- predict(full_train, type = \"response\", newdata = car_test_data2)\n",
    "lr_target <- car_test_data2$car_target\n",
    "lr_predicted <- rep(0, length(lr_target))\n",
    "# we assign 1 if ir_reponse value is greatehrn than or same with 0.5\n",
    "lr_predicted[which(lr_response >= 0.5)] <- 1\n",
    "# we make confusion matrix\n",
    "conmatrix_full <- table(lr_target, lr_predicted)\n",
    "conmatrix_full"
   ]
  },
  {
   "cell_type": "raw",
   "id": "impossible-stretch",
   "metadata": {},
   "source": [
    "Let's interpret this result. \n",
    "\n",
    "Among the actually cheap car, the number of car that is predicted to be cheap is 10988.\n",
    "Among the actually cheap car, the number of car that is wrongly predicted to be expensive is 48.\n",
    "\n",
    "Among the actually expensive car, the number of car that is predicted to be expensive is 149.\n",
    "Among the actually expensive car, the number of car that is wrongly predicted to be cheap is 116.\n"
   ]
  },
  {
   "cell_type": "code",
   "execution_count": 152,
   "id": "geological-protest",
   "metadata": {
    "vscode": {
     "languageId": "r"
    }
   },
   "outputs": [
    {
     "data": {
      "text/html": [
       "<table>\n",
       "<thead><tr><th></th><th scope=col>TPR </th><th scope=col>Precision</th><th scope=col>TNR</th><th scope=col>ACC</th><th scope=col>F1</th></tr></thead>\n",
       "<tbody>\n",
       "\t<tr><th scope=row>Logstic Regression</th><td>0.5622642</td><td>0.7563452</td><td>0.9956506</td><td>0.985488 </td><td>0.6450216</td></tr>\n",
       "\t<tr><th scope=row>Forward</th><td>0.0000000</td><td>0.0000000</td><td>0.0000000</td><td>0.000000 </td><td>0.0000000</td></tr>\n",
       "\t<tr><th scope=row>Backward</th><td>0.0000000</td><td>0.0000000</td><td>0.0000000</td><td>0.000000 </td><td>0.0000000</td></tr>\n",
       "\t<tr><th scope=row>Lidge</th><td>0.0000000</td><td>0.0000000</td><td>0.0000000</td><td>0.000000 </td><td>0.0000000</td></tr>\n",
       "\t<tr><th scope=row>Lasso</th><td>0.0000000</td><td>0.0000000</td><td>0.0000000</td><td>0.000000 </td><td>0.0000000</td></tr>\n",
       "</tbody>\n",
       "</table>\n"
      ],
      "text/latex": [
       "\\begin{tabular}{r|lllll}\n",
       "  & TPR  & Precision & TNR & ACC & F1\\\\\n",
       "\\hline\n",
       "\tLogstic Regression & 0.5622642 & 0.7563452 & 0.9956506 & 0.985488  & 0.6450216\\\\\n",
       "\tForward & 0.0000000 & 0.0000000 & 0.0000000 & 0.000000  & 0.0000000\\\\\n",
       "\tBackward & 0.0000000 & 0.0000000 & 0.0000000 & 0.000000  & 0.0000000\\\\\n",
       "\tLidge & 0.0000000 & 0.0000000 & 0.0000000 & 0.000000  & 0.0000000\\\\\n",
       "\tLasso & 0.0000000 & 0.0000000 & 0.0000000 & 0.000000  & 0.0000000\\\\\n",
       "\\end{tabular}\n"
      ],
      "text/markdown": [
       "\n",
       "| <!--/--> | TPR  | Precision | TNR | ACC | F1 |\n",
       "|---|---|---|---|---|---|\n",
       "| Logstic Regression | 0.5622642 | 0.7563452 | 0.9956506 | 0.985488  | 0.6450216 |\n",
       "| Forward | 0.0000000 | 0.0000000 | 0.0000000 | 0.000000  | 0.0000000 |\n",
       "| Backward | 0.0000000 | 0.0000000 | 0.0000000 | 0.000000  | 0.0000000 |\n",
       "| Lidge | 0.0000000 | 0.0000000 | 0.0000000 | 0.000000  | 0.0000000 |\n",
       "| Lasso | 0.0000000 | 0.0000000 | 0.0000000 | 0.000000  | 0.0000000 |\n",
       "\n"
      ],
      "text/plain": [
       "                   TPR       Precision TNR       ACC      F1       \n",
       "Logstic Regression 0.5622642 0.7563452 0.9956506 0.985488 0.6450216\n",
       "Forward            0.0000000 0.0000000 0.0000000 0.000000 0.0000000\n",
       "Backward           0.0000000 0.0000000 0.0000000 0.000000 0.0000000\n",
       "Lidge              0.0000000 0.0000000 0.0000000 0.000000 0.0000000\n",
       "Lasso              0.0000000 0.0000000 0.0000000 0.000000 0.0000000"
      ]
     },
     "metadata": {},
     "output_type": "display_data"
    }
   ],
   "source": [
    "perf_mat2[1,] <- perf_eval2(conmatrix_full)\n",
    "perf_mat2"
   ]
  },
  {
   "cell_type": "code",
   "execution_count": null,
   "id": "pending-nutrition",
   "metadata": {
    "vscode": {
     "languageId": "r"
    }
   },
   "outputs": [],
   "source": [
    "Let's interpret the result above.\n",
    "\n",
    "When we use all variable\n",
    "\n",
    "True positive rate: 0.5622642\n",
    "Precision: 0.7563452\n",
    "True negative rate: 0.9956506\n",
    "Accuracy: 0.985488\n",
    "F1-Measure: 0.6450216\n",
    " \n",
    "  "
   ]
  },
  {
   "cell_type": "markdown",
   "id": "spanish-russian",
   "metadata": {},
   "source": [
    "# 7.3Variable Selection"
   ]
  },
  {
   "cell_type": "markdown",
   "id": "needed-latter",
   "metadata": {},
   "source": [
    "From now on, let's take a look at how well various variable selection methods or shilinkage methods perform well with \n",
    "test data compared to when all variables are used( logistic regresson we've done."
   ]
  },
  {
   "cell_type": "markdown",
   "id": "terminal-priest",
   "metadata": {},
   "source": [
    "# 7.3.1.Forward selection"
   ]
  },
  {
   "cell_type": "code",
   "execution_count": 173,
   "id": "surprising-warrant",
   "metadata": {
    "vscode": {
     "languageId": "r"
    }
   },
   "outputs": [
    {
     "data": {
      "text/plain": [
       "car_target ~ odometer_value + year_produced + engine_capacity + \n",
       "    dummy_is_exchangeable + dummy_has_warranty + dummy_engine_has_gas + \n",
       "    transmission_dummy + black + silver + blue + white + grey + \n",
       "    red + other_color + Volkswagen + Opel + BMW + Ford + Renault + \n",
       "    Audi + diesel + gas + gasoline + hybrid.diesel + hybrid.petrol + \n",
       "    diesel_type + gasoline_type + sedan + hatchback + universal + \n",
       "    suv + minibus + emergency + new + owned + all + front + rear + \n",
       "    car_target"
      ]
     },
     "metadata": {},
     "output_type": "display_data"
    }
   ],
   "source": [
    "#First of all, among the column names,\n",
    "# We subtract the target variable and paste all the remaining variables to make them into a form of formula.\n",
    "tmp_x <- paste(colnames(car_training_data2)[-41], collapse=\" + \")\n",
    "# add target_variable again\n",
    "tmp_xy <- paste(\"car_target ~ \", tmp_x, collapse = \"\")\n",
    "as.formula(tmp_xy)"
   ]
  },
  {
   "attachments": {},
   "cell_type": "markdown",
   "id": "departmental-mattress",
   "metadata": {},
   "source": [
    "As we see above, currently all varibles is in. However, we exclude some of them with variable selection method."
   ]
  },
  {
   "cell_type": "code",
   "execution_count": null,
   "id": "interested-myrtle",
   "metadata": {
    "vscode": {
     "languageId": "r"
    }
   },
   "outputs": [],
   "source": [
    "# \"car_target ~ 1\" means that forward model selction start with a model without variables  \n",
    "# \"upper = as.formula(tmp_xy)\"\" means that upperbound is using all variable. \n",
    "#  lower = car_target ~ 1\"  means that lowerbond is using no variable.\n",
    "forward_model <- step(glm(car_target ~ 1, family=binomial, data = car_training_data2), \n",
    "                      scope = list(upper = as.formula(tmp_xy), lower = car_target ~ 1), \n",
    "                      direction=\"forward\", trace = 1)\n",
    "summary(forward_model)"
   ]
  },
  {
   "cell_type": "raw",
   "id": "excited-collective",
   "metadata": {},
   "source": [
    "When we see the survived variables after forward seletion, the number of vectors decrease from 38 to 20. \n",
    "The question, why the some variables that has high p-value surviced, is not appropriate, because in forward selection\n",
    "the value of AIC is important instead of P-value\n"
   ]
  },
  {
   "cell_type": "code",
   "execution_count": 178,
   "id": "settled-guard",
   "metadata": {
    "vscode": {
     "languageId": "r"
    }
   },
   "outputs": [
    {
     "data": {
      "text/html": [
       "<table>\n",
       "<tbody>\n",
       "\t<tr><th scope=row>(Intercept)</th><td>-15.13220495</td></tr>\n",
       "\t<tr><th scope=row>year_produced</th><td>  5.43089675</td></tr>\n",
       "\t<tr><th scope=row>front</th><td> -0.97124683</td></tr>\n",
       "\t<tr><th scope=row>engine_capacity</th><td>  1.13368227</td></tr>\n",
       "\t<tr><th scope=row>diesel</th><td>  0.35994952</td></tr>\n",
       "\t<tr><th scope=row>transmission_dummy</th><td> -0.64516422</td></tr>\n",
       "\t<tr><th scope=row>minibus</th><td>  0.60760418</td></tr>\n",
       "\t<tr><th scope=row>odometer_value</th><td> -1.32602478</td></tr>\n",
       "\t<tr><th scope=row>Renault</th><td> -0.57236760</td></tr>\n",
       "\t<tr><th scope=row>universal</th><td> -0.41537058</td></tr>\n",
       "\t<tr><th scope=row>BMW</th><td>  0.23262646</td></tr>\n",
       "\t<tr><th scope=row>suv</th><td>  0.22740559</td></tr>\n",
       "\t<tr><th scope=row>Opel</th><td> -3.77496326</td></tr>\n",
       "\t<tr><th scope=row>dummy_engine_has_gas</th><td> -0.53517009</td></tr>\n",
       "\t<tr><th scope=row>new</th><td>  0.06783257</td></tr>\n",
       "\t<tr><th scope=row>Volkswagen</th><td>  0.19701200</td></tr>\n",
       "\t<tr><th scope=row>Audi</th><td>  0.15622042</td></tr>\n",
       "\t<tr><th scope=row>emergency</th><td> -1.54559382</td></tr>\n",
       "\t<tr><th scope=row>red</th><td> -0.17132851</td></tr>\n",
       "\t<tr><th scope=row>Ford</th><td> -0.13949606</td></tr>\n",
       "\t<tr><th scope=row>gasoline</th><td> -0.47691905</td></tr>\n",
       "</tbody>\n",
       "</table>\n"
      ],
      "text/latex": [
       "\\begin{tabular}{r|l}\n",
       "\t(Intercept) & -15.13220495\\\\\n",
       "\tyear\\_produced &   5.43089675\\\\\n",
       "\tfront &  -0.97124683\\\\\n",
       "\tengine\\_capacity &   1.13368227\\\\\n",
       "\tdiesel &   0.35994952\\\\\n",
       "\ttransmission\\_dummy &  -0.64516422\\\\\n",
       "\tminibus &   0.60760418\\\\\n",
       "\todometer\\_value &  -1.32602478\\\\\n",
       "\tRenault &  -0.57236760\\\\\n",
       "\tuniversal &  -0.41537058\\\\\n",
       "\tBMW &   0.23262646\\\\\n",
       "\tsuv &   0.22740559\\\\\n",
       "\tOpel &  -3.77496326\\\\\n",
       "\tdummy\\_engine\\_has\\_gas &  -0.53517009\\\\\n",
       "\tnew &   0.06783257\\\\\n",
       "\tVolkswagen &   0.19701200\\\\\n",
       "\tAudi &   0.15622042\\\\\n",
       "\temergency &  -1.54559382\\\\\n",
       "\tred &  -0.17132851\\\\\n",
       "\tFord &  -0.13949606\\\\\n",
       "\tgasoline &  -0.47691905\\\\\n",
       "\\end{tabular}\n"
      ],
      "text/markdown": [
       "\n",
       "| (Intercept) | -15.13220495 |\n",
       "| year_produced |   5.43089675 |\n",
       "| front |  -0.97124683 |\n",
       "| engine_capacity |   1.13368227 |\n",
       "| diesel |   0.35994952 |\n",
       "| transmission_dummy |  -0.64516422 |\n",
       "| minibus |   0.60760418 |\n",
       "| odometer_value |  -1.32602478 |\n",
       "| Renault |  -0.57236760 |\n",
       "| universal |  -0.41537058 |\n",
       "| BMW |   0.23262646 |\n",
       "| suv |   0.22740559 |\n",
       "| Opel |  -3.77496326 |\n",
       "| dummy_engine_has_gas |  -0.53517009 |\n",
       "| new |   0.06783257 |\n",
       "| Volkswagen |   0.19701200 |\n",
       "| Audi |   0.15622042 |\n",
       "| emergency |  -1.54559382 |\n",
       "| red |  -0.17132851 |\n",
       "| Ford |  -0.13949606 |\n",
       "| gasoline |  -0.47691905 |\n",
       "\n"
      ],
      "text/plain": [
       "                     [,1]        \n",
       "(Intercept)          -15.13220495\n",
       "year_produced          5.43089675\n",
       "front                 -0.97124683\n",
       "engine_capacity        1.13368227\n",
       "diesel                 0.35994952\n",
       "transmission_dummy    -0.64516422\n",
       "minibus                0.60760418\n",
       "odometer_value        -1.32602478\n",
       "Renault               -0.57236760\n",
       "universal             -0.41537058\n",
       "BMW                    0.23262646\n",
       "suv                    0.22740559\n",
       "Opel                  -3.77496326\n",
       "dummy_engine_has_gas  -0.53517009\n",
       "new                    0.06783257\n",
       "Volkswagen             0.19701200\n",
       "Audi                   0.15622042\n",
       "emergency             -1.54559382\n",
       "red                   -0.17132851\n",
       "Ford                  -0.13949606\n",
       "gasoline              -0.47691905"
      ]
     },
     "metadata": {},
     "output_type": "display_data"
    }
   ],
   "source": [
    "#Let.s see the coefficient of survived variables.\n",
    "\n",
    "forward_model_coeff <- as.matrix(forward_model$coefficients, 39, 1)\n",
    "forward_model_coeff"
   ]
  },
  {
   "cell_type": "code",
   "execution_count": 179,
   "id": "completed-footwear",
   "metadata": {
    "vscode": {
     "languageId": "r"
    }
   },
   "outputs": [
    {
     "data": {
      "text/plain": [
       "   forward_model_prey\n",
       "        0     1\n",
       "  0 10993    43\n",
       "  1   113   152"
      ]
     },
     "metadata": {},
     "output_type": "display_data"
    }
   ],
   "source": [
    "# Make prediction\n",
    "forward_model_prob <- predict(forward_model, type = \"response\", newdata = car_test_data2)\n",
    "forward_model_prey <- rep(0, nrow(car_test_data2))\n",
    "forward_model_prey[which(forward_model_prob >= 0.5)] <- 1\n",
    "forward_model_cm <- table(car_test_data2$car_target, forward_model_prey)\n",
    "forward_model_cm\n"
   ]
  },
  {
   "cell_type": "markdown",
   "id": "caroline-teacher",
   "metadata": {},
   "source": [
    "Let's interpret this result.\n",
    "\n",
    "Among the actually cheap car, the number of car that is predicted to be cheap is 10993. \n",
    "Among the actually cheap car, the number of car that is wrongly predicted to be expensive is 43.\n",
    "\n",
    "Among the actually expensive car, the number of car that is predicted to be expensive is 152. \n",
    "Among the actually expensive car, the number of car that is wrongly predicted to be cheap is 113."
   ]
  },
  {
   "cell_type": "code",
   "execution_count": 180,
   "id": "brilliant-parts",
   "metadata": {
    "vscode": {
     "languageId": "r"
    }
   },
   "outputs": [
    {
     "data": {
      "text/html": [
       "<table>\n",
       "<thead><tr><th></th><th scope=col>TPR </th><th scope=col>Precision</th><th scope=col>TNR</th><th scope=col>ACC</th><th scope=col>F1</th></tr></thead>\n",
       "<tbody>\n",
       "\t<tr><th scope=row>Logstic Regression</th><td>0.5622642</td><td>0.7563452</td><td>0.9956506</td><td>0.9854880</td><td>0.6450216</td></tr>\n",
       "\t<tr><th scope=row>Forward</th><td>0.5735849</td><td>0.7794872</td><td>0.9961037</td><td>0.9861959</td><td>0.6608696</td></tr>\n",
       "\t<tr><th scope=row>Backward</th><td>0.0000000</td><td>0.0000000</td><td>0.0000000</td><td>0.0000000</td><td>0.0000000</td></tr>\n",
       "\t<tr><th scope=row>Lidge</th><td>0.0000000</td><td>0.0000000</td><td>0.0000000</td><td>0.0000000</td><td>0.0000000</td></tr>\n",
       "\t<tr><th scope=row>Lasso</th><td>0.0000000</td><td>0.0000000</td><td>0.0000000</td><td>0.0000000</td><td>0.0000000</td></tr>\n",
       "</tbody>\n",
       "</table>\n"
      ],
      "text/latex": [
       "\\begin{tabular}{r|lllll}\n",
       "  & TPR  & Precision & TNR & ACC & F1\\\\\n",
       "\\hline\n",
       "\tLogstic Regression & 0.5622642 & 0.7563452 & 0.9956506 & 0.9854880 & 0.6450216\\\\\n",
       "\tForward & 0.5735849 & 0.7794872 & 0.9961037 & 0.9861959 & 0.6608696\\\\\n",
       "\tBackward & 0.0000000 & 0.0000000 & 0.0000000 & 0.0000000 & 0.0000000\\\\\n",
       "\tLidge & 0.0000000 & 0.0000000 & 0.0000000 & 0.0000000 & 0.0000000\\\\\n",
       "\tLasso & 0.0000000 & 0.0000000 & 0.0000000 & 0.0000000 & 0.0000000\\\\\n",
       "\\end{tabular}\n"
      ],
      "text/markdown": [
       "\n",
       "| <!--/--> | TPR  | Precision | TNR | ACC | F1 |\n",
       "|---|---|---|---|---|---|\n",
       "| Logstic Regression | 0.5622642 | 0.7563452 | 0.9956506 | 0.9854880 | 0.6450216 |\n",
       "| Forward | 0.5735849 | 0.7794872 | 0.9961037 | 0.9861959 | 0.6608696 |\n",
       "| Backward | 0.0000000 | 0.0000000 | 0.0000000 | 0.0000000 | 0.0000000 |\n",
       "| Lidge | 0.0000000 | 0.0000000 | 0.0000000 | 0.0000000 | 0.0000000 |\n",
       "| Lasso | 0.0000000 | 0.0000000 | 0.0000000 | 0.0000000 | 0.0000000 |\n",
       "\n"
      ],
      "text/plain": [
       "                   TPR       Precision TNR       ACC       F1       \n",
       "Logstic Regression 0.5622642 0.7563452 0.9956506 0.9854880 0.6450216\n",
       "Forward            0.5735849 0.7794872 0.9961037 0.9861959 0.6608696\n",
       "Backward           0.0000000 0.0000000 0.0000000 0.0000000 0.0000000\n",
       "Lidge              0.0000000 0.0000000 0.0000000 0.0000000 0.0000000\n",
       "Lasso              0.0000000 0.0000000 0.0000000 0.0000000 0.0000000"
      ]
     },
     "metadata": {},
     "output_type": "display_data"
    }
   ],
   "source": [
    "# Peformance evaluation\n",
    "perf_mat2[2,] <- perf_eval2(forward_model_cm)\n",
    "perf_mat2"
   ]
  },
  {
   "cell_type": "raw",
   "id": "martial-ozone",
   "metadata": {},
   "source": [
    "Let's interpret the result above.\n",
    "\n",
    "When the number of dependent variables decreases from 38 to 20 with forward slection,  \n",
    "\n",
    "True positive rate: 0.5735849\n",
    "Precision: 0.7794872\n",
    "True negative rate: 0.9961037\n",
    "Accuracy: 0.9861959\n",
    "F1-Measure: 0.6608696\n",
    "\n",
    "So, in conclusion, after forward selection, the performance get better.\n",
    " "
   ]
  },
  {
   "cell_type": "markdown",
   "id": "stable-silicon",
   "metadata": {},
   "source": [
    "# 7.3.2 Backward selection"
   ]
  },
  {
   "cell_type": "code",
   "execution_count": null,
   "id": "paperback-chaos",
   "metadata": {
    "vscode": {
     "languageId": "r"
    }
   },
   "outputs": [],
   "source": [
    "# \"fstep(ull_train,\" means that backward model selction start with a model with all variables, which is contrast to forward selection.  \n",
    "# \"upper = as.formula(tmp_xy)\"\" means that upperbound is using all variable. \n",
    "#  lower = car_target ~ 1\"  means that lowerbond is using no variable.\n",
    "\n",
    "backward_model <- step(full_train, \n",
    "                      scope = list(upper = as.formula(tmp_xy), lower = car_target ~ 1), \n",
    "                      direction=\"backward\", trace = 1)\n",
    "summary(backward_model)\n"
   ]
  },
  {
   "cell_type": "markdown",
   "id": "expressed-reality",
   "metadata": {},
   "source": [
    "When we see the survived variables after backward seletion, the number of vectors decrease from 38 to 21. \n"
   ]
  },
  {
   "cell_type": "code",
   "execution_count": 183,
   "id": "wireless-sentence",
   "metadata": {
    "vscode": {
     "languageId": "r"
    }
   },
   "outputs": [
    {
     "data": {
      "text/html": [
       "<table>\n",
       "<tbody>\n",
       "\t<tr><th scope=row>(Intercept)</th><td>-15.18163360</td></tr>\n",
       "\t<tr><th scope=row>odometer_value</th><td> -1.31680877</td></tr>\n",
       "\t<tr><th scope=row>year_produced</th><td>  5.37875846</td></tr>\n",
       "\t<tr><th scope=row>engine_capacity</th><td>  1.10482333</td></tr>\n",
       "\t<tr><th scope=row>dummy_engine_has_gas</th><td> -0.67676513</td></tr>\n",
       "\t<tr><th scope=row>transmission_dummy</th><td> -0.65714840</td></tr>\n",
       "\t<tr><th scope=row>red</th><td> -0.17987375</td></tr>\n",
       "\t<tr><th scope=row>Volkswagen</th><td>  0.18106726</td></tr>\n",
       "\t<tr><th scope=row>Opel</th><td> -3.78707491</td></tr>\n",
       "\t<tr><th scope=row>BMW</th><td>  0.24182033</td></tr>\n",
       "\t<tr><th scope=row>Ford</th><td> -0.17093026</td></tr>\n",
       "\t<tr><th scope=row>Renault</th><td> -0.57552995</td></tr>\n",
       "\t<tr><th scope=row>Audi</th><td>  0.14689522</td></tr>\n",
       "\t<tr><th scope=row>gasoline</th><td> -0.81335217</td></tr>\n",
       "\t<tr><th scope=row>sedan</th><td> -0.29572422</td></tr>\n",
       "\t<tr><th scope=row>hatchback</th><td> -0.48509812</td></tr>\n",
       "\t<tr><th scope=row>universal</th><td> -0.60611874</td></tr>\n",
       "\t<tr><th scope=row>minibus</th><td>  0.53486194</td></tr>\n",
       "\t<tr><th scope=row>emergency</th><td> -1.56109578</td></tr>\n",
       "\t<tr><th scope=row>new</th><td>  0.07630866</td></tr>\n",
       "\t<tr><th scope=row>all</th><td>  0.13010310</td></tr>\n",
       "\t<tr><th scope=row>front</th><td> -0.87178909</td></tr>\n",
       "</tbody>\n",
       "</table>\n"
      ],
      "text/latex": [
       "\\begin{tabular}{r|l}\n",
       "\t(Intercept) & -15.18163360\\\\\n",
       "\todometer\\_value &  -1.31680877\\\\\n",
       "\tyear\\_produced &   5.37875846\\\\\n",
       "\tengine\\_capacity &   1.10482333\\\\\n",
       "\tdummy\\_engine\\_has\\_gas &  -0.67676513\\\\\n",
       "\ttransmission\\_dummy &  -0.65714840\\\\\n",
       "\tred &  -0.17987375\\\\\n",
       "\tVolkswagen &   0.18106726\\\\\n",
       "\tOpel &  -3.78707491\\\\\n",
       "\tBMW &   0.24182033\\\\\n",
       "\tFord &  -0.17093026\\\\\n",
       "\tRenault &  -0.57552995\\\\\n",
       "\tAudi &   0.14689522\\\\\n",
       "\tgasoline &  -0.81335217\\\\\n",
       "\tsedan &  -0.29572422\\\\\n",
       "\thatchback &  -0.48509812\\\\\n",
       "\tuniversal &  -0.60611874\\\\\n",
       "\tminibus &   0.53486194\\\\\n",
       "\temergency &  -1.56109578\\\\\n",
       "\tnew &   0.07630866\\\\\n",
       "\tall &   0.13010310\\\\\n",
       "\tfront &  -0.87178909\\\\\n",
       "\\end{tabular}\n"
      ],
      "text/markdown": [
       "\n",
       "| (Intercept) | -15.18163360 |\n",
       "| odometer_value |  -1.31680877 |\n",
       "| year_produced |   5.37875846 |\n",
       "| engine_capacity |   1.10482333 |\n",
       "| dummy_engine_has_gas |  -0.67676513 |\n",
       "| transmission_dummy |  -0.65714840 |\n",
       "| red |  -0.17987375 |\n",
       "| Volkswagen |   0.18106726 |\n",
       "| Opel |  -3.78707491 |\n",
       "| BMW |   0.24182033 |\n",
       "| Ford |  -0.17093026 |\n",
       "| Renault |  -0.57552995 |\n",
       "| Audi |   0.14689522 |\n",
       "| gasoline |  -0.81335217 |\n",
       "| sedan |  -0.29572422 |\n",
       "| hatchback |  -0.48509812 |\n",
       "| universal |  -0.60611874 |\n",
       "| minibus |   0.53486194 |\n",
       "| emergency |  -1.56109578 |\n",
       "| new |   0.07630866 |\n",
       "| all |   0.13010310 |\n",
       "| front |  -0.87178909 |\n",
       "\n"
      ],
      "text/plain": [
       "                     [,1]        \n",
       "(Intercept)          -15.18163360\n",
       "odometer_value        -1.31680877\n",
       "year_produced          5.37875846\n",
       "engine_capacity        1.10482333\n",
       "dummy_engine_has_gas  -0.67676513\n",
       "transmission_dummy    -0.65714840\n",
       "red                   -0.17987375\n",
       "Volkswagen             0.18106726\n",
       "Opel                  -3.78707491\n",
       "BMW                    0.24182033\n",
       "Ford                  -0.17093026\n",
       "Renault               -0.57552995\n",
       "Audi                   0.14689522\n",
       "gasoline              -0.81335217\n",
       "sedan                 -0.29572422\n",
       "hatchback             -0.48509812\n",
       "universal             -0.60611874\n",
       "minibus                0.53486194\n",
       "emergency             -1.56109578\n",
       "new                    0.07630866\n",
       "all                    0.13010310\n",
       "front                 -0.87178909"
      ]
     },
     "metadata": {},
     "output_type": "display_data"
    }
   ],
   "source": [
    "backward_model_coeff <- as.matrix(backward_model$coefficients, 39, 1)\n",
    "backward_model_coeff"
   ]
  },
  {
   "cell_type": "code",
   "execution_count": 184,
   "id": "governing-tournament",
   "metadata": {
    "vscode": {
     "languageId": "r"
    }
   },
   "outputs": [
    {
     "data": {
      "text/plain": [
       "   backward_model_prey\n",
       "        0     1\n",
       "  0 10992    44\n",
       "  1   116   149"
      ]
     },
     "metadata": {},
     "output_type": "display_data"
    }
   ],
   "source": [
    "# Make prediction\n",
    "backward_model_prob <- predict(backward_model, type = \"response\", newdata = car_test_data2)\n",
    "backward_model_prey <- rep(0, nrow(car_test_data2))\n",
    "backward_model_prey[which(backward_model_prob >= 0.5)] <- 1\n",
    "backward_model_cm <- table(car_test_data2$car_target, backward_model_prey)\n",
    "backward_model_cm"
   ]
  },
  {
   "cell_type": "raw",
   "id": "based-abraham",
   "metadata": {},
   "source": [
    "Let's interpret this result.\n",
    "\n",
    "Among the actually cheap car, the number of car that is predicted to be cheap is 10992. \n",
    "Among the actually cheap car, the number of car that is wrongly predicted to be expensive is 44.\n",
    "\n",
    "Among the actually expensive car, the number of car that is predicted to be expensive is 149. \n",
    "Among the actually expensive car, the number of car that is wrongly predicted to be cheap is 116."
   ]
  },
  {
   "cell_type": "code",
   "execution_count": 185,
   "id": "national-soldier",
   "metadata": {
    "vscode": {
     "languageId": "r"
    }
   },
   "outputs": [
    {
     "data": {
      "text/html": [
       "<table>\n",
       "<thead><tr><th></th><th scope=col>TPR </th><th scope=col>Precision</th><th scope=col>TNR</th><th scope=col>ACC</th><th scope=col>F1</th></tr></thead>\n",
       "<tbody>\n",
       "\t<tr><th scope=row>Logstic Regression</th><td>0.5622642</td><td>0.7563452</td><td>0.9956506</td><td>0.9854880</td><td>0.6450216</td></tr>\n",
       "\t<tr><th scope=row>Forward</th><td>0.5735849</td><td>0.7794872</td><td>0.9961037</td><td>0.9861959</td><td>0.6608696</td></tr>\n",
       "\t<tr><th scope=row>Backward</th><td>0.5622642</td><td>0.7720207</td><td>0.9960130</td><td>0.9858420</td><td>0.6506550</td></tr>\n",
       "\t<tr><th scope=row>Lidge</th><td>0.0000000</td><td>0.0000000</td><td>0.0000000</td><td>0.0000000</td><td>0.0000000</td></tr>\n",
       "\t<tr><th scope=row>Lasso</th><td>0.0000000</td><td>0.0000000</td><td>0.0000000</td><td>0.0000000</td><td>0.0000000</td></tr>\n",
       "</tbody>\n",
       "</table>\n"
      ],
      "text/latex": [
       "\\begin{tabular}{r|lllll}\n",
       "  & TPR  & Precision & TNR & ACC & F1\\\\\n",
       "\\hline\n",
       "\tLogstic Regression & 0.5622642 & 0.7563452 & 0.9956506 & 0.9854880 & 0.6450216\\\\\n",
       "\tForward & 0.5735849 & 0.7794872 & 0.9961037 & 0.9861959 & 0.6608696\\\\\n",
       "\tBackward & 0.5622642 & 0.7720207 & 0.9960130 & 0.9858420 & 0.6506550\\\\\n",
       "\tLidge & 0.0000000 & 0.0000000 & 0.0000000 & 0.0000000 & 0.0000000\\\\\n",
       "\tLasso & 0.0000000 & 0.0000000 & 0.0000000 & 0.0000000 & 0.0000000\\\\\n",
       "\\end{tabular}\n"
      ],
      "text/markdown": [
       "\n",
       "| <!--/--> | TPR  | Precision | TNR | ACC | F1 |\n",
       "|---|---|---|---|---|---|\n",
       "| Logstic Regression | 0.5622642 | 0.7563452 | 0.9956506 | 0.9854880 | 0.6450216 |\n",
       "| Forward | 0.5735849 | 0.7794872 | 0.9961037 | 0.9861959 | 0.6608696 |\n",
       "| Backward | 0.5622642 | 0.7720207 | 0.9960130 | 0.9858420 | 0.6506550 |\n",
       "| Lidge | 0.0000000 | 0.0000000 | 0.0000000 | 0.0000000 | 0.0000000 |\n",
       "| Lasso | 0.0000000 | 0.0000000 | 0.0000000 | 0.0000000 | 0.0000000 |\n",
       "\n"
      ],
      "text/plain": [
       "                   TPR       Precision TNR       ACC       F1       \n",
       "Logstic Regression 0.5622642 0.7563452 0.9956506 0.9854880 0.6450216\n",
       "Forward            0.5735849 0.7794872 0.9961037 0.9861959 0.6608696\n",
       "Backward           0.5622642 0.7720207 0.9960130 0.9858420 0.6506550\n",
       "Lidge              0.0000000 0.0000000 0.0000000 0.0000000 0.0000000\n",
       "Lasso              0.0000000 0.0000000 0.0000000 0.0000000 0.0000000"
      ]
     },
     "metadata": {},
     "output_type": "display_data"
    }
   ],
   "source": [
    "# Peformance evaluation\n",
    "perf_mat2[3,] <- perf_eval2(backward_model_cm)\n",
    "perf_mat2"
   ]
  },
  {
   "cell_type": "code",
   "execution_count": null,
   "id": "stainless-tomato",
   "metadata": {
    "vscode": {
     "languageId": "r"
    }
   },
   "outputs": [],
   "source": [
    "Let's interpret the result above.\n",
    "\n",
    "When the number of dependent variables decreases from 38 to 21 with backward slection,  \n",
    "\n",
    "True positive rate: 0.5622642\n",
    "Precision: \t0.7720207\n",
    "True negative rate: 0.9960130\n",
    "Accuracy: 0.9858420\n",
    "F1-Measure: 0.6506550\n",
    "\n",
    "This results are better than when we use all variables. However, the performance is worse than when we use forward selection."
   ]
  },
  {
   "cell_type": "markdown",
   "id": "centered-anger",
   "metadata": {},
   "source": [
    "# 7.3.3 Ridge logistic regression"
   ]
  },
  {
   "cell_type": "code",
   "execution_count": 186,
   "id": "balanced-riverside",
   "metadata": {
    "vscode": {
     "languageId": "r"
    }
   },
   "outputs": [],
   "source": [
    "# Here, we transform independent variable to matrix type, and dependent variable as factor type in both training set and test set.\n",
    "car_training_X <- as.matrix(car_training_data2[,-39])\n",
    "car_training_y <- as.factor(car_training_data2[,39])\n",
    "\n",
    "car_test_X <- as.matrix(car_test_data2[,-39])\n",
    "car_test_y <- as.factor(car_test_data2[,39])"
   ]
  },
  {
   "cell_type": "code",
   "execution_count": 187,
   "id": "ahead-replacement",
   "metadata": {
    "vscode": {
     "languageId": "r"
    }
   },
   "outputs": [
    {
     "data": {
      "image/png": "[encoded data removed]",
      "text/plain": [
       "plot without title"
      ]
     },
     "metadata": {},
     "output_type": "display_data"
    }
   ],
   "source": [
    "# we create glmnet command to create Ridge Legression.\n",
    "Ridge_model <- glmnet(car_training_X, car_training_y, family = \"binomial\", alpha = 0)\n",
    "plot(Ridge_model, xvar = \"lambda\")"
   ]
  },
  {
   "cell_type": "markdown",
   "id": "declared-giant",
   "metadata": {},
   "source": [
    "When we plot the result of Lidge regression, we can see that as Log Lambda increase, coefficient converges. But, the problem here is \n",
    "what the best Lambda is. To get answer about this, we use 5-fold cross validation.\n",
    "\n",
    "In 5-fold cross validation, \n",
    "we bring the training data, divide it into 5 parts.\n",
    "Among these 5 parts, we crossly use the 4 parts as training and the other 1 part as test."
   ]
  },
  {
   "cell_type": "code",
   "execution_count": 188,
   "id": "automatic-mystery",
   "metadata": {
    "vscode": {
     "languageId": "r"
    }
   },
   "outputs": [
    {
     "data": {
      "image/png": "[encoded data removed]",
      "text/plain": [
       "plot without title"
      ]
     },
     "metadata": {},
     "output_type": "display_data"
    }
   ],
   "source": [
    "# Find the best lambda based in 5-fold cross validation\n",
    "#alpha=0, because of Lidge Regression\n",
    "CV_Ridge <- cv.glmnet(car_training_X, car_training_y, family = \"binomial\", alpha = 0)\n",
    "plot(CV_Ridge)\n",
    "best_lambda <- CV_Ridge$lambda.min"
   ]
  },
  {
   "cell_type": "code",
   "execution_count": 189,
   "id": "nasty-substitute",
   "metadata": {
    "vscode": {
     "languageId": "r"
    }
   },
   "outputs": [
    {
     "data": {
      "text/html": [
       "0.00455720190546604"
      ],
      "text/latex": [
       "0.00455720190546604"
      ],
      "text/markdown": [
       "0.00455720190546604"
      ],
      "text/plain": [
       "[1] 0.004557202"
      ]
     },
     "metadata": {},
     "output_type": "display_data"
    }
   ],
   "source": [
    "best_lambda"
   ]
  },
  {
   "cell_type": "code",
   "execution_count": 190,
   "id": "filled-description",
   "metadata": {
    "vscode": {
     "languageId": "r"
    }
   },
   "outputs": [
    {
     "data": {
      "text/plain": [
       "39 x 1 sparse Matrix of class \"dgCMatrix\"\n",
       "                                   1\n",
       "(Intercept)           -6.72975974151\n",
       "odometer_value        -0.92868181290\n",
       "year_produced          1.25010961616\n",
       "engine_capacity        0.38266458411\n",
       "dummy_is_exchangeable  0.02574362597\n",
       "dummy_has_warranty     0.05399588670\n",
       "dummy_engine_has_gas  -0.09327690784\n",
       "transmission_dummy    -0.41420440157\n",
       "black                  0.06800136647\n",
       "silver                -0.08825024527\n",
       "blue                  -0.03938331159\n",
       "white                  0.08526724386\n",
       "grey                   0.01348116088\n",
       "red                   -0.05904047921\n",
       "other_color           -0.04008518694\n",
       "Volkswagen             0.08083641108\n",
       "Opel                  -0.13206403060\n",
       "BMW                    0.13798827087\n",
       "Ford                  -0.05808008980\n",
       "Renault               -0.15428889563\n",
       "Audi                   0.00294475765\n",
       "diesel                 0.11514726141\n",
       "gas                   -0.09341134667\n",
       "gasoline              -0.08250238952\n",
       "hybrid.diesel         -0.00002211312\n",
       "hybrid.petrol          0.03015103173\n",
       "diesel_type            0.11552678414\n",
       "gasoline_type         -0.11560985124\n",
       "sedan                 -0.10711971611\n",
       "hatchback             -0.14552289045\n",
       "universal             -0.15590929080\n",
       "suv                    0.09130556893\n",
       "minibus                0.31526605590\n",
       "emergency             -0.07853324355\n",
       "new                    0.14006978565\n",
       "owned                 -0.05452654050\n",
       "all                    0.33307650498\n",
       "front                 -0.35106683048\n",
       "rear                   0.12368518085"
      ]
     },
     "metadata": {},
     "output_type": "display_data"
    }
   ],
   "source": [
    "# Check the coefficients\n",
    "Ridge_model_coeff <- predict(Ridge_model, s = best_lambda, newx = car_validation_X, type = \"coefficient\")\n",
    "Ridge_model_coeff"
   ]
  },
  {
   "cell_type": "code",
   "execution_count": 192,
   "id": "dimensional-lecture",
   "metadata": {
    "vscode": {
     "languageId": "r"
    }
   },
   "outputs": [
    {
     "data": {
      "text/plain": [
       "          Ridge_model_predy\n",
       "car_test_y     0     1\n",
       "         0 11030     6\n",
       "         1   200    65"
      ]
     },
     "metadata": {},
     "output_type": "display_data"
    }
   ],
   "source": [
    "# Make predictions\n",
    "Ridge_model_predy <- predict(Ridge_model, s = best_lambda, newx = car_test_X, type = \"class\")\n",
    "Ridge_model_predy <- as.factor(Ridge_model_predy)\n",
    "Ridge_model_cm <- table(car_test_y, Ridge_model_predy)\n",
    "Ridge_model_cm"
   ]
  },
  {
   "cell_type": "raw",
   "id": "concrete-circus",
   "metadata": {},
   "source": [
    "Let's interpret this result.\n",
    "\n",
    "Among the actually cheap car, the number of car that is predicted to be cheap is 11030. \n",
    "Among the actually cheap car, the number of car that is wrongly predicted to be expensive is 6.\n",
    "\n",
    "Among the actually expensive car, the number of car that is predicted to be expensive is 65. \n",
    "Among the actually expensive car, the number of car that is wrongly predicted to be cheap is 200"
   ]
  },
  {
   "cell_type": "code",
   "execution_count": 193,
   "id": "casual-suite",
   "metadata": {
    "vscode": {
     "languageId": "r"
    }
   },
   "outputs": [
    {
     "data": {
      "text/html": [
       "<table>\n",
       "<thead><tr><th></th><th scope=col>TPR </th><th scope=col>Precision</th><th scope=col>TNR</th><th scope=col>ACC</th><th scope=col>F1</th></tr></thead>\n",
       "<tbody>\n",
       "\t<tr><th scope=row>Logstic Regression</th><td>0.5622642</td><td>0.7563452</td><td>0.9956506</td><td>0.9854880</td><td>0.6450216</td></tr>\n",
       "\t<tr><th scope=row>Forward</th><td>0.5735849</td><td>0.7794872</td><td>0.9961037</td><td>0.9861959</td><td>0.6608696</td></tr>\n",
       "\t<tr><th scope=row>Backward</th><td>0.5622642</td><td>0.7720207</td><td>0.9960130</td><td>0.9858420</td><td>0.6506550</td></tr>\n",
       "\t<tr><th scope=row>Lidge</th><td>0.2452830</td><td>0.9154930</td><td>0.9994563</td><td>0.9817715</td><td>0.3869048</td></tr>\n",
       "\t<tr><th scope=row>Lasso</th><td>0.0000000</td><td>0.0000000</td><td>0.0000000</td><td>0.0000000</td><td>0.0000000</td></tr>\n",
       "</tbody>\n",
       "</table>\n"
      ],
      "text/latex": [
       "\\begin{tabular}{r|lllll}\n",
       "  & TPR  & Precision & TNR & ACC & F1\\\\\n",
       "\\hline\n",
       "\tLogstic Regression & 0.5622642 & 0.7563452 & 0.9956506 & 0.9854880 & 0.6450216\\\\\n",
       "\tForward & 0.5735849 & 0.7794872 & 0.9961037 & 0.9861959 & 0.6608696\\\\\n",
       "\tBackward & 0.5622642 & 0.7720207 & 0.9960130 & 0.9858420 & 0.6506550\\\\\n",
       "\tLidge & 0.2452830 & 0.9154930 & 0.9994563 & 0.9817715 & 0.3869048\\\\\n",
       "\tLasso & 0.0000000 & 0.0000000 & 0.0000000 & 0.0000000 & 0.0000000\\\\\n",
       "\\end{tabular}\n"
      ],
      "text/markdown": [
       "\n",
       "| <!--/--> | TPR  | Precision | TNR | ACC | F1 |\n",
       "|---|---|---|---|---|---|\n",
       "| Logstic Regression | 0.5622642 | 0.7563452 | 0.9956506 | 0.9854880 | 0.6450216 |\n",
       "| Forward | 0.5735849 | 0.7794872 | 0.9961037 | 0.9861959 | 0.6608696 |\n",
       "| Backward | 0.5622642 | 0.7720207 | 0.9960130 | 0.9858420 | 0.6506550 |\n",
       "| Lidge | 0.2452830 | 0.9154930 | 0.9994563 | 0.9817715 | 0.3869048 |\n",
       "| Lasso | 0.0000000 | 0.0000000 | 0.0000000 | 0.0000000 | 0.0000000 |\n",
       "\n"
      ],
      "text/plain": [
       "                   TPR       Precision TNR       ACC       F1       \n",
       "Logstic Regression 0.5622642 0.7563452 0.9956506 0.9854880 0.6450216\n",
       "Forward            0.5735849 0.7794872 0.9961037 0.9861959 0.6608696\n",
       "Backward           0.5622642 0.7720207 0.9960130 0.9858420 0.6506550\n",
       "Lidge              0.2452830 0.9154930 0.9994563 0.9817715 0.3869048\n",
       "Lasso              0.0000000 0.0000000 0.0000000 0.0000000 0.0000000"
      ]
     },
     "metadata": {},
     "output_type": "display_data"
    }
   ],
   "source": [
    "# Peformance evaluation\n",
    "perf_mat2[4,] <- perf_eval2(Ridge_model_cm)\n",
    "perf_mat2"
   ]
  },
  {
   "cell_type": "code",
   "execution_count": null,
   "id": "golden-excess",
   "metadata": {
    "vscode": {
     "languageId": "r"
    }
   },
   "outputs": [],
   "source": [
    "Let's interpret the result above.\n",
    "\n",
    "When we use Lidge regression, \n",
    "\n",
    "True positive rate: 0.2452830\n",
    "Precision: 0.9154930\n",
    "True negative rate: 0.9994563\n",
    "Accuracy: 0.9817715\n",
    "F1-Measure: 0.3869048\n",
    "\n"
   ]
  },
  {
   "cell_type": "markdown",
   "id": "noted-retreat",
   "metadata": {},
   "source": [
    "# 7.3.4. Lasso regression"
   ]
  },
  {
   "cell_type": "code",
   "execution_count": 194,
   "id": "narrative-tractor",
   "metadata": {
    "vscode": {
     "languageId": "r"
    }
   },
   "outputs": [
    {
     "data": {
      "image/png": "[encoded data removed]",
      "text/plain": [
       "plot without title"
      ]
     },
     "metadata": {},
     "output_type": "display_data"
    }
   ],
   "source": [
    "#Alpha is 1 because this is Lasso\n",
    "Lasso_model <- glmnet(car_training_X, car_training_y, family = \"binomial\", alpha = 1)\n",
    "plot(Lasso_model, xvar = \"lambda\")\n"
   ]
  },
  {
   "cell_type": "markdown",
   "id": "average-project",
   "metadata": {},
   "source": [
    "In case of Lidge Regression, the values of coefficient doesn't converge on 0. \n",
    "But in case of Lasso Regression, it does."
   ]
  },
  {
   "cell_type": "code",
   "execution_count": 195,
   "id": "confidential-european",
   "metadata": {
    "vscode": {
     "languageId": "r"
    }
   },
   "outputs": [
    {
     "data": {
      "image/png": "[encoded data removed]",
      "text/plain": [
       "plot without title"
      ]
     },
     "metadata": {},
     "output_type": "display_data"
    }
   ],
   "source": [
    "# Find the best lambda based in 5-fold cross validation\n",
    "CV_Lasso <- cv.glmnet(car_training_X, car_training_y, family = \"binomial\", alpha = 1)\n",
    "plot(CV_Lasso)\n",
    "best_lambda_Lasso <- CV_Lasso$lambda.min"
   ]
  },
  {
   "cell_type": "code",
   "execution_count": 198,
   "id": "forty-dating",
   "metadata": {
    "vscode": {
     "languageId": "r"
    }
   },
   "outputs": [
    {
     "data": {
      "text/html": [
       "0.0000616611188154242"
      ],
      "text/latex": [
       "0.0000616611188154242"
      ],
      "text/markdown": [
       "0.0000616611188154242"
      ],
      "text/plain": [
       "[1] 0.00006166112"
      ]
     },
     "metadata": {},
     "output_type": "display_data"
    }
   ],
   "source": [
    "best_lambda_Lasso"
   ]
  },
  {
   "cell_type": "code",
   "execution_count": 199,
   "id": "generic-canada",
   "metadata": {
    "vscode": {
     "languageId": "r"
    }
   },
   "outputs": [
    {
     "data": {
      "text/plain": [
       "39 x 1 sparse Matrix of class \"dgCMatrix\"\n",
       "                                1\n",
       "(Intercept)           -6.41586294\n",
       "odometer_value        -0.29526980\n",
       "year_produced          2.06320513\n",
       "engine_capacity        0.37653103\n",
       "dummy_is_exchangeable  .         \n",
       "dummy_has_warranty     .         \n",
       "dummy_engine_has_gas   .         \n",
       "transmission_dummy    -0.17062129\n",
       "black                  .         \n",
       "silver                 .         \n",
       "blue                   .         \n",
       "white                  .         \n",
       "grey                   .         \n",
       "red                    .         \n",
       "other_color            .         \n",
       "Volkswagen             .         \n",
       "Opel                   .         \n",
       "BMW                    0.04028546\n",
       "Ford                   .         \n",
       "Renault                .         \n",
       "Audi                   .         \n",
       "diesel                 0.14208997\n",
       "gas                    .         \n",
       "gasoline               .         \n",
       "hybrid.diesel          .         \n",
       "hybrid.petrol          .         \n",
       "diesel_type            .         \n",
       "gasoline_type          .         \n",
       "sedan                  .         \n",
       "hatchback              .         \n",
       "universal              .         \n",
       "suv                    0.02873499\n",
       "minibus                0.10801590\n",
       "emergency              .         \n",
       "new                    0.13401140\n",
       "owned                  .         \n",
       "all                    0.21563735\n",
       "front                 -0.53385046\n",
       "rear                   .         "
      ]
     },
     "metadata": {},
     "output_type": "display_data"
    }
   ],
   "source": [
    "# Check the coefficients\n",
    "Lasso_model_coeff <- predict(Lasso_model, s = best_lambda, newx = car_validation_X, type = \"coefficient\")\n",
    "Lasso_model_coeff"
   ]
  },
  {
   "cell_type": "code",
   "execution_count": 201,
   "id": "eastern-psychiatry",
   "metadata": {
    "vscode": {
     "languageId": "r"
    }
   },
   "outputs": [
    {
     "data": {
      "text/plain": [
       "          Lasso_model_prey\n",
       "car_test_y     0     1\n",
       "         0 11033     3\n",
       "         1   220    45"
      ]
     },
     "metadata": {},
     "output_type": "display_data"
    }
   ],
   "source": [
    "# Make predictions\n",
    "Lasso_model_prey <- predict(Lasso_model, s = best_lambda, newx = car_test_X, type = \"class\")\n",
    "Lasso_model_prey <- as.factor(Lasso_model_prey)\n",
    "Lasso_model_cm <- table(car_test_y, Lasso_model_prey)\n",
    "Lasso_model_cm"
   ]
  },
  {
   "cell_type": "raw",
   "id": "aquatic-control",
   "metadata": {},
   "source": [
    "Let's interpret this result.\n",
    "\n",
    "Among the actually cheap car, the number of car that is predicted to be cheap is 11033. \n",
    "Among the actually cheap car, the number of car that is wrongly predicted to be expensive is 3.\n",
    "\n",
    "Among the actually expensive car, the number of car that is predicted to be expensive is 45. \n",
    "Among the actually expensive car, the number of car that is wrongly predicted to be cheap is 220"
   ]
  },
  {
   "cell_type": "code",
   "execution_count": 202,
   "id": "broken-equipment",
   "metadata": {
    "vscode": {
     "languageId": "r"
    }
   },
   "outputs": [
    {
     "data": {
      "text/html": [
       "<table>\n",
       "<thead><tr><th></th><th scope=col>TPR </th><th scope=col>Precision</th><th scope=col>TNR</th><th scope=col>ACC</th><th scope=col>F1</th></tr></thead>\n",
       "<tbody>\n",
       "\t<tr><th scope=row>Logstic Regression</th><td>0.5622642</td><td>0.7563452</td><td>0.9956506</td><td>0.9854880</td><td>0.6450216</td></tr>\n",
       "\t<tr><th scope=row>Forward</th><td>0.5735849</td><td>0.7794872</td><td>0.9961037</td><td>0.9861959</td><td>0.6608696</td></tr>\n",
       "\t<tr><th scope=row>Backward</th><td>0.5622642</td><td>0.7720207</td><td>0.9960130</td><td>0.9858420</td><td>0.6506550</td></tr>\n",
       "\t<tr><th scope=row>Lidge</th><td>0.2452830</td><td>0.9154930</td><td>0.9994563</td><td>0.9817715</td><td>0.3869048</td></tr>\n",
       "\t<tr><th scope=row>Lasso</th><td>0.1698113</td><td>0.9375000</td><td>0.9997282</td><td>0.9802672</td><td>0.2875399</td></tr>\n",
       "</tbody>\n",
       "</table>\n"
      ],
      "text/latex": [
       "\\begin{tabular}{r|lllll}\n",
       "  & TPR  & Precision & TNR & ACC & F1\\\\\n",
       "\\hline\n",
       "\tLogstic Regression & 0.5622642 & 0.7563452 & 0.9956506 & 0.9854880 & 0.6450216\\\\\n",
       "\tForward & 0.5735849 & 0.7794872 & 0.9961037 & 0.9861959 & 0.6608696\\\\\n",
       "\tBackward & 0.5622642 & 0.7720207 & 0.9960130 & 0.9858420 & 0.6506550\\\\\n",
       "\tLidge & 0.2452830 & 0.9154930 & 0.9994563 & 0.9817715 & 0.3869048\\\\\n",
       "\tLasso & 0.1698113 & 0.9375000 & 0.9997282 & 0.9802672 & 0.2875399\\\\\n",
       "\\end{tabular}\n"
      ],
      "text/markdown": [
       "\n",
       "| <!--/--> | TPR  | Precision | TNR | ACC | F1 |\n",
       "|---|---|---|---|---|---|\n",
       "| Logstic Regression | 0.5622642 | 0.7563452 | 0.9956506 | 0.9854880 | 0.6450216 |\n",
       "| Forward | 0.5735849 | 0.7794872 | 0.9961037 | 0.9861959 | 0.6608696 |\n",
       "| Backward | 0.5622642 | 0.7720207 | 0.9960130 | 0.9858420 | 0.6506550 |\n",
       "| Lidge | 0.2452830 | 0.9154930 | 0.9994563 | 0.9817715 | 0.3869048 |\n",
       "| Lasso | 0.1698113 | 0.9375000 | 0.9997282 | 0.9802672 | 0.2875399 |\n",
       "\n"
      ],
      "text/plain": [
       "                   TPR       Precision TNR       ACC       F1       \n",
       "Logstic Regression 0.5622642 0.7563452 0.9956506 0.9854880 0.6450216\n",
       "Forward            0.5735849 0.7794872 0.9961037 0.9861959 0.6608696\n",
       "Backward           0.5622642 0.7720207 0.9960130 0.9858420 0.6506550\n",
       "Lidge              0.2452830 0.9154930 0.9994563 0.9817715 0.3869048\n",
       "Lasso              0.1698113 0.9375000 0.9997282 0.9802672 0.2875399"
      ]
     },
     "metadata": {},
     "output_type": "display_data"
    }
   ],
   "source": [
    "# Peformance evaluation\n",
    "perf_mat2[5,] <- perf_eval2(Lasso_model_cm)\n",
    "perf_mat2"
   ]
  },
  {
   "cell_type": "raw",
   "id": "frequent-conditions",
   "metadata": {},
   "source": [
    "Let's interpret the result above.\n",
    "\n",
    "When we use Lasso, \n",
    "\n",
    "True positive rate: 0.1698113\n",
    "Precision: 0.9375000\n",
    "True negative rate: 0.9997282\n",
    "Accuracy: 0.9802672\n",
    "F1-Measure: 0.2875399\n",
    "\n",
    "In Lidge and Lasso regression, they perform better in some parts but worse in other parts.\n",
    "But, which one is the best resampling model among Using all variable, Forward, Backward, Lidge, and Lasso.\n",
    "To decide this, we use error rate.\n"
   ]
  },
  {
   "cell_type": "code",
   "execution_count": 207,
   "id": "overall-jonathan",
   "metadata": {
    "scrolled": true,
    "vscode": {
     "languageId": "r"
    }
   },
   "outputs": [
    {
     "data": {
      "text/html": [
       "0.0145119900893726"
      ],
      "text/latex": [
       "0.0145119900893726"
      ],
      "text/markdown": [
       "0.0145119900893726"
      ],
      "text/plain": [
       "[1] 0.01451199"
      ]
     },
     "metadata": {},
     "output_type": "display_data"
    },
    {
     "data": {
      "text/html": [
       "0.0138040881337935"
      ],
      "text/latex": [
       "0.0138040881337935"
      ],
      "text/markdown": [
       "0.0138040881337935"
      ],
      "text/plain": [
       "[1] 0.01380409"
      ]
     },
     "metadata": {},
     "output_type": "display_data"
    },
    {
     "data": {
      "text/html": [
       "0.014158039111583"
      ],
      "text/latex": [
       "0.014158039111583"
      ],
      "text/markdown": [
       "0.014158039111583"
      ],
      "text/plain": [
       "[1] 0.01415804"
      ]
     },
     "metadata": {},
     "output_type": "display_data"
    },
    {
     "data": {
      "text/html": [
       "0.0182284753561632"
      ],
      "text/latex": [
       "0.0182284753561632"
      ],
      "text/markdown": [
       "0.0182284753561632"
      ],
      "text/plain": [
       "[1] 0.01822848"
      ]
     },
     "metadata": {},
     "output_type": "display_data"
    },
    {
     "data": {
      "text/html": [
       "0.0197327670117689"
      ],
      "text/latex": [
       "0.0197327670117689"
      ],
      "text/markdown": [
       "0.0197327670117689"
      ],
      "text/plain": [
       "[1] 0.01973277"
      ]
     },
     "metadata": {},
     "output_type": "display_data"
    }
   ],
   "source": [
    "#Using all variable\n",
    "mean(lr_predicted!=lr_target)\n",
    "# Forward selection\n",
    "mean(forward_model_prey!=lr_target)\n",
    "# Backward selection\n",
    "mean(backward_model_prey!=lr_target)\n",
    "# Lidge\n",
    "mean(Ridge_model_predy!=lr_target)\n",
    "# Lasso\n",
    "mean(Lasso_model_prey!=lr_target)"
   ]
  },
  {
   "cell_type": "markdown",
   "id": "forced-accreditation",
   "metadata": {},
   "source": [
    "When we use Forward selection, we ger the smallest error rate."
   ]
  },
  {
   "cell_type": "markdown",
   "id": "forward-tennessee",
   "metadata": {},
   "source": [
    "# 7.4 Decision Trees"
   ]
  },
  {
   "cell_type": "code",
   "execution_count": 227,
   "id": "upper-immune",
   "metadata": {
    "vscode": {
     "languageId": "r"
    }
   },
   "outputs": [
    {
     "data": {
      "text/html": [
       "<table>\n",
       "<thead><tr><th></th><th scope=col>TPR</th><th scope=col>Precision</th><th scope=col>TNR</th><th scope=col>Accuracy</th><th scope=col>F1-Measure</th></tr></thead>\n",
       "<tbody>\n",
       "\t<tr><th scope=row>Post-Pruning</th><td>0</td><td>0</td><td>0</td><td>0</td><td>0</td></tr>\n",
       "\t<tr><th scope=row>Pre-Pruning</th><td>0</td><td>0</td><td>0</td><td>0</td><td>0</td></tr>\n",
       "</tbody>\n",
       "</table>\n"
      ],
      "text/latex": [
       "\\begin{tabular}{r|lllll}\n",
       "  & TPR & Precision & TNR & Accuracy & F1-Measure\\\\\n",
       "\\hline\n",
       "\tPost-Pruning & 0 & 0 & 0 & 0 & 0\\\\\n",
       "\tPre-Pruning & 0 & 0 & 0 & 0 & 0\\\\\n",
       "\\end{tabular}\n"
      ],
      "text/markdown": [
       "\n",
       "| <!--/--> | TPR | Precision | TNR | Accuracy | F1-Measure |\n",
       "|---|---|---|---|---|---|\n",
       "| Post-Pruning | 0 | 0 | 0 | 0 | 0 |\n",
       "| Pre-Pruning | 0 | 0 | 0 | 0 | 0 |\n",
       "\n"
      ],
      "text/plain": [
       "             TPR Precision TNR Accuracy F1-Measure\n",
       "Post-Pruning 0   0         0   0        0         \n",
       "Pre-Pruning  0   0         0   0        0         "
      ]
     },
     "metadata": {},
     "output_type": "display_data"
    }
   ],
   "source": [
    "# For classification tree, we use post_pruning and pre_pruning\n",
    "Perf_Table3 <- matrix(0, nrow = 2, ncol = 5)\n",
    "rownames(Perf_Table3) <- c(\"Post-Pruning\", \"Pre-Pruning\")\n",
    "colnames(Perf_Table3) <- c(\"TPR\", \"Precision\", \"TNR\", \"Accuracy\", \"F1-Measure\")\n",
    "Perf_Table3"
   ]
  },
  {
   "cell_type": "markdown",
   "id": "boring-calcium",
   "metadata": {},
   "source": [
    "# 7.4.1 post-pruning"
   ]
  },
  {
   "cell_type": "code",
   "execution_count": 209,
   "id": "breathing-canada",
   "metadata": {
    "vscode": {
     "languageId": "r"
    }
   },
   "outputs": [
    {
     "name": "stderr",
     "output_type": "stream",
     "text": [
      "Warning message:\n",
      "\"package 'tree' was built under R version 3.6.3\"Registered S3 method overwritten by 'tree':\n",
      "  method     from\n",
      "  print.tree cli \n"
     ]
    }
   ],
   "source": [
    "install.packages(\"tree\")\n",
    "library(tree)"
   ]
  },
  {
   "cell_type": "code",
   "execution_count": 210,
   "id": "parental-mauritius",
   "metadata": {
    "vscode": {
     "languageId": "r"
    }
   },
   "outputs": [
    {
     "data": {
      "text/plain": [
       " price_category odometer_value    year_produced  engine_capacity\n",
       " 0:36807        Min.   :      0   Min.   :1960   Min.   :0.200  \n",
       " 1:  862        1st Qu.: 160000   1st Qu.:1998   1st Qu.:1.600  \n",
       "                Median : 250000   Median :2003   Median :2.000  \n",
       "                Mean   : 251114   Mean   :2003   Mean   :2.061  \n",
       "                3rd Qu.: 326000   3rd Qu.:2009   3rd Qu.:2.300  \n",
       "                Max.   :1000000   Max.   :2019   Max.   :7.500  \n",
       " dummy_is_exchangeable dummy_has_warranty dummy_engine_has_gas\n",
       " Min.   :0.0000        Min.   :0.00000    Min.   :0.00000     \n",
       " 1st Qu.:0.0000        1st Qu.:0.00000    1st Qu.:0.00000     \n",
       " Median :0.0000        Median :0.00000    Median :0.00000     \n",
       " Mean   :0.3542        Mean   :0.01187    Mean   :0.03451     \n",
       " 3rd Qu.:1.0000        3rd Qu.:0.00000    3rd Qu.:0.00000     \n",
       " Max.   :1.0000        Max.   :1.00000    Max.   :1.00000     \n",
       " transmission_dummy     black            silver            blue       \n",
       " Min.   :0.0000     Min.   :0.0000   Min.   :0.0000   Min.   :0.0000  \n",
       " 1st Qu.:0.0000     1st Qu.:0.0000   1st Qu.:0.0000   1st Qu.:0.0000  \n",
       " Median :1.0000     Median :0.0000   Median :0.0000   Median :0.0000  \n",
       " Mean   :0.6579     Mean   :0.2026   Mean   :0.1805   Mean   :0.1509  \n",
       " 3rd Qu.:1.0000     3rd Qu.:0.0000   3rd Qu.:0.0000   3rd Qu.:0.0000  \n",
       " Max.   :1.0000     Max.   :1.0000   Max.   :1.0000   Max.   :1.0000  \n",
       "     white             grey              red         other_color     \n",
       " Min.   :0.0000   Min.   :0.00000   Min.   :0.000   Min.   :0.00000  \n",
       " 1st Qu.:0.0000   1st Qu.:0.00000   1st Qu.:0.000   1st Qu.:0.00000  \n",
       " Median :0.0000   Median :0.00000   Median :0.000   Median :0.00000  \n",
       " Mean   :0.1075   Mean   :0.09836   Mean   :0.075   Mean   :0.06876  \n",
       " 3rd Qu.:0.0000   3rd Qu.:0.00000   3rd Qu.:0.000   3rd Qu.:0.00000  \n",
       " Max.   :1.0000   Max.   :1.00000   Max.   :1.000   Max.   :1.00000  \n",
       "   Volkswagen          Opel              BMW               Ford        \n",
       " Min.   :0.0000   Min.   :0.00000   Min.   :0.00000   Min.   :0.00000  \n",
       " 1st Qu.:0.0000   1st Qu.:0.00000   1st Qu.:0.00000   1st Qu.:0.00000  \n",
       " Median :0.0000   Median :0.00000   Median :0.00000   Median :0.00000  \n",
       " Mean   :0.1126   Mean   :0.07324   Mean   :0.06923   Mean   :0.06812  \n",
       " 3rd Qu.:0.0000   3rd Qu.:0.00000   3rd Qu.:0.00000   3rd Qu.:0.00000  \n",
       " Max.   :1.0000   Max.   :1.00000   Max.   :1.00000   Max.   :1.00000  \n",
       "    Renault             Audi         other_manufaturer     diesel      \n",
       " Min.   :0.00000   Min.   :0.00000   Min.   :0         Min.   :0.0000  \n",
       " 1st Qu.:0.00000   1st Qu.:0.00000   1st Qu.:0         1st Qu.:0.0000  \n",
       " Median :0.00000   Median :0.00000   Median :0         Median :0.0000  \n",
       " Mean   :0.06618   Mean   :0.06552   Mean   :0         Mean   :0.3411  \n",
       " 3rd Qu.:0.00000   3rd Qu.:0.00000   3rd Qu.:0         3rd Qu.:1.0000  \n",
       " Max.   :1.00000   Max.   :1.00000   Max.   :0         Max.   :1.0000  \n",
       "    electric      gas             gasoline      hybrid-diesel      \n",
       " Min.   :0   Min.   :0.00000   Min.   :0.0000   Min.   :0.0000000  \n",
       " 1st Qu.:0   1st Qu.:0.00000   1st Qu.:0.0000   1st Qu.:0.0000000  \n",
       " Median :0   Median :0.00000   Median :1.0000   Median :0.0000000  \n",
       " Mean   :0   Mean   :0.03451   Mean   :0.6181   Mean   :0.0000531  \n",
       " 3rd Qu.:0   3rd Qu.:0.00000   3rd Qu.:1.0000   3rd Qu.:0.0000000  \n",
       " Max.   :0   Max.   :1.00000   Max.   :1.0000   Max.   :1.0000000  \n",
       " hybrid-petrol       diesel_type     electric_type gasoline_type   \n",
       " Min.   :0.000000   Min.   :0.0000   Min.   :0     Min.   :0.0000  \n",
       " 1st Qu.:0.000000   1st Qu.:0.0000   1st Qu.:0     1st Qu.:0.0000  \n",
       " Median :0.000000   Median :0.0000   Median :0     Median :1.0000  \n",
       " Mean   :0.006239   Mean   :0.3411   Mean   :0     Mean   :0.6589  \n",
       " 3rd Qu.:0.000000   3rd Qu.:1.0000   3rd Qu.:0     3rd Qu.:1.0000  \n",
       " Max.   :1.000000   Max.   :1.0000   Max.   :0     Max.   :1.0000  \n",
       "     sedan          hatchback        universal           suv        \n",
       " Min.   :0.0000   Min.   :0.0000   Min.   :0.0000   Min.   :0.0000  \n",
       " 1st Qu.:0.0000   1st Qu.:0.0000   1st Qu.:0.0000   1st Qu.:0.0000  \n",
       " Median :0.0000   Median :0.0000   Median :0.0000   Median :0.0000  \n",
       " Mean   :0.3334   Mean   :0.1992   Mean   :0.1452   Mean   :0.1337  \n",
       " 3rd Qu.:1.0000   3rd Qu.:0.0000   3rd Qu.:0.0000   3rd Qu.:0.0000  \n",
       " Max.   :1.0000   Max.   :1.0000   Max.   :1.0000   Max.   :1.0000  \n",
       "    minibus          other_type   emergency             new         \n",
       " Min.   :0.00000   Min.   :0    Min.   :0.000000   Min.   :0.00000  \n",
       " 1st Qu.:0.00000   1st Qu.:0    1st Qu.:0.000000   1st Qu.:0.00000  \n",
       " Median :0.00000   Median :0    Median :0.000000   Median :0.00000  \n",
       " Mean   :0.03541   Mean   :0    Mean   :0.009371   Mean   :0.01163  \n",
       " 3rd Qu.:0.00000   3rd Qu.:0    3rd Qu.:0.000000   3rd Qu.:0.00000  \n",
       " Max.   :1.00000   Max.   :0    Max.   :1.000000   Max.   :1.00000  \n",
       "     owned            all             front             rear       \n",
       " Min.   :0.000   Min.   :0.0000   Min.   :0.0000   Min.   :0.0000  \n",
       " 1st Qu.:1.000   1st Qu.:0.0000   1st Qu.:0.0000   1st Qu.:0.0000  \n",
       " Median :1.000   Median :0.0000   Median :1.0000   Median :0.0000  \n",
       " Mean   :0.979   Mean   :0.1392   Mean   :0.7292   Mean   :0.1316  \n",
       " 3rd Qu.:1.000   3rd Qu.:0.0000   3rd Qu.:1.0000   3rd Qu.:0.0000  \n",
       " Max.   :1.000   Max.   :1.0000   Max.   :1.0000   Max.   :1.0000  "
      ]
     },
     "metadata": {},
     "output_type": "display_data"
    }
   ],
   "source": [
    "# In this part, we will use the data created  at the beggining logistic regression part. \n",
    "#So, dependent variables are 0 and 1(cheap and expensive), and data is not scaled.\n",
    "summary(car_data_for_log)"
   ]
  },
  {
   "cell_type": "code",
   "execution_count": 211,
   "id": "associate-reflection",
   "metadata": {
    "vscode": {
     "languageId": "r"
    }
   },
   "outputs": [],
   "source": [
    "# price_category is target and the others are input\n",
    "input_idx2 <- -c(1)\n",
    "target_idx2 <- 1"
   ]
  },
  {
   "cell_type": "code",
   "execution_count": 212,
   "id": "difficult-protocol",
   "metadata": {
    "vscode": {
     "languageId": "r"
    }
   },
   "outputs": [],
   "source": [
    "# we create new data frame(= car_data_log2)\n",
    "car_input2 <- car_data_for_log[,input_idx2]\n",
    "car_target2 <- car_data_for_log[,target_idx2]\n",
    "car_data_log2 <- data.frame(car_target2, car_input2)\n"
   ]
  },
  {
   "cell_type": "code",
   "execution_count": 213,
   "id": "cordless-drinking",
   "metadata": {
    "vscode": {
     "languageId": "r"
    }
   },
   "outputs": [
    {
     "data": {
      "text/plain": [
       " car_target2 odometer_value    year_produced  engine_capacity\n",
       " 0:36807     Min.   :      0   Min.   :1960   Min.   :0.200  \n",
       " 1:  862     1st Qu.: 160000   1st Qu.:1998   1st Qu.:1.600  \n",
       "             Median : 250000   Median :2003   Median :2.000  \n",
       "             Mean   : 251114   Mean   :2003   Mean   :2.061  \n",
       "             3rd Qu.: 326000   3rd Qu.:2009   3rd Qu.:2.300  \n",
       "             Max.   :1000000   Max.   :2019   Max.   :7.500  \n",
       " dummy_is_exchangeable dummy_has_warranty dummy_engine_has_gas\n",
       " Min.   :0.0000        Min.   :0.00000    Min.   :0.00000     \n",
       " 1st Qu.:0.0000        1st Qu.:0.00000    1st Qu.:0.00000     \n",
       " Median :0.0000        Median :0.00000    Median :0.00000     \n",
       " Mean   :0.3542        Mean   :0.01187    Mean   :0.03451     \n",
       " 3rd Qu.:1.0000        3rd Qu.:0.00000    3rd Qu.:0.00000     \n",
       " Max.   :1.0000        Max.   :1.00000    Max.   :1.00000     \n",
       " transmission_dummy     black            silver            blue       \n",
       " Min.   :0.0000     Min.   :0.0000   Min.   :0.0000   Min.   :0.0000  \n",
       " 1st Qu.:0.0000     1st Qu.:0.0000   1st Qu.:0.0000   1st Qu.:0.0000  \n",
       " Median :1.0000     Median :0.0000   Median :0.0000   Median :0.0000  \n",
       " Mean   :0.6579     Mean   :0.2026   Mean   :0.1805   Mean   :0.1509  \n",
       " 3rd Qu.:1.0000     3rd Qu.:0.0000   3rd Qu.:0.0000   3rd Qu.:0.0000  \n",
       " Max.   :1.0000     Max.   :1.0000   Max.   :1.0000   Max.   :1.0000  \n",
       "     white             grey              red         other_color     \n",
       " Min.   :0.0000   Min.   :0.00000   Min.   :0.000   Min.   :0.00000  \n",
       " 1st Qu.:0.0000   1st Qu.:0.00000   1st Qu.:0.000   1st Qu.:0.00000  \n",
       " Median :0.0000   Median :0.00000   Median :0.000   Median :0.00000  \n",
       " Mean   :0.1075   Mean   :0.09836   Mean   :0.075   Mean   :0.06876  \n",
       " 3rd Qu.:0.0000   3rd Qu.:0.00000   3rd Qu.:0.000   3rd Qu.:0.00000  \n",
       " Max.   :1.0000   Max.   :1.00000   Max.   :1.000   Max.   :1.00000  \n",
       "   Volkswagen          Opel              BMW               Ford        \n",
       " Min.   :0.0000   Min.   :0.00000   Min.   :0.00000   Min.   :0.00000  \n",
       " 1st Qu.:0.0000   1st Qu.:0.00000   1st Qu.:0.00000   1st Qu.:0.00000  \n",
       " Median :0.0000   Median :0.00000   Median :0.00000   Median :0.00000  \n",
       " Mean   :0.1126   Mean   :0.07324   Mean   :0.06923   Mean   :0.06812  \n",
       " 3rd Qu.:0.0000   3rd Qu.:0.00000   3rd Qu.:0.00000   3rd Qu.:0.00000  \n",
       " Max.   :1.0000   Max.   :1.00000   Max.   :1.00000   Max.   :1.00000  \n",
       "    Renault             Audi         other_manufaturer     diesel      \n",
       " Min.   :0.00000   Min.   :0.00000   Min.   :0         Min.   :0.0000  \n",
       " 1st Qu.:0.00000   1st Qu.:0.00000   1st Qu.:0         1st Qu.:0.0000  \n",
       " Median :0.00000   Median :0.00000   Median :0         Median :0.0000  \n",
       " Mean   :0.06618   Mean   :0.06552   Mean   :0         Mean   :0.3411  \n",
       " 3rd Qu.:0.00000   3rd Qu.:0.00000   3rd Qu.:0         3rd Qu.:1.0000  \n",
       " Max.   :1.00000   Max.   :1.00000   Max.   :0         Max.   :1.0000  \n",
       "    electric      gas             gasoline      hybrid.diesel      \n",
       " Min.   :0   Min.   :0.00000   Min.   :0.0000   Min.   :0.0000000  \n",
       " 1st Qu.:0   1st Qu.:0.00000   1st Qu.:0.0000   1st Qu.:0.0000000  \n",
       " Median :0   Median :0.00000   Median :1.0000   Median :0.0000000  \n",
       " Mean   :0   Mean   :0.03451   Mean   :0.6181   Mean   :0.0000531  \n",
       " 3rd Qu.:0   3rd Qu.:0.00000   3rd Qu.:1.0000   3rd Qu.:0.0000000  \n",
       " Max.   :0   Max.   :1.00000   Max.   :1.0000   Max.   :1.0000000  \n",
       " hybrid.petrol       diesel_type     electric_type gasoline_type   \n",
       " Min.   :0.000000   Min.   :0.0000   Min.   :0     Min.   :0.0000  \n",
       " 1st Qu.:0.000000   1st Qu.:0.0000   1st Qu.:0     1st Qu.:0.0000  \n",
       " Median :0.000000   Median :0.0000   Median :0     Median :1.0000  \n",
       " Mean   :0.006239   Mean   :0.3411   Mean   :0     Mean   :0.6589  \n",
       " 3rd Qu.:0.000000   3rd Qu.:1.0000   3rd Qu.:0     3rd Qu.:1.0000  \n",
       " Max.   :1.000000   Max.   :1.0000   Max.   :0     Max.   :1.0000  \n",
       "     sedan          hatchback        universal           suv        \n",
       " Min.   :0.0000   Min.   :0.0000   Min.   :0.0000   Min.   :0.0000  \n",
       " 1st Qu.:0.0000   1st Qu.:0.0000   1st Qu.:0.0000   1st Qu.:0.0000  \n",
       " Median :0.0000   Median :0.0000   Median :0.0000   Median :0.0000  \n",
       " Mean   :0.3334   Mean   :0.1992   Mean   :0.1452   Mean   :0.1337  \n",
       " 3rd Qu.:1.0000   3rd Qu.:0.0000   3rd Qu.:0.0000   3rd Qu.:0.0000  \n",
       " Max.   :1.0000   Max.   :1.0000   Max.   :1.0000   Max.   :1.0000  \n",
       "    minibus          other_type   emergency             new         \n",
       " Min.   :0.00000   Min.   :0    Min.   :0.000000   Min.   :0.00000  \n",
       " 1st Qu.:0.00000   1st Qu.:0    1st Qu.:0.000000   1st Qu.:0.00000  \n",
       " Median :0.00000   Median :0    Median :0.000000   Median :0.00000  \n",
       " Mean   :0.03541   Mean   :0    Mean   :0.009371   Mean   :0.01163  \n",
       " 3rd Qu.:0.00000   3rd Qu.:0    3rd Qu.:0.000000   3rd Qu.:0.00000  \n",
       " Max.   :1.00000   Max.   :0    Max.   :1.000000   Max.   :1.00000  \n",
       "     owned            all             front             rear       \n",
       " Min.   :0.000   Min.   :0.0000   Min.   :0.0000   Min.   :0.0000  \n",
       " 1st Qu.:1.000   1st Qu.:0.0000   1st Qu.:0.0000   1st Qu.:0.0000  \n",
       " Median :1.000   Median :0.0000   Median :1.0000   Median :0.0000  \n",
       " Mean   :0.979   Mean   :0.1392   Mean   :0.7292   Mean   :0.1316  \n",
       " 3rd Qu.:1.000   3rd Qu.:0.0000   3rd Qu.:1.0000   3rd Qu.:0.0000  \n",
       " Max.   :1.000   Max.   :1.0000   Max.   :1.0000   Max.   :1.0000  "
      ]
     },
     "metadata": {},
     "output_type": "display_data"
    }
   ],
   "source": [
    "summary(car_data_log2)"
   ]
  },
  {
   "cell_type": "code",
   "execution_count": 214,
   "id": "former-aging",
   "metadata": {
    "vscode": {
     "languageId": "r"
    }
   },
   "outputs": [],
   "source": [
    "car_data_log_new2<- car_data_log2[,c(-21,-23,-29,-36)]"
   ]
  },
  {
   "cell_type": "code",
   "execution_count": 215,
   "id": "hollywood-damage",
   "metadata": {
    "vscode": {
     "languageId": "r"
    }
   },
   "outputs": [],
   "source": [
    "# We split data into traing set (70% of whole data) and test set(30% of whole data).\n",
    "set.seed(23456)\n",
    "car_training_idx3 <- sample(1:nrow(car_data_log_new2), round(0.7*nrow(car_data_log_new2)))\n",
    "car_training_data3 <- na.omit(car_data_log_new2[car_training_idx3,])\n",
    "car_test_data3 <- na.omit(car_data_log_new2[-car_training_idx3,])"
   ]
  },
  {
   "cell_type": "code",
   "execution_count": 216,
   "id": "legendary-silicon",
   "metadata": {
    "vscode": {
     "languageId": "r"
    }
   },
   "outputs": [
    {
     "data": {
      "text/plain": [
       " car_target2 odometer_value    year_produced  engine_capacity\n",
       " 0:36807     Min.   :      0   Min.   :1960   Min.   :0.200  \n",
       " 1:  862     1st Qu.: 160000   1st Qu.:1998   1st Qu.:1.600  \n",
       "             Median : 250000   Median :2003   Median :2.000  \n",
       "             Mean   : 251114   Mean   :2003   Mean   :2.061  \n",
       "             3rd Qu.: 326000   3rd Qu.:2009   3rd Qu.:2.300  \n",
       "             Max.   :1000000   Max.   :2019   Max.   :7.500  \n",
       " dummy_is_exchangeable dummy_has_warranty dummy_engine_has_gas\n",
       " Min.   :0.0000        Min.   :0.00000    Min.   :0.00000     \n",
       " 1st Qu.:0.0000        1st Qu.:0.00000    1st Qu.:0.00000     \n",
       " Median :0.0000        Median :0.00000    Median :0.00000     \n",
       " Mean   :0.3542        Mean   :0.01187    Mean   :0.03451     \n",
       " 3rd Qu.:1.0000        3rd Qu.:0.00000    3rd Qu.:0.00000     \n",
       " Max.   :1.0000        Max.   :1.00000    Max.   :1.00000     \n",
       " transmission_dummy     black            silver            blue       \n",
       " Min.   :0.0000     Min.   :0.0000   Min.   :0.0000   Min.   :0.0000  \n",
       " 1st Qu.:0.0000     1st Qu.:0.0000   1st Qu.:0.0000   1st Qu.:0.0000  \n",
       " Median :1.0000     Median :0.0000   Median :0.0000   Median :0.0000  \n",
       " Mean   :0.6579     Mean   :0.2026   Mean   :0.1805   Mean   :0.1509  \n",
       " 3rd Qu.:1.0000     3rd Qu.:0.0000   3rd Qu.:0.0000   3rd Qu.:0.0000  \n",
       " Max.   :1.0000     Max.   :1.0000   Max.   :1.0000   Max.   :1.0000  \n",
       "     white             grey              red         other_color     \n",
       " Min.   :0.0000   Min.   :0.00000   Min.   :0.000   Min.   :0.00000  \n",
       " 1st Qu.:0.0000   1st Qu.:0.00000   1st Qu.:0.000   1st Qu.:0.00000  \n",
       " Median :0.0000   Median :0.00000   Median :0.000   Median :0.00000  \n",
       " Mean   :0.1075   Mean   :0.09836   Mean   :0.075   Mean   :0.06876  \n",
       " 3rd Qu.:0.0000   3rd Qu.:0.00000   3rd Qu.:0.000   3rd Qu.:0.00000  \n",
       " Max.   :1.0000   Max.   :1.00000   Max.   :1.000   Max.   :1.00000  \n",
       "   Volkswagen          Opel              BMW               Ford        \n",
       " Min.   :0.0000   Min.   :0.00000   Min.   :0.00000   Min.   :0.00000  \n",
       " 1st Qu.:0.0000   1st Qu.:0.00000   1st Qu.:0.00000   1st Qu.:0.00000  \n",
       " Median :0.0000   Median :0.00000   Median :0.00000   Median :0.00000  \n",
       " Mean   :0.1126   Mean   :0.07324   Mean   :0.06923   Mean   :0.06812  \n",
       " 3rd Qu.:0.0000   3rd Qu.:0.00000   3rd Qu.:0.00000   3rd Qu.:0.00000  \n",
       " Max.   :1.0000   Max.   :1.00000   Max.   :1.00000   Max.   :1.00000  \n",
       "    Renault        other_manufaturer    electric      gas         \n",
       " Min.   :0.00000   Min.   :0         Min.   :0   Min.   :0.00000  \n",
       " 1st Qu.:0.00000   1st Qu.:0         1st Qu.:0   1st Qu.:0.00000  \n",
       " Median :0.00000   Median :0         Median :0   Median :0.00000  \n",
       " Mean   :0.06618   Mean   :0         Mean   :0   Mean   :0.03451  \n",
       " 3rd Qu.:0.00000   3rd Qu.:0         3rd Qu.:0   3rd Qu.:0.00000  \n",
       " Max.   :1.00000   Max.   :0         Max.   :0   Max.   :1.00000  \n",
       "    gasoline      hybrid.diesel       hybrid.petrol      electric_type\n",
       " Min.   :0.0000   Min.   :0.0000000   Min.   :0.000000   Min.   :0    \n",
       " 1st Qu.:0.0000   1st Qu.:0.0000000   1st Qu.:0.000000   1st Qu.:0    \n",
       " Median :1.0000   Median :0.0000000   Median :0.000000   Median :0    \n",
       " Mean   :0.6181   Mean   :0.0000531   Mean   :0.006239   Mean   :0    \n",
       " 3rd Qu.:1.0000   3rd Qu.:0.0000000   3rd Qu.:0.000000   3rd Qu.:0    \n",
       " Max.   :1.0000   Max.   :1.0000000   Max.   :1.000000   Max.   :0    \n",
       " gasoline_type        sedan          hatchback        universal     \n",
       " Min.   :0.0000   Min.   :0.0000   Min.   :0.0000   Min.   :0.0000  \n",
       " 1st Qu.:0.0000   1st Qu.:0.0000   1st Qu.:0.0000   1st Qu.:0.0000  \n",
       " Median :1.0000   Median :0.0000   Median :0.0000   Median :0.0000  \n",
       " Mean   :0.6589   Mean   :0.3334   Mean   :0.1992   Mean   :0.1452  \n",
       " 3rd Qu.:1.0000   3rd Qu.:1.0000   3rd Qu.:0.0000   3rd Qu.:0.0000  \n",
       " Max.   :1.0000   Max.   :1.0000   Max.   :1.0000   Max.   :1.0000  \n",
       "      suv           other_type   emergency             new         \n",
       " Min.   :0.0000   Min.   :0    Min.   :0.000000   Min.   :0.00000  \n",
       " 1st Qu.:0.0000   1st Qu.:0    1st Qu.:0.000000   1st Qu.:0.00000  \n",
       " Median :0.0000   Median :0    Median :0.000000   Median :0.00000  \n",
       " Mean   :0.1337   Mean   :0    Mean   :0.009371   Mean   :0.01163  \n",
       " 3rd Qu.:0.0000   3rd Qu.:0    3rd Qu.:0.000000   3rd Qu.:0.00000  \n",
       " Max.   :1.0000   Max.   :0    Max.   :1.000000   Max.   :1.00000  \n",
       "     owned            all             front             rear       \n",
       " Min.   :0.000   Min.   :0.0000   Min.   :0.0000   Min.   :0.0000  \n",
       " 1st Qu.:1.000   1st Qu.:0.0000   1st Qu.:0.0000   1st Qu.:0.0000  \n",
       " Median :1.000   Median :0.0000   Median :1.0000   Median :0.0000  \n",
       " Mean   :0.979   Mean   :0.1392   Mean   :0.7292   Mean   :0.1316  \n",
       " 3rd Qu.:1.000   3rd Qu.:0.0000   3rd Qu.:1.0000   3rd Qu.:0.0000  \n",
       " Max.   :1.000   Max.   :1.0000   Max.   :1.0000   Max.   :1.0000  "
      ]
     },
     "metadata": {},
     "output_type": "display_data"
    }
   ],
   "source": [
    "summary(car_data_log_new2)"
   ]
  },
  {
   "cell_type": "code",
   "execution_count": 217,
   "id": "biblical-dressing",
   "metadata": {
    "vscode": {
     "languageId": "r"
    }
   },
   "outputs": [
    {
     "data": {
      "text/plain": [
       "\n",
       "Classification tree:\n",
       "tree(formula = car_target2 ~ ., data = car_training_data3)\n",
       "Variables actually used in tree construction:\n",
       "[1] \"year_produced\"   \"engine_capacity\" \"front\"           \"odometer_value\" \n",
       "Number of terminal nodes:  10 \n",
       "Residual mean deviance:  0.08996 = 2371 / 26360 \n",
       "Misclassification error rate: 0.0176 = 464 / 26368 "
      ]
     },
     "metadata": {},
     "output_type": "display_data"
    }
   ],
   "source": [
    "# training tree(post prunung)\n",
    "\n",
    "CAR_post <- tree(car_target2 ~ ., car_training_data3)\n",
    "summary(CAR_post)"
   ]
  },
  {
   "cell_type": "markdown",
   "id": "sought-motor",
   "metadata": {},
   "source": [
    "Let's interpret this result. To make tree, only five variables are used: \n",
    "\"year_produced\", \"engine_capacity\", \"front\",  \"odometer_value\", \"minibus\".\n",
    "\n",
    "it has 10 leaf nodes\n",
    "\n",
    "Among 26368 observations, 464 observarions are misclassified, so the error rate is 0.0176."
   ]
  },
  {
   "cell_type": "code",
   "execution_count": 218,
   "id": "competent-screening",
   "metadata": {
    "vscode": {
     "languageId": "r"
    }
   },
   "outputs": [
    {
     "data": {
      "image/png": "[encoded data removed]",
      "text/plain": [
       "plot without title"
      ]
     },
     "metadata": {},
     "output_type": "display_data"
    }
   ],
   "source": [
    "# Plot the tree with text\n",
    "plot(CAR_post)\n",
    "text(CAR_post, pretty = 1)"
   ]
  },
  {
   "cell_type": "markdown",
   "id": "facial-class",
   "metadata": {},
   "source": [
    "Without pruning, the tree has 10 leaf nodes."
   ]
  },
  {
   "cell_type": "code",
   "execution_count": 219,
   "id": "swedish-uniform",
   "metadata": {
    "vscode": {
     "languageId": "r"
    }
   },
   "outputs": [],
   "source": [
    "# Find the best tree\n",
    "set.seed(12222)\n",
    "CAR_post_cv <- cv.tree(CAR_post, FUN = prune.misclass)"
   ]
  },
  {
   "cell_type": "markdown",
   "id": "juvenile-lindsay",
   "metadata": {},
   "source": [
    "we use cross validation(\"cv.tree\") here to find the best tree.\n",
    "So, we bring the training data, divide it into 5 parts.\n",
    "Among these 5 parts, we crossly use the 4 parts as training and the other 1 part as test.\n",
    "\n",
    "\"FUN = prune.misclass\" means that we order the pruning minimizes Misclassification rate."
   ]
  },
  {
   "cell_type": "code",
   "execution_count": 221,
   "id": "leading-concern",
   "metadata": {
    "vscode": {
     "languageId": "r"
    }
   },
   "outputs": [
    {
     "data": {
      "image/png": "[encoded data removed]",
      "text/plain": [
       "plot without title"
      ]
     },
     "metadata": {},
     "output_type": "display_data"
    }
   ],
   "source": [
    "# Plot the pruning result\n",
    "plot(CAR_post_cv$size, CAR_post_cv$dev, type = \"b\")\n"
   ]
  },
  {
   "cell_type": "markdown",
   "id": "first-communist",
   "metadata": {},
   "source": [
    "Let's see the result. horizontal line represents leaf nodes, and verical line represents deviance, that is, Impurity. \n",
    "As the number of nodes increases, the deviance(=impurity) decreases.\n",
    "In other words, the more we split the tree, diviance decreases.\n",
    "However, even though the deviance dramatically decrease at beggining, it decrease timidly beyond a certain point of the number of nodes.\n",
    "Let's see this result more specifically next."
   ]
  },
  {
   "cell_type": "code",
   "execution_count": 222,
   "id": "naval-concrete",
   "metadata": {
    "vscode": {
     "languageId": "r"
    }
   },
   "outputs": [
    {
     "data": {
      "text/plain": [
       "$size\n",
       "[1] 10  7  6  4  1\n",
       "\n",
       "$dev\n",
       "[1] 463 463 467 476 519\n",
       "\n",
       "$k\n",
       "[1]     -Inf  0.00000  7.00000 20.00000 28.66667\n",
       "\n",
       "$method\n",
       "[1] \"misclass\"\n",
       "\n",
       "attr(,\"class\")\n",
       "[1] \"prune\"         \"tree.sequence\""
      ]
     },
     "metadata": {},
     "output_type": "display_data"
    }
   ],
   "source": [
    "CAR_post_cv"
   ]
  },
  {
   "cell_type": "markdown",
   "id": "opening-wrist",
   "metadata": {},
   "source": [
    "When 1 node exists, the deviance is 519.\n",
    "When 4, 476\n",
    "when 6, 467.\n",
    "when 7, 463.\n",
    "when 10, 463.\n",
    "After 7 nodes, the deviance decrease little. So, we can guess that at 7 nodes, it is the best tree."
   ]
  },
  {
   "cell_type": "code",
   "execution_count": 223,
   "id": "personal-acrylic",
   "metadata": {
    "vscode": {
     "languageId": "r"
    }
   },
   "outputs": [
    {
     "data": {
      "image/png": "[encoded data removed]",
      "text/plain": [
       "plot without title"
      ]
     },
     "metadata": {},
     "output_type": "display_data"
    }
   ],
   "source": [
    "# Select the final model at 7 nodes.\n",
    "\n",
    "# Changing the original tree(CAR_post) to have only 7 leaf nodes\n",
    "CAR_post_pruned <- prune.misclass(CAR_post, best = 7)\n",
    "plot(CAR_post_pruned)\n",
    "text(CAR_post_pruned, pretty = 1)"
   ]
  },
  {
   "cell_type": "markdown",
   "id": "guilty-government",
   "metadata": {},
   "source": [
    "Let's see the result above. When we didn't post-pruning it has 10 leaf nodes. \n",
    "However, in post-pruning, we remove 3 leaf nodes to build the best tree."
   ]
  },
  {
   "cell_type": "code",
   "execution_count": 224,
   "id": "national-guatemala",
   "metadata": {
    "vscode": {
     "languageId": "r"
    }
   },
   "outputs": [
    {
     "data": {
      "text/plain": [
       "   CAR_post_prey\n",
       "        0     1\n",
       "  0 11016    20\n",
       "  1   179    86"
      ]
     },
     "metadata": {},
     "output_type": "display_data"
    }
   ],
   "source": [
    "# Prediction\n",
    "# Let' see that using post-pruned tree, how high prediction accuracy is with test data.\n",
    "CAR_post_prey <- predict(CAR_post_pruned, car_test_data3, type = \"class\")\n",
    "CAR_post_cm <- table(car_test_data3$car_target2, CAR_post_prey)\n",
    "CAR_post_cm"
   ]
  },
  {
   "cell_type": "raw",
   "id": "funny-stereo",
   "metadata": {},
   "source": [
    "Let's interpret this result.\n",
    "\n",
    "Among the actually cheap car, the number of car that is predicted to be cheap is 11016. \n",
    "Among the actually cheap car, the number of car that is wrongly predicted to be expensive is 20.\n",
    "\n",
    "Among the actually expensive car, the number of car that is predicted to be expensive is 86. \n",
    "Among the actually expensive car, the number of car that is wrongly predicted to be cheap is 179."
   ]
  },
  {
   "cell_type": "code",
   "execution_count": 228,
   "id": "silver-shipping",
   "metadata": {
    "vscode": {
     "languageId": "r"
    }
   },
   "outputs": [
    {
     "data": {
      "text/html": [
       "<table>\n",
       "<thead><tr><th></th><th scope=col>TPR</th><th scope=col>Precision</th><th scope=col>TNR</th><th scope=col>Accuracy</th><th scope=col>F1-Measure</th></tr></thead>\n",
       "<tbody>\n",
       "\t<tr><th scope=row>Post-Pruning</th><td>0.3245283</td><td>0.8113208</td><td>0.9981877</td><td>0.9823909</td><td>0.4636119</td></tr>\n",
       "\t<tr><th scope=row>Pre-Pruning</th><td>0.0000000</td><td>0.0000000</td><td>0.0000000</td><td>0.0000000</td><td>0.0000000</td></tr>\n",
       "</tbody>\n",
       "</table>\n"
      ],
      "text/latex": [
       "\\begin{tabular}{r|lllll}\n",
       "  & TPR & Precision & TNR & Accuracy & F1-Measure\\\\\n",
       "\\hline\n",
       "\tPost-Pruning & 0.3245283 & 0.8113208 & 0.9981877 & 0.9823909 & 0.4636119\\\\\n",
       "\tPre-Pruning & 0.0000000 & 0.0000000 & 0.0000000 & 0.0000000 & 0.0000000\\\\\n",
       "\\end{tabular}\n"
      ],
      "text/markdown": [
       "\n",
       "| <!--/--> | TPR | Precision | TNR | Accuracy | F1-Measure |\n",
       "|---|---|---|---|---|---|\n",
       "| Post-Pruning | 0.3245283 | 0.8113208 | 0.9981877 | 0.9823909 | 0.4636119 |\n",
       "| Pre-Pruning | 0.0000000 | 0.0000000 | 0.0000000 | 0.0000000 | 0.0000000 |\n",
       "\n"
      ],
      "text/plain": [
       "             TPR       Precision TNR       Accuracy  F1-Measure\n",
       "Post-Pruning 0.3245283 0.8113208 0.9981877 0.9823909 0.4636119 \n",
       "Pre-Pruning  0.0000000 0.0000000 0.0000000 0.0000000 0.0000000 "
      ]
     },
     "metadata": {},
     "output_type": "display_data"
    }
   ],
   "source": [
    "Perf_Table3[1,] <- perf_eval2(CAR_post_cm)\n",
    "Perf_Table3"
   ]
  },
  {
   "cell_type": "markdown",
   "id": "western-connectivity",
   "metadata": {},
   "source": [
    "# 7.4.2 pre-pruning"
   ]
  },
  {
   "cell_type": "code",
   "execution_count": 230,
   "id": "crucial-uzbekistan",
   "metadata": {
    "vscode": {
     "languageId": "r"
    }
   },
   "outputs": [
    {
     "name": "stderr",
     "output_type": "stream",
     "text": [
      "Warning message:\n",
      "\"package 'party' was built under R version 3.6.3\"Loading required package: grid\n",
      "Loading required package: mvtnorm\n",
      "Warning message:\n",
      "\"package 'mvtnorm' was built under R version 3.6.3\"Loading required package: modeltools\n",
      "Warning message:\n",
      "\"package 'modeltools' was built under R version 3.6.3\"Loading required package: stats4\n",
      "Loading required package: strucchange\n",
      "Warning message:\n",
      "\"package 'strucchange' was built under R version 3.6.3\"Loading required package: zoo\n",
      "\n",
      "Attaching package: 'zoo'\n",
      "\n",
      "The following objects are masked from 'package:base':\n",
      "\n",
      "    as.Date, as.Date.numeric\n",
      "\n",
      "Loading required package: sandwich\n",
      "Warning message:\n",
      "\"package 'sandwich' was built under R version 3.6.3\""
     ]
    }
   ],
   "source": [
    "# For CART\n",
    "install.packages(\"party\")\n",
    "library(party)"
   ]
  },
  {
   "cell_type": "code",
   "execution_count": 231,
   "id": "guilty-chancellor",
   "metadata": {
    "vscode": {
     "languageId": "r"
    }
   },
   "outputs": [
    {
     "name": "stderr",
     "output_type": "stream",
     "text": [
      "Warning message:\n",
      "\"package 'ROCR' was built under R version 3.6.3\""
     ]
    }
   ],
   "source": [
    "# For AUROC\n",
    "install.packages(\"ROCR\")\n",
    "library(ROCR)"
   ]
  },
  {
   "cell_type": "code",
   "execution_count": 239,
   "id": "pretty-diabetes",
   "metadata": {
    "vscode": {
     "languageId": "r"
    }
   },
   "outputs": [],
   "source": [
    "# Divide the dataset into training( 60% of data)/validation(10% of data)/test datasets(20% of data)\n",
    "car_training_idx4 <- sample(1:nrow(car_data_log_new2), round(0.6*nrow(car_data_log_new2)))\n",
    "car_test_idx4 <- sample(1:nrow(car_data_log_new2), round(0.3*nrow(car_data_log_new2)))\n",
    "car_validation_idx4 <- sample(1:nrow(car_data_log_new2), round(0.1*nrow(car_data_log_new2)))\n"
   ]
  },
  {
   "cell_type": "code",
   "execution_count": 240,
   "id": "brown-spare",
   "metadata": {
    "vscode": {
     "languageId": "r"
    }
   },
   "outputs": [],
   "source": [
    "set.seed(23456)\n",
    "\n",
    "car_training_data4 <- na.omit(car_data_log_new2[car_training_idx4,])\n",
    "\n",
    "car_test_data4 <- na.omit(car_data_log_new2[car_test_idx4,])\n",
    "\n",
    "car_validation_data4 <- na.omit(car_data_log_new2[car_validation_idx4,])\n"
   ]
  },
  {
   "cell_type": "markdown",
   "id": "traditional-fiction",
   "metadata": {},
   "source": [
    "Here, we use 10% of data for validation data. This validation data set will be usd to optimize paprameters below."
   ]
  },
  {
   "cell_type": "code",
   "execution_count": 241,
   "id": "appointed-matrix",
   "metadata": {
    "vscode": {
     "languageId": "r"
    }
   },
   "outputs": [],
   "source": [
    "# min_criterion is minimum statistical significance to spilit the current node\n",
    "min_criterion = c(0.9, 0.95, 0.99) \n",
    "# min_split is minimum number of onservations to consider splitting the current nodes\n",
    "min_split = c(50, 100, 300, 500)\n",
    "# max_depth is maximum depth of the entire tree\n",
    "max_depth = c(0, 10, 5)\n"
   ]
  },
  {
   "cell_type": "markdown",
   "id": "temporal-feeding",
   "metadata": {},
   "source": [
    "\n",
    "min_criterion:\n",
    "in party package, deviance and Gini index aren't be  used. \n",
    "Instead, after splitting tree, a statistical test is used on how significant the decrease in impurity is \n",
    "between before and after splitting. Here, we fix significance level as 90%, 95%, 99%.\n",
    "This means that spilit will be allowed only when sinigficance level is over 90%, 95%, 0r 99%. \n",
    "\n",
    "min_split:\n",
    "In \"min_split\", the number 50 means that “at least, minimum 50 observations must exist in a node in order for a split to be attempted.\n",
    "\n",
    "max_depth:\n",
    "In case of \"max_depth\", the number in bracket means the depth of tree. Depth of tree is the same with the the number of splitting.\n"
   ]
  },
  {
   "cell_type": "code",
   "execution_count": 242,
   "id": "passive-consultancy",
   "metadata": {
    "vscode": {
     "languageId": "r"
    }
   },
   "outputs": [],
   "source": [
    "# total 36 composition will be created. 3 min_criterion x 4 min_split x 3 max_depth= 36\n",
    "CAR_pre_search_result = \n",
    "matrix(0,length(min_criterion)*length(min_split)*length(max_depth),11)\n",
    "\n",
    "colnames(CAR_pre_search_result) <- c(\"min_criterion\", \"min_split\", \"max_depth\", \n",
    "                           \"TPR\", \"Precision\", \"TNR\", \"ACC\", \"BCR\", \"F1\", \"AUROC\", \"N_leaves\")"
   ]
  },
  {
   "cell_type": "code",
   "execution_count": 245,
   "id": "excessive-fitness",
   "metadata": {
    "vscode": {
     "languageId": "r"
    }
   },
   "outputs": [
    {
     "name": "stdout",
     "output_type": "stream",
     "text": [
      "CAR Min criterion: 0.9 , Min split: 50 , Max depth: 0 \n",
      "CAR Min criterion: 0.9 , Min split: 50 , Max depth: 10 \n",
      "CAR Min criterion: 0.9 , Min split: 50 , Max depth: 5 \n",
      "CAR Min criterion: 0.9 , Min split: 100 , Max depth: 0 \n",
      "CAR Min criterion: 0.9 , Min split: 100 , Max depth: 10 \n",
      "CAR Min criterion: 0.9 , Min split: 100 , Max depth: 5 \n",
      "CAR Min criterion: 0.9 , Min split: 300 , Max depth: 0 \n",
      "CAR Min criterion: 0.9 , Min split: 300 , Max depth: 10 \n",
      "CAR Min criterion: 0.9 , Min split: 300 , Max depth: 5 \n",
      "CAR Min criterion: 0.9 , Min split: 500 , Max depth: 0 \n",
      "CAR Min criterion: 0.9 , Min split: 500 , Max depth: 10 \n",
      "CAR Min criterion: 0.9 , Min split: 500 , Max depth: 5 \n",
      "CAR Min criterion: 0.95 , Min split: 50 , Max depth: 0 \n",
      "CAR Min criterion: 0.95 , Min split: 50 , Max depth: 10 \n",
      "CAR Min criterion: 0.95 , Min split: 50 , Max depth: 5 \n",
      "CAR Min criterion: 0.95 , Min split: 100 , Max depth: 0 \n",
      "CAR Min criterion: 0.95 , Min split: 100 , Max depth: 10 \n",
      "CAR Min criterion: 0.95 , Min split: 100 , Max depth: 5 \n",
      "CAR Min criterion: 0.95 , Min split: 300 , Max depth: 0 \n",
      "CAR Min criterion: 0.95 , Min split: 300 , Max depth: 10 \n",
      "CAR Min criterion: 0.95 , Min split: 300 , Max depth: 5 \n",
      "CAR Min criterion: 0.95 , Min split: 500 , Max depth: 0 \n",
      "CAR Min criterion: 0.95 , Min split: 500 , Max depth: 10 \n",
      "CAR Min criterion: 0.95 , Min split: 500 , Max depth: 5 \n",
      "CAR Min criterion: 0.99 , Min split: 50 , Max depth: 0 \n",
      "CAR Min criterion: 0.99 , Min split: 50 , Max depth: 10 \n",
      "CAR Min criterion: 0.99 , Min split: 50 , Max depth: 5 \n",
      "CAR Min criterion: 0.99 , Min split: 100 , Max depth: 0 \n",
      "CAR Min criterion: 0.99 , Min split: 100 , Max depth: 10 \n",
      "CAR Min criterion: 0.99 , Min split: 100 , Max depth: 5 \n",
      "CAR Min criterion: 0.99 , Min split: 300 , Max depth: 0 \n",
      "CAR Min criterion: 0.99 , Min split: 300 , Max depth: 10 \n",
      "CAR Min criterion: 0.99 , Min split: 300 , Max depth: 5 \n",
      "CAR Min criterion: 0.99 , Min split: 500 , Max depth: 0 \n",
      "CAR Min criterion: 0.99 , Min split: 500 , Max depth: 10 \n",
      "CAR Min criterion: 0.99 , Min split: 500 , Max depth: 5 \n"
     ]
    }
   ],
   "source": [
    "# We try to find optimal parameters here. And run for loop for three different medel paprmeter(min_criterion, min_split,max-depth)\n",
    "\n",
    "\n",
    "iter_cnt = 1\n",
    "\n",
    "for (i in 1:length(min_criterion)){\n",
    "  for ( j in 1:length(min_split)){\n",
    "    for ( k in 1:length(max_depth)){\n",
    "      \n",
    "      cat(\"CAR Min criterion:\", min_criterion[i], \", Min split:\", min_split[j], \", Max depth:\", max_depth[k], \"\\n\")\n",
    "      tmp_control = ctree_control(mincriterion = min_criterion[i], minsplit = min_split[j], maxdepth = max_depth[k])\n",
    "      tmp_tree <- ctree(car_target2 ~ ., data = car_training_data4, controls = tmp_control)\n",
    "      tmp_tree_val_prediction <- predict(tmp_tree, newdata = car_validation_data4)\n",
    "      tmp_tree_val_response <- treeresponse(tmp_tree, newdata = car_validation_data4)\n",
    "      tmp_tree_val_prob <- 1-unlist(tmp_tree_val_response, use.names=F)[seq(1,nrow(car_validation_data4)*2,2)]\n",
    "      tmp_tree_val_rocr <- prediction(tmp_tree_val_prob, car_validation_data4$car_target2)\n",
    "      # Confusion matrix for the validation dataset\n",
    "      tmp_tree_val_cm <- table(car_validation_data4$car_target2, tmp_tree_val_prediction)\n",
    "      \n",
    "      # parameters\n",
    "      CAR_pre_search_result[iter_cnt,1] = min_criterion[i]\n",
    "      CAR_pre_search_result[iter_cnt,2] = min_split[j]\n",
    "      CAR_pre_search_result[iter_cnt,3] = max_depth[k]\n",
    "      # Performances from the confusion matrix\n",
    "      CAR_pre_search_result[iter_cnt,4:8] = perf_eval2(tmp_tree_val_cm)\n",
    "      # AUROC\n",
    "      CAR_pre_search_result[iter_cnt,10] = unlist(performance(tmp_tree_val_rocr, \"auc\")@y.values)\n",
    "      # Number of leaf nodes\n",
    "      CAR_pre_search_result[iter_cnt,11] = length(nodes(tmp_tree, unique(where(tmp_tree))))\n",
    "      iter_cnt = iter_cnt + 1\n",
    "    }\n",
    "  }\n",
    "}"
   ]
  },
  {
   "cell_type": "code",
   "execution_count": 246,
   "id": "removable-impossible",
   "metadata": {
    "vscode": {
     "languageId": "r"
    }
   },
   "outputs": [
    {
     "data": {
      "text/html": [
       "<table>\n",
       "<thead><tr><th scope=col>min_criterion</th><th scope=col>min_split</th><th scope=col>max_depth</th><th scope=col>TPR</th><th scope=col>Precision</th><th scope=col>TNR</th><th scope=col>ACC</th><th scope=col>BCR</th><th scope=col>F1</th><th scope=col>AUROC</th><th scope=col>N_leaves</th></tr></thead>\n",
       "<tbody>\n",
       "\t<tr><td>0.90     </td><td> 50      </td><td> 0       </td><td>0.4024390</td><td>0.7021277</td><td>0.9962008</td><td>0.9832758</td><td>0.5116279</td><td>0        </td><td>0.9850233</td><td>37       </td></tr>\n",
       "\t<tr><td>0.90     </td><td> 50      </td><td>10       </td><td>0.4024390</td><td>0.7021277</td><td>0.9962008</td><td>0.9832758</td><td>0.5116279</td><td>0        </td><td>0.9850233</td><td>37       </td></tr>\n",
       "\t<tr><td>0.90     </td><td>100      </td><td> 0       </td><td>0.3780488</td><td>0.7045455</td><td>0.9964722</td><td>0.9830104</td><td>0.4920635</td><td>0        </td><td>0.9846974</td><td>33       </td></tr>\n",
       "\t<tr><td>0.90     </td><td>100      </td><td>10       </td><td>0.3780488</td><td>0.7045455</td><td>0.9964722</td><td>0.9830104</td><td>0.4920635</td><td>0        </td><td>0.9846974</td><td>33       </td></tr>\n",
       "\t<tr><td>0.95     </td><td> 50      </td><td> 0       </td><td>0.4024390</td><td>0.7021277</td><td>0.9962008</td><td>0.9832758</td><td>0.5116279</td><td>0        </td><td>0.9841381</td><td>35       </td></tr>\n",
       "\t<tr><td>0.95     </td><td> 50      </td><td>10       </td><td>0.4024390</td><td>0.7021277</td><td>0.9962008</td><td>0.9832758</td><td>0.5116279</td><td>0        </td><td>0.9841381</td><td>35       </td></tr>\n",
       "\t<tr><td>0.95     </td><td>100      </td><td> 0       </td><td>0.3780488</td><td>0.7045455</td><td>0.9964722</td><td>0.9830104</td><td>0.4920635</td><td>0        </td><td>0.9837691</td><td>31       </td></tr>\n",
       "\t<tr><td>0.95     </td><td>100      </td><td>10       </td><td>0.3780488</td><td>0.7045455</td><td>0.9964722</td><td>0.9830104</td><td>0.4920635</td><td>0        </td><td>0.9837691</td><td>31       </td></tr>\n",
       "\t<tr><td>0.99     </td><td> 50      </td><td> 0       </td><td>0.4024390</td><td>0.7021277</td><td>0.9962008</td><td>0.9832758</td><td>0.5116279</td><td>0        </td><td>0.9836102</td><td>29       </td></tr>\n",
       "\t<tr><td>0.99     </td><td> 50      </td><td>10       </td><td>0.4024390</td><td>0.7021277</td><td>0.9962008</td><td>0.9832758</td><td>0.5116279</td><td>0        </td><td>0.9836102</td><td>29       </td></tr>\n",
       "\t<tr><td>0.99     </td><td>100      </td><td> 0       </td><td>0.3780488</td><td>0.7045455</td><td>0.9964722</td><td>0.9830104</td><td>0.4920635</td><td>0        </td><td>0.9835424</td><td>26       </td></tr>\n",
       "\t<tr><td>0.99     </td><td>100      </td><td>10       </td><td>0.3780488</td><td>0.7045455</td><td>0.9964722</td><td>0.9830104</td><td>0.4920635</td><td>0        </td><td>0.9835424</td><td>26       </td></tr>\n",
       "\t<tr><td>0.95     </td><td>300      </td><td> 0       </td><td>0.1829268</td><td>0.5769231</td><td>0.9970149</td><td>0.9792939</td><td>0.2777778</td><td>0        </td><td>0.9774680</td><td>20       </td></tr>\n",
       "\t<tr><td>0.95     </td><td>300      </td><td>10       </td><td>0.1829268</td><td>0.5769231</td><td>0.9970149</td><td>0.9792939</td><td>0.2777778</td><td>0        </td><td>0.9774680</td><td>20       </td></tr>\n",
       "\t<tr><td>0.99     </td><td>300      </td><td> 0       </td><td>0.1829268</td><td>0.5769231</td><td>0.9970149</td><td>0.9792939</td><td>0.2777778</td><td>0        </td><td>0.9774680</td><td>19       </td></tr>\n",
       "\t<tr><td>0.99     </td><td>300      </td><td>10       </td><td>0.1829268</td><td>0.5769231</td><td>0.9970149</td><td>0.9792939</td><td>0.2777778</td><td>0        </td><td>0.9774680</td><td>19       </td></tr>\n",
       "\t<tr><td>0.90     </td><td>300      </td><td> 0       </td><td>0.1829268</td><td>0.5769231</td><td>0.9970149</td><td>0.9792939</td><td>0.2777778</td><td>0        </td><td>0.9773952</td><td>21       </td></tr>\n",
       "\t<tr><td>0.90     </td><td>300      </td><td>10       </td><td>0.1829268</td><td>0.5769231</td><td>0.9970149</td><td>0.9792939</td><td>0.2777778</td><td>0        </td><td>0.9773952</td><td>21       </td></tr>\n",
       "\t<tr><td>0.95     </td><td>500      </td><td> 0       </td><td>0.0000000</td><td>      NaN</td><td>1.0000000</td><td>0.9782320</td><td>      NaN</td><td>0        </td><td>0.9761922</td><td>17       </td></tr>\n",
       "\t<tr><td>0.95     </td><td>500      </td><td>10       </td><td>0.0000000</td><td>      NaN</td><td>1.0000000</td><td>0.9782320</td><td>      NaN</td><td>0        </td><td>0.9761922</td><td>17       </td></tr>\n",
       "\t<tr><td>0.99     </td><td>500      </td><td> 0       </td><td>0.0000000</td><td>      NaN</td><td>1.0000000</td><td>0.9782320</td><td>      NaN</td><td>0        </td><td>0.9761922</td><td>16       </td></tr>\n",
       "\t<tr><td>0.99     </td><td>500      </td><td>10       </td><td>0.0000000</td><td>      NaN</td><td>1.0000000</td><td>0.9782320</td><td>      NaN</td><td>0        </td><td>0.9761922</td><td>16       </td></tr>\n",
       "\t<tr><td>0.90     </td><td>500      </td><td> 0       </td><td>0.0000000</td><td>      NaN</td><td>1.0000000</td><td>0.9782320</td><td>      NaN</td><td>0        </td><td>0.9761194</td><td>18       </td></tr>\n",
       "\t<tr><td>0.90     </td><td>500      </td><td>10       </td><td>0.0000000</td><td>      NaN</td><td>1.0000000</td><td>0.9782320</td><td>      NaN</td><td>0        </td><td>0.9761194</td><td>18       </td></tr>\n",
       "\t<tr><td>0.99     </td><td> 50      </td><td> 5       </td><td>0.3048780</td><td>0.7575758</td><td>0.9978290</td><td>0.9827449</td><td>0.4347826</td><td>0        </td><td>0.9760234</td><td>19       </td></tr>\n",
       "\t<tr><td>0.99     </td><td>100      </td><td> 5       </td><td>0.2804878</td><td>0.7666667</td><td>0.9981004</td><td>0.9824794</td><td>0.4107143</td><td>0        </td><td>0.9760118</td><td>16       </td></tr>\n",
       "\t<tr><td>0.90     </td><td> 50      </td><td> 5       </td><td>0.3048780</td><td>0.7575758</td><td>0.9978290</td><td>0.9827449</td><td>0.4347826</td><td>0        </td><td>0.9753880</td><td>22       </td></tr>\n",
       "\t<tr><td>0.95     </td><td> 50      </td><td> 5       </td><td>0.3048780</td><td>0.7575758</td><td>0.9978290</td><td>0.9827449</td><td>0.4347826</td><td>0        </td><td>0.9753880</td><td>22       </td></tr>\n",
       "\t<tr><td>0.90     </td><td>100      </td><td> 5       </td><td>0.2804878</td><td>0.7666667</td><td>0.9981004</td><td>0.9824794</td><td>0.4107143</td><td>0        </td><td>0.9749892</td><td>18       </td></tr>\n",
       "\t<tr><td>0.95     </td><td>100      </td><td> 5       </td><td>0.2804878</td><td>0.7666667</td><td>0.9981004</td><td>0.9824794</td><td>0.4107143</td><td>0        </td><td>0.9749892</td><td>18       </td></tr>\n",
       "\t<tr><td>0.90     </td><td>300      </td><td> 5       </td><td>0.1341463</td><td>0.6470588</td><td>0.9983718</td><td>0.9795593</td><td>0.2222222</td><td>0        </td><td>0.9724625</td><td>14       </td></tr>\n",
       "\t<tr><td>0.95     </td><td>300      </td><td> 5       </td><td>0.1341463</td><td>0.6470588</td><td>0.9983718</td><td>0.9795593</td><td>0.2222222</td><td>0        </td><td>0.9724625</td><td>14       </td></tr>\n",
       "\t<tr><td>0.99     </td><td>300      </td><td> 5       </td><td>0.1341463</td><td>0.6470588</td><td>0.9983718</td><td>0.9795593</td><td>0.2222222</td><td>0        </td><td>0.9724625</td><td>14       </td></tr>\n",
       "\t<tr><td>0.90     </td><td>500      </td><td> 5       </td><td>0.0000000</td><td>      NaN</td><td>1.0000000</td><td>0.9782320</td><td>      NaN</td><td>0        </td><td>0.9716468</td><td>12       </td></tr>\n",
       "\t<tr><td>0.95     </td><td>500      </td><td> 5       </td><td>0.0000000</td><td>      NaN</td><td>1.0000000</td><td>0.9782320</td><td>      NaN</td><td>0        </td><td>0.9716468</td><td>12       </td></tr>\n",
       "\t<tr><td>0.99     </td><td>500      </td><td> 5       </td><td>0.0000000</td><td>      NaN</td><td>1.0000000</td><td>0.9782320</td><td>      NaN</td><td>0        </td><td>0.9716468</td><td>12       </td></tr>\n",
       "</tbody>\n",
       "</table>\n"
      ],
      "text/latex": [
       "\\begin{tabular}{lllllllllll}\n",
       " min\\_criterion & min\\_split & max\\_depth & TPR & Precision & TNR & ACC & BCR & F1 & AUROC & N\\_leaves\\\\\n",
       "\\hline\n",
       "\t 0.90      &  50       &  0        & 0.4024390 & 0.7021277 & 0.9962008 & 0.9832758 & 0.5116279 & 0         & 0.9850233 & 37       \\\\\n",
       "\t 0.90      &  50       & 10        & 0.4024390 & 0.7021277 & 0.9962008 & 0.9832758 & 0.5116279 & 0         & 0.9850233 & 37       \\\\\n",
       "\t 0.90      & 100       &  0        & 0.3780488 & 0.7045455 & 0.9964722 & 0.9830104 & 0.4920635 & 0         & 0.9846974 & 33       \\\\\n",
       "\t 0.90      & 100       & 10        & 0.3780488 & 0.7045455 & 0.9964722 & 0.9830104 & 0.4920635 & 0         & 0.9846974 & 33       \\\\\n",
       "\t 0.95      &  50       &  0        & 0.4024390 & 0.7021277 & 0.9962008 & 0.9832758 & 0.5116279 & 0         & 0.9841381 & 35       \\\\\n",
       "\t 0.95      &  50       & 10        & 0.4024390 & 0.7021277 & 0.9962008 & 0.9832758 & 0.5116279 & 0         & 0.9841381 & 35       \\\\\n",
       "\t 0.95      & 100       &  0        & 0.3780488 & 0.7045455 & 0.9964722 & 0.9830104 & 0.4920635 & 0         & 0.9837691 & 31       \\\\\n",
       "\t 0.95      & 100       & 10        & 0.3780488 & 0.7045455 & 0.9964722 & 0.9830104 & 0.4920635 & 0         & 0.9837691 & 31       \\\\\n",
       "\t 0.99      &  50       &  0        & 0.4024390 & 0.7021277 & 0.9962008 & 0.9832758 & 0.5116279 & 0         & 0.9836102 & 29       \\\\\n",
       "\t 0.99      &  50       & 10        & 0.4024390 & 0.7021277 & 0.9962008 & 0.9832758 & 0.5116279 & 0         & 0.9836102 & 29       \\\\\n",
       "\t 0.99      & 100       &  0        & 0.3780488 & 0.7045455 & 0.9964722 & 0.9830104 & 0.4920635 & 0         & 0.9835424 & 26       \\\\\n",
       "\t 0.99      & 100       & 10        & 0.3780488 & 0.7045455 & 0.9964722 & 0.9830104 & 0.4920635 & 0         & 0.9835424 & 26       \\\\\n",
       "\t 0.95      & 300       &  0        & 0.1829268 & 0.5769231 & 0.9970149 & 0.9792939 & 0.2777778 & 0         & 0.9774680 & 20       \\\\\n",
       "\t 0.95      & 300       & 10        & 0.1829268 & 0.5769231 & 0.9970149 & 0.9792939 & 0.2777778 & 0         & 0.9774680 & 20       \\\\\n",
       "\t 0.99      & 300       &  0        & 0.1829268 & 0.5769231 & 0.9970149 & 0.9792939 & 0.2777778 & 0         & 0.9774680 & 19       \\\\\n",
       "\t 0.99      & 300       & 10        & 0.1829268 & 0.5769231 & 0.9970149 & 0.9792939 & 0.2777778 & 0         & 0.9774680 & 19       \\\\\n",
       "\t 0.90      & 300       &  0        & 0.1829268 & 0.5769231 & 0.9970149 & 0.9792939 & 0.2777778 & 0         & 0.9773952 & 21       \\\\\n",
       "\t 0.90      & 300       & 10        & 0.1829268 & 0.5769231 & 0.9970149 & 0.9792939 & 0.2777778 & 0         & 0.9773952 & 21       \\\\\n",
       "\t 0.95      & 500       &  0        & 0.0000000 &       NaN & 1.0000000 & 0.9782320 &       NaN & 0         & 0.9761922 & 17       \\\\\n",
       "\t 0.95      & 500       & 10        & 0.0000000 &       NaN & 1.0000000 & 0.9782320 &       NaN & 0         & 0.9761922 & 17       \\\\\n",
       "\t 0.99      & 500       &  0        & 0.0000000 &       NaN & 1.0000000 & 0.9782320 &       NaN & 0         & 0.9761922 & 16       \\\\\n",
       "\t 0.99      & 500       & 10        & 0.0000000 &       NaN & 1.0000000 & 0.9782320 &       NaN & 0         & 0.9761922 & 16       \\\\\n",
       "\t 0.90      & 500       &  0        & 0.0000000 &       NaN & 1.0000000 & 0.9782320 &       NaN & 0         & 0.9761194 & 18       \\\\\n",
       "\t 0.90      & 500       & 10        & 0.0000000 &       NaN & 1.0000000 & 0.9782320 &       NaN & 0         & 0.9761194 & 18       \\\\\n",
       "\t 0.99      &  50       &  5        & 0.3048780 & 0.7575758 & 0.9978290 & 0.9827449 & 0.4347826 & 0         & 0.9760234 & 19       \\\\\n",
       "\t 0.99      & 100       &  5        & 0.2804878 & 0.7666667 & 0.9981004 & 0.9824794 & 0.4107143 & 0         & 0.9760118 & 16       \\\\\n",
       "\t 0.90      &  50       &  5        & 0.3048780 & 0.7575758 & 0.9978290 & 0.9827449 & 0.4347826 & 0         & 0.9753880 & 22       \\\\\n",
       "\t 0.95      &  50       &  5        & 0.3048780 & 0.7575758 & 0.9978290 & 0.9827449 & 0.4347826 & 0         & 0.9753880 & 22       \\\\\n",
       "\t 0.90      & 100       &  5        & 0.2804878 & 0.7666667 & 0.9981004 & 0.9824794 & 0.4107143 & 0         & 0.9749892 & 18       \\\\\n",
       "\t 0.95      & 100       &  5        & 0.2804878 & 0.7666667 & 0.9981004 & 0.9824794 & 0.4107143 & 0         & 0.9749892 & 18       \\\\\n",
       "\t 0.90      & 300       &  5        & 0.1341463 & 0.6470588 & 0.9983718 & 0.9795593 & 0.2222222 & 0         & 0.9724625 & 14       \\\\\n",
       "\t 0.95      & 300       &  5        & 0.1341463 & 0.6470588 & 0.9983718 & 0.9795593 & 0.2222222 & 0         & 0.9724625 & 14       \\\\\n",
       "\t 0.99      & 300       &  5        & 0.1341463 & 0.6470588 & 0.9983718 & 0.9795593 & 0.2222222 & 0         & 0.9724625 & 14       \\\\\n",
       "\t 0.90      & 500       &  5        & 0.0000000 &       NaN & 1.0000000 & 0.9782320 &       NaN & 0         & 0.9716468 & 12       \\\\\n",
       "\t 0.95      & 500       &  5        & 0.0000000 &       NaN & 1.0000000 & 0.9782320 &       NaN & 0         & 0.9716468 & 12       \\\\\n",
       "\t 0.99      & 500       &  5        & 0.0000000 &       NaN & 1.0000000 & 0.9782320 &       NaN & 0         & 0.9716468 & 12       \\\\\n",
       "\\end{tabular}\n"
      ],
      "text/markdown": [
       "\n",
       "| min_criterion | min_split | max_depth | TPR | Precision | TNR | ACC | BCR | F1 | AUROC | N_leaves |\n",
       "|---|---|---|---|---|---|---|---|---|---|---|\n",
       "| 0.90      |  50       |  0        | 0.4024390 | 0.7021277 | 0.9962008 | 0.9832758 | 0.5116279 | 0         | 0.9850233 | 37        |\n",
       "| 0.90      |  50       | 10        | 0.4024390 | 0.7021277 | 0.9962008 | 0.9832758 | 0.5116279 | 0         | 0.9850233 | 37        |\n",
       "| 0.90      | 100       |  0        | 0.3780488 | 0.7045455 | 0.9964722 | 0.9830104 | 0.4920635 | 0         | 0.9846974 | 33        |\n",
       "| 0.90      | 100       | 10        | 0.3780488 | 0.7045455 | 0.9964722 | 0.9830104 | 0.4920635 | 0         | 0.9846974 | 33        |\n",
       "| 0.95      |  50       |  0        | 0.4024390 | 0.7021277 | 0.9962008 | 0.9832758 | 0.5116279 | 0         | 0.9841381 | 35        |\n",
       "| 0.95      |  50       | 10        | 0.4024390 | 0.7021277 | 0.9962008 | 0.9832758 | 0.5116279 | 0         | 0.9841381 | 35        |\n",
       "| 0.95      | 100       |  0        | 0.3780488 | 0.7045455 | 0.9964722 | 0.9830104 | 0.4920635 | 0         | 0.9837691 | 31        |\n",
       "| 0.95      | 100       | 10        | 0.3780488 | 0.7045455 | 0.9964722 | 0.9830104 | 0.4920635 | 0         | 0.9837691 | 31        |\n",
       "| 0.99      |  50       |  0        | 0.4024390 | 0.7021277 | 0.9962008 | 0.9832758 | 0.5116279 | 0         | 0.9836102 | 29        |\n",
       "| 0.99      |  50       | 10        | 0.4024390 | 0.7021277 | 0.9962008 | 0.9832758 | 0.5116279 | 0         | 0.9836102 | 29        |\n",
       "| 0.99      | 100       |  0        | 0.3780488 | 0.7045455 | 0.9964722 | 0.9830104 | 0.4920635 | 0         | 0.9835424 | 26        |\n",
       "| 0.99      | 100       | 10        | 0.3780488 | 0.7045455 | 0.9964722 | 0.9830104 | 0.4920635 | 0         | 0.9835424 | 26        |\n",
       "| 0.95      | 300       |  0        | 0.1829268 | 0.5769231 | 0.9970149 | 0.9792939 | 0.2777778 | 0         | 0.9774680 | 20        |\n",
       "| 0.95      | 300       | 10        | 0.1829268 | 0.5769231 | 0.9970149 | 0.9792939 | 0.2777778 | 0         | 0.9774680 | 20        |\n",
       "| 0.99      | 300       |  0        | 0.1829268 | 0.5769231 | 0.9970149 | 0.9792939 | 0.2777778 | 0         | 0.9774680 | 19        |\n",
       "| 0.99      | 300       | 10        | 0.1829268 | 0.5769231 | 0.9970149 | 0.9792939 | 0.2777778 | 0         | 0.9774680 | 19        |\n",
       "| 0.90      | 300       |  0        | 0.1829268 | 0.5769231 | 0.9970149 | 0.9792939 | 0.2777778 | 0         | 0.9773952 | 21        |\n",
       "| 0.90      | 300       | 10        | 0.1829268 | 0.5769231 | 0.9970149 | 0.9792939 | 0.2777778 | 0         | 0.9773952 | 21        |\n",
       "| 0.95      | 500       |  0        | 0.0000000 |       NaN | 1.0000000 | 0.9782320 |       NaN | 0         | 0.9761922 | 17        |\n",
       "| 0.95      | 500       | 10        | 0.0000000 |       NaN | 1.0000000 | 0.9782320 |       NaN | 0         | 0.9761922 | 17        |\n",
       "| 0.99      | 500       |  0        | 0.0000000 |       NaN | 1.0000000 | 0.9782320 |       NaN | 0         | 0.9761922 | 16        |\n",
       "| 0.99      | 500       | 10        | 0.0000000 |       NaN | 1.0000000 | 0.9782320 |       NaN | 0         | 0.9761922 | 16        |\n",
       "| 0.90      | 500       |  0        | 0.0000000 |       NaN | 1.0000000 | 0.9782320 |       NaN | 0         | 0.9761194 | 18        |\n",
       "| 0.90      | 500       | 10        | 0.0000000 |       NaN | 1.0000000 | 0.9782320 |       NaN | 0         | 0.9761194 | 18        |\n",
       "| 0.99      |  50       |  5        | 0.3048780 | 0.7575758 | 0.9978290 | 0.9827449 | 0.4347826 | 0         | 0.9760234 | 19        |\n",
       "| 0.99      | 100       |  5        | 0.2804878 | 0.7666667 | 0.9981004 | 0.9824794 | 0.4107143 | 0         | 0.9760118 | 16        |\n",
       "| 0.90      |  50       |  5        | 0.3048780 | 0.7575758 | 0.9978290 | 0.9827449 | 0.4347826 | 0         | 0.9753880 | 22        |\n",
       "| 0.95      |  50       |  5        | 0.3048780 | 0.7575758 | 0.9978290 | 0.9827449 | 0.4347826 | 0         | 0.9753880 | 22        |\n",
       "| 0.90      | 100       |  5        | 0.2804878 | 0.7666667 | 0.9981004 | 0.9824794 | 0.4107143 | 0         | 0.9749892 | 18        |\n",
       "| 0.95      | 100       |  5        | 0.2804878 | 0.7666667 | 0.9981004 | 0.9824794 | 0.4107143 | 0         | 0.9749892 | 18        |\n",
       "| 0.90      | 300       |  5        | 0.1341463 | 0.6470588 | 0.9983718 | 0.9795593 | 0.2222222 | 0         | 0.9724625 | 14        |\n",
       "| 0.95      | 300       |  5        | 0.1341463 | 0.6470588 | 0.9983718 | 0.9795593 | 0.2222222 | 0         | 0.9724625 | 14        |\n",
       "| 0.99      | 300       |  5        | 0.1341463 | 0.6470588 | 0.9983718 | 0.9795593 | 0.2222222 | 0         | 0.9724625 | 14        |\n",
       "| 0.90      | 500       |  5        | 0.0000000 |       NaN | 1.0000000 | 0.9782320 |       NaN | 0         | 0.9716468 | 12        |\n",
       "| 0.95      | 500       |  5        | 0.0000000 |       NaN | 1.0000000 | 0.9782320 |       NaN | 0         | 0.9716468 | 12        |\n",
       "| 0.99      | 500       |  5        | 0.0000000 |       NaN | 1.0000000 | 0.9782320 |       NaN | 0         | 0.9716468 | 12        |\n",
       "\n"
      ],
      "text/plain": [
       "      min_criterion min_split max_depth TPR       Precision TNR       ACC      \n",
       " [1,] 0.90           50        0        0.4024390 0.7021277 0.9962008 0.9832758\n",
       " [2,] 0.90           50       10        0.4024390 0.7021277 0.9962008 0.9832758\n",
       " [3,] 0.90          100        0        0.3780488 0.7045455 0.9964722 0.9830104\n",
       " [4,] 0.90          100       10        0.3780488 0.7045455 0.9964722 0.9830104\n",
       " [5,] 0.95           50        0        0.4024390 0.7021277 0.9962008 0.9832758\n",
       " [6,] 0.95           50       10        0.4024390 0.7021277 0.9962008 0.9832758\n",
       " [7,] 0.95          100        0        0.3780488 0.7045455 0.9964722 0.9830104\n",
       " [8,] 0.95          100       10        0.3780488 0.7045455 0.9964722 0.9830104\n",
       " [9,] 0.99           50        0        0.4024390 0.7021277 0.9962008 0.9832758\n",
       "[10,] 0.99           50       10        0.4024390 0.7021277 0.9962008 0.9832758\n",
       "[11,] 0.99          100        0        0.3780488 0.7045455 0.9964722 0.9830104\n",
       "[12,] 0.99          100       10        0.3780488 0.7045455 0.9964722 0.9830104\n",
       "[13,] 0.95          300        0        0.1829268 0.5769231 0.9970149 0.9792939\n",
       "[14,] 0.95          300       10        0.1829268 0.5769231 0.9970149 0.9792939\n",
       "[15,] 0.99          300        0        0.1829268 0.5769231 0.9970149 0.9792939\n",
       "[16,] 0.99          300       10        0.1829268 0.5769231 0.9970149 0.9792939\n",
       "[17,] 0.90          300        0        0.1829268 0.5769231 0.9970149 0.9792939\n",
       "[18,] 0.90          300       10        0.1829268 0.5769231 0.9970149 0.9792939\n",
       "[19,] 0.95          500        0        0.0000000       NaN 1.0000000 0.9782320\n",
       "[20,] 0.95          500       10        0.0000000       NaN 1.0000000 0.9782320\n",
       "[21,] 0.99          500        0        0.0000000       NaN 1.0000000 0.9782320\n",
       "[22,] 0.99          500       10        0.0000000       NaN 1.0000000 0.9782320\n",
       "[23,] 0.90          500        0        0.0000000       NaN 1.0000000 0.9782320\n",
       "[24,] 0.90          500       10        0.0000000       NaN 1.0000000 0.9782320\n",
       "[25,] 0.99           50        5        0.3048780 0.7575758 0.9978290 0.9827449\n",
       "[26,] 0.99          100        5        0.2804878 0.7666667 0.9981004 0.9824794\n",
       "[27,] 0.90           50        5        0.3048780 0.7575758 0.9978290 0.9827449\n",
       "[28,] 0.95           50        5        0.3048780 0.7575758 0.9978290 0.9827449\n",
       "[29,] 0.90          100        5        0.2804878 0.7666667 0.9981004 0.9824794\n",
       "[30,] 0.95          100        5        0.2804878 0.7666667 0.9981004 0.9824794\n",
       "[31,] 0.90          300        5        0.1341463 0.6470588 0.9983718 0.9795593\n",
       "[32,] 0.95          300        5        0.1341463 0.6470588 0.9983718 0.9795593\n",
       "[33,] 0.99          300        5        0.1341463 0.6470588 0.9983718 0.9795593\n",
       "[34,] 0.90          500        5        0.0000000       NaN 1.0000000 0.9782320\n",
       "[35,] 0.95          500        5        0.0000000       NaN 1.0000000 0.9782320\n",
       "[36,] 0.99          500        5        0.0000000       NaN 1.0000000 0.9782320\n",
       "      BCR       F1 AUROC     N_leaves\n",
       " [1,] 0.5116279 0  0.9850233 37      \n",
       " [2,] 0.5116279 0  0.9850233 37      \n",
       " [3,] 0.4920635 0  0.9846974 33      \n",
       " [4,] 0.4920635 0  0.9846974 33      \n",
       " [5,] 0.5116279 0  0.9841381 35      \n",
       " [6,] 0.5116279 0  0.9841381 35      \n",
       " [7,] 0.4920635 0  0.9837691 31      \n",
       " [8,] 0.4920635 0  0.9837691 31      \n",
       " [9,] 0.5116279 0  0.9836102 29      \n",
       "[10,] 0.5116279 0  0.9836102 29      \n",
       "[11,] 0.4920635 0  0.9835424 26      \n",
       "[12,] 0.4920635 0  0.9835424 26      \n",
       "[13,] 0.2777778 0  0.9774680 20      \n",
       "[14,] 0.2777778 0  0.9774680 20      \n",
       "[15,] 0.2777778 0  0.9774680 19      \n",
       "[16,] 0.2777778 0  0.9774680 19      \n",
       "[17,] 0.2777778 0  0.9773952 21      \n",
       "[18,] 0.2777778 0  0.9773952 21      \n",
       "[19,]       NaN 0  0.9761922 17      \n",
       "[20,]       NaN 0  0.9761922 17      \n",
       "[21,]       NaN 0  0.9761922 16      \n",
       "[22,]       NaN 0  0.9761922 16      \n",
       "[23,]       NaN 0  0.9761194 18      \n",
       "[24,]       NaN 0  0.9761194 18      \n",
       "[25,] 0.4347826 0  0.9760234 19      \n",
       "[26,] 0.4107143 0  0.9760118 16      \n",
       "[27,] 0.4347826 0  0.9753880 22      \n",
       "[28,] 0.4347826 0  0.9753880 22      \n",
       "[29,] 0.4107143 0  0.9749892 18      \n",
       "[30,] 0.4107143 0  0.9749892 18      \n",
       "[31,] 0.2222222 0  0.9724625 14      \n",
       "[32,] 0.2222222 0  0.9724625 14      \n",
       "[33,] 0.2222222 0  0.9724625 14      \n",
       "[34,]       NaN 0  0.9716468 12      \n",
       "[35,]       NaN 0  0.9716468 12      \n",
       "[36,]       NaN 0  0.9716468 12      "
      ]
     },
     "metadata": {},
     "output_type": "display_data"
    }
   ],
   "source": [
    "# Find the best set of parameters\n",
    "CAR_pre_search_result <- CAR_pre_search_result[order(CAR_pre_search_result[,10], decreasing = T),]\n",
    "CAR_pre_search_result\n",
    "best_criterion <- CAR_pre_search_result[1,1]\n",
    "best_split <- CAR_pre_search_result[1,2]\n",
    "best_depth <- CAR_pre_search_result[1,3]"
   ]
  },
  {
   "cell_type": "markdown",
   "id": "secondary-rebate",
   "metadata": {},
   "source": [
    "Let's interpret the result. The best composion of the three parameter is when min_criterion=0.90, min_split=100, and when max_depth=5.\n",
    "For the measure of standard for the best composition , AUROC(area under the ROC curve) is used. \n",
    "The best composion of those 3 parmeters has 0.9710272 AUROC"
   ]
  },
  {
   "cell_type": "code",
   "execution_count": 247,
   "id": "uniform-eugene",
   "metadata": {
    "vscode": {
     "languageId": "r"
    }
   },
   "outputs": [],
   "source": [
    "# Construct the best tree (min_criterion=0.90, min_split=100, max_depth=5)\n",
    "tree_control = ctree_control(mincriterion = best_criterion, minsplit = best_split, maxdepth = best_depth)"
   ]
  },
  {
   "cell_type": "code",
   "execution_count": 248,
   "id": "addressed-thumb",
   "metadata": {
    "vscode": {
     "languageId": "r"
    }
   },
   "outputs": [],
   "source": [
    "# Use the training and validation dataset to train the best tree\n",
    "\n",
    "\n",
    "# We combine training data and validation data to create new training data, which creates the same portion of training data(70%) with post-pruning. \n",
    "car_training_data4_new <- rbind(car_training_data4,car_validation_data4)\n",
    "\n",
    "# train the best tree\n",
    "CAR_pre <- ctree(car_target2~ ., data = car_training_data4, controls = tree_control)\n",
    "CAR_pre_prediction <- predict(CAR_pre, newdata = car_test_data4)\n",
    "CAR_pre_response <- treeresponse(CAR_pre, newdata = car_test_data4)"
   ]
  },
  {
   "cell_type": "code",
   "execution_count": 250,
   "id": "optical-password",
   "metadata": {
    "vscode": {
     "languageId": "r"
    }
   },
   "outputs": [
    {
     "data": {
      "text/plain": [
       "   CAR_pre_prediction\n",
       "        0     1\n",
       "  0 11049    20\n",
       "  1   126   106"
      ]
     },
     "metadata": {},
     "output_type": "display_data"
    }
   ],
   "source": [
    "# Performance of the best tree\n",
    "CAR_pre_cm <- table(car_test_data4$car_target2, CAR_pre_prediction)\n",
    "CAR_pre_cm"
   ]
  },
  {
   "cell_type": "raw",
   "id": "baking-universal",
   "metadata": {},
   "source": [
    "Let's interpret this result.\n",
    "In case of pre-pruning,\n",
    "Among the actually cheap car, the number of car that is predicted to be cheap is 11049. \n",
    "Among the actually cheap car, the number of car that is wrongly predicted to be expensive is 20.\n",
    "\n",
    "Among the actually expensive car, the number of car that is predicted to be expensive is 106. \n",
    "Among the actually expensive car, the number of car that is wrongly predicted to be cheap is 126."
   ]
  },
  {
   "cell_type": "code",
   "execution_count": 252,
   "id": "wireless-briefing",
   "metadata": {
    "vscode": {
     "languageId": "r"
    }
   },
   "outputs": [
    {
     "data": {
      "text/html": [
       "<table>\n",
       "<thead><tr><th></th><th scope=col>TPR</th><th scope=col>Precision</th><th scope=col>TNR</th><th scope=col>Accuracy</th><th scope=col>F1-Measure</th></tr></thead>\n",
       "<tbody>\n",
       "\t<tr><th scope=row>Post-Pruning</th><td>0.3245283</td><td>0.8113208</td><td>0.9981877</td><td>0.9823909</td><td>0.4636119</td></tr>\n",
       "\t<tr><th scope=row>Pre-Pruning</th><td>0.4568966</td><td>0.8412698</td><td>0.9981932</td><td>0.9870808</td><td>0.5921788</td></tr>\n",
       "</tbody>\n",
       "</table>\n"
      ],
      "text/latex": [
       "\\begin{tabular}{r|lllll}\n",
       "  & TPR & Precision & TNR & Accuracy & F1-Measure\\\\\n",
       "\\hline\n",
       "\tPost-Pruning & 0.3245283 & 0.8113208 & 0.9981877 & 0.9823909 & 0.4636119\\\\\n",
       "\tPre-Pruning & 0.4568966 & 0.8412698 & 0.9981932 & 0.9870808 & 0.5921788\\\\\n",
       "\\end{tabular}\n"
      ],
      "text/markdown": [
       "\n",
       "| <!--/--> | TPR | Precision | TNR | Accuracy | F1-Measure |\n",
       "|---|---|---|---|---|---|\n",
       "| Post-Pruning | 0.3245283 | 0.8113208 | 0.9981877 | 0.9823909 | 0.4636119 |\n",
       "| Pre-Pruning | 0.4568966 | 0.8412698 | 0.9981932 | 0.9870808 | 0.5921788 |\n",
       "\n"
      ],
      "text/plain": [
       "             TPR       Precision TNR       Accuracy  F1-Measure\n",
       "Post-Pruning 0.3245283 0.8113208 0.9981877 0.9823909 0.4636119 \n",
       "Pre-Pruning  0.4568966 0.8412698 0.9981932 0.9870808 0.5921788 "
      ]
     },
     "metadata": {},
     "output_type": "display_data"
    }
   ],
   "source": [
    "Perf_Table3[2,] <- perf_eval2(CAR_pre_cm)\n",
    "Perf_Table3\n"
   ]
  },
  {
   "cell_type": "raw",
   "id": "amazing-sport",
   "metadata": {},
   "source": [
    "Pre-Pruning has higher TPR, Precision, TNR, Accuract, and F1. So, Pre-Pruning perform better."
   ]
  },
  {
   "cell_type": "code",
   "execution_count": 253,
   "id": "soviet-muscle",
   "metadata": {
    "vscode": {
     "languageId": "r"
    }
   },
   "outputs": [
    {
     "data": {
      "image/png": "[encoded data removed]",
      "text/plain": [
       "plot without title"
      ]
     },
     "metadata": {},
     "output_type": "display_data"
    }
   ],
   "source": [
    "# Plot the ROC\n",
    "CAR_pre_prob <- 1-unlist(CAR_pre_response, use.names=F)[seq(1,nrow(car_test_data4)*2,2)]\n",
    "CAR_pre_rocr <- prediction(CAR_pre_prob, car_test_data4$car_target2)\n",
    "CAR_pre_perf <- performance(CAR_pre_rocr, \"tpr\",\"fpr\") \n",
    "plot(CAR_pre_perf, col=5, lwd = 3)"
   ]
  },
  {
   "cell_type": "code",
   "execution_count": 254,
   "id": "unauthorized-compiler",
   "metadata": {
    "vscode": {
     "languageId": "r"
    }
   },
   "outputs": [
    {
     "data": {
      "image/png": "[encoded data removed]",
      "text/plain": [
       "plot without title"
      ]
     },
     "metadata": {},
     "output_type": "display_data"
    }
   ],
   "source": [
    "# Plot the best tree\n",
    "plot(CAR_pre)\n"
   ]
  },
  {
   "cell_type": "code",
   "execution_count": 257,
   "id": "adapted-lodge",
   "metadata": {
    "scrolled": false,
    "vscode": {
     "languageId": "r"
    }
   },
   "outputs": [
    {
     "data": {
      "image/png": "[encoded data removed]",
      "text/plain": [
       "plot without title"
      ]
     },
     "metadata": {},
     "output_type": "display_data"
    }
   ],
   "source": [
    "plot(CAR_pre, type=\"simple\")"
   ]
  },
  {
   "cell_type": "code",
   "execution_count": 1,
   "id": "iraqi-breach",
   "metadata": {
    "vscode": {
     "languageId": "r"
    }
   },
   "outputs": [
    {
     "name": "stderr",
     "output_type": "stream",
     "text": [
      "Warning message in file(file, \"rt\"):\n",
      "\"cannot open file 'cars_new.csv': No such file or directory\""
     ]
    },
    {
     "ename": "ERROR",
     "evalue": "Error in file(file, \"rt\"): cannot open the connection\n",
     "output_type": "error",
     "traceback": [
      "Error in file(file, \"rt\"): cannot open the connection\nTraceback:\n",
      "1. read.csv(\"cars_new.csv\")",
      "2. read.table(file = file, header = header, sep = sep, quote = quote, \n .     dec = dec, fill = fill, comment.char = comment.char, ...)",
      "3. file(file, \"rt\")"
     ]
    }
   ],
   "source": [
    "#CLUSTERING\n",
    "#clustering works to group data points together based on similaries\n",
    "data = read.csv(\"cars_new.csv\")\n",
    "set.seed(13)\n",
    "indices = sample(nrow(data1), .70 * nrow(data))\n",
    "train = data[indices, ]\n",
    "test = data[-indices, ]\n",
    "#copy data\n",
    "test1 = test\n",
    "\n",
    "#removal of data that isnt numerical for k-means\n",
    "test1$is_exchangeable = NULL\n",
    "test1$has_warrenty = NULL\n",
    "test1$engine_has_gas = NULL\n",
    "test1$has_warrenty = NULL\n",
    "test1$state = NULL\n",
    "test1$manufacturer_name = NULL\n",
    "test1$color = NULL\n",
    "test1$model_name = NULL\n",
    "test1$engine_fuel = NULL\n",
    "test1$engine_type = NULL\n",
    "test1$body_type = NULL\n",
    "test1$has_warranty = NULL\n",
    "test1$drivetrain = NULL\n",
    "test1$transmission = NULL\n",
    "test1 = na.omit(test1)\n",
    "\n",
    "#clustering\n",
    "results = kmeans(test1,3)\n",
    "results\n",
    "\n",
    "table(test1$odometer_value, results$cluster)\n",
    "plot(test1[c(\"odometer_value\",\"price_usd\")],col = results$cluster)\n",
    "#clustering performed well when grouping odometer values and price. \n",
    "#we are able to see distinct clusters and grouping.\n",
    "#this shows that clustering performs well between odometer_value and price_usd\n",
    "\n",
    "table(test1$engine_capacity, results$cluster)\n",
    "plot(test1[c(\"engine_capacity\",\"price_usd\")],col = results$cluster)\n",
    "#clustering does not work well with engine_capacity.\n",
    "#the table as well as the plot backs up this claim as clusters are overlapping in the plot\n",
    "#and years are found in multiple clusters in the table.\n",
    "\n",
    "table(test1$year_produced, results$cluster)\n",
    "plot(test1[c(\"year_produced\",\"price_usd\")],col = results$cluster)\n",
    "#clustering does not work well with year_produced.\n",
    "#the table as well as the plot backs up this claim as clusters are overlapping in the plot\n",
    "#and years are found in multiple clusters in the table."
   ]
  },
  {
   "cell_type": "markdown",
   "id": "abandoned-physics",
   "metadata": {},
   "source": [
    "# 8. conclusion"
   ]
  },
  {
   "cell_type": "raw",
   "id": "rough-insertion",
   "metadata": {},
   "source": [
    "Here, we discuss our results from each section.\n",
    "\n",
    "\n",
    "\n",
    "\n",
    "\n",
    "#In linear regression, the followings are our results.\n",
    "\n",
    "Very Important variables(***): odometer_value, year_produced, engine_capacity, dummy_has_warranty, \n",
    "dummy_engine_has_gas, transmission_dummy, silver, white, other_color, Volkswagen, BMW, Renault, Audi, diesel, gasoline, \n",
    "sedan, hatchback, universal, suv, minibus, emergency, new, all, front.\n",
    "\n",
    "Important variables(**): blue, red\n",
    "\n",
    "Less Important variables(*): dummy_is_exchangeable, Opel, Ford .\n",
    "\n",
    "Non-Important variables( ):black, grey\n",
    "\n",
    "Adjusted R-squared is 0.7233, which means the data has moderate linearity. \n",
    "\n",
    "Let's see  independent variables'  coefficients and let's interpret.\n",
    "\n",
    "odometer_value (-0.0046789): When the odometer_value increases by 1 kilometer, the price of car decreases by $0.0046789.\n",
    "\n",
    "year_produced (475.5509402): When the year_produced increases by 1 year (it means the car was produced more recently), \n",
    "                             the price of car decreases by $0.0046789.\n",
    "\n",
    "engine_capacity (1257.1612071): When the engine_capacity increases by 1 liter, the price of car increases by $1257.1612071.\n",
    "\n",
    "has_warranty (1755.4074334): When a car has warranty, the price of car increases by $1755.4074334.\n",
    "\n",
    "engine_has_gas (-2370.5530092):When a car is equipped with propane tank and tubin, the price of car decreases by $2370.5530092.\n",
    "\n",
    "transmission_dummy (-851.2355619): In the data, transmission variable has 2 values(mechanical=1, automatic=0). When a car's transmission \n",
    "                                    mechanical type, the car price decreases by $851.2355619.\n",
    "\n",
    "silver (-777.9152961): When a car has siver cloror, the car price decreases by $777.9152961.\n",
    "\n",
    "white (417.1602471): When a car has white color, the car price increase by $417.1602471.\n",
    "\n",
    "other_color (-407.8114286): When a car has other_color excluding black, silver, blue, white, grey, and red,  the car price decreases\n",
    "                            by $407.8114286.\n",
    "\n",
    "Volkswagen (1372.0517701): When the brand of a car is Volkswagen, the car price increases by $1372.0517701.\n",
    "\n",
    "BMW(411.3100940): When the brand of a car is BMW, the car price increases by $411.3100940.\n",
    "\n",
    "Renault  (-604.2716261) : When the brand of a car is Renault, the car price decreases by $604.2716261.\n",
    "\n",
    "Audi (2293.7079463): When the brand of a car is Audi, the car price increases by $2293.7079463.\n",
    "\n",
    "diesel (-928.2724597): When the engine fuel is disel, the car price decreases by $928.2724597.\n",
    "\n",
    "gasoline (-1886.6996505): When the engine fuel is gasoline, the car price decreases by $1886.6996505.\n",
    "\n",
    "sedan (-898.1421459): When the bodytype of a car is sedan, the car price decreases by $898.1421459.\n",
    "\n",
    "hatchback ( -1003.2284148): When the bodytype of a car is hatchback, the car price decreases by $1003.2284148.\n",
    "\n",
    "universal (-1101.2265344): When the bodytype of a car is universal, the car price decreases by $1101.2265344.\n",
    "\n",
    "suv (1279.3486164): When the bodytype of a car is suv, the car price increases by $1279.3486164.\n",
    "\n",
    "minibus (1892.9400849): When the bodytype of a car is minibus, the car price increases by $1892.9400849.  \n",
    "\n",
    "emergency  (-1276.4822649): When a car's state is emergency(severely damaged), the car price decreases by $1276.4822649.   \n",
    "\n",
    "new  (8669.2696124): When a car's state is new, the car price increases by $8669.2696124.   \n",
    "\n",
    "all  (1032.0408905): When drivetrains is deviced on both front and rear, the car price increases by $1032.0408905.  \n",
    "\n",
    "front ( -1560.3414561): When drivetrains is deviced on only front,  the car price decreases by $1560.3414561.\n",
    "\n",
    "blue  (-260.0060464): When a car has blue cloror, the car price decreases by $260.0060464.\n",
    "\n",
    "red (300.3376489): When a car has red cloror, the car price increases by $300.3376489.\n",
    "\n",
    "dummy_is_exchangeable (-110.8982411): When a car is exchangable, the car price decreases by $110.8982411.\n",
    "\n",
    "Opel (-172.6663326):  When the brand of a car is Opel, the car price decreases by $172.6663326.\n",
    "\n",
    "Ford  (-189.5521844): When the brand of a car is Ford , the car price decreases by $189.5521844. \n",
    "\n",
    "black (-0.2680671): When a car has black cloror, the car price decreases by $ 0.2680671.\n",
    "\n",
    "grey  (42.1734466): When a car has grey  cloror, the car price increases by $ 42.1734466.\n",
    "\n",
    "\n",
    "\n",
    "\n",
    "\n",
    "\n",
    "\n",
    "#In liogistic regression, the followings are our coefficient results of \"(exp(full_train$coefficients)-1)*100\"  \n",
    "\n",
    "\n",
    "\n",
    "\n",
    "odometer_value(-74.1736835752351):For a one-kilometer increase in odometer_value,the odds of being expensive car decreases by 74.17%.\n",
    "\n",
    "year_produced(23148.0161180748): For a one-year increase in year_produced,the odds of being expensive car increases by 23148.02%\n",
    "\n",
    "engine_capacity(205.918060812971): For a one-litter increase in engine_capacity,the odds of being expensive car increases by 205.92%\n",
    "\n",
    "dummy_is_exchangeable(4.79574530376794): The odds of \"is_exchangeable\" car to be categorized as expensive car are 4.78% grater than \n",
    "                                         the odds of \"non-is_exchangable\" car.\n",
    "\n",
    "\n",
    "dummy_engine_has_gas(-43.6486251189484):The odds of \"engine_has_gas\" car to be categorized as expensive car are 43.65% smaller than \n",
    "                                         the odds of \"non-engine_has_gas\" car.\n",
    "\n",
    "\n",
    "transmission_dummy(-47.6721651965706):The odds of \"mechanical\" car to be categorized as expensive car are 47.67% smaller than \n",
    "                                         the odds of \"automatic\" car.\n",
    "\n",
    "\n",
    "black(3.48234454198673):The odds of \"black\" car to be categorized as expensive car are 3.49% grater than \n",
    "                                         the odds of \"non-black\" car.\n",
    "\n",
    "\n",
    "silver(5.57718751682126):The odds of \"silver\" car to be categorized as expensive car are 5.58% grater than \n",
    "                                         the odds of \"non-silver\" car.\n",
    "\n",
    "\n",
    "blue(-3.11291437108077):The odds of \"blue\" car to be categorized as expensive car are 3.11% smaller than \n",
    "                                         the odds of \"non-blue\" car.\n",
    "\n",
    "\n",
    "white(-6.56384964587053):The odds of \"white\" car to be categorized as expensive car are 6.56% smaller than \n",
    "                                         the odds of \"non-white\" car.\n",
    "\n",
    "\n",
    "grey(-4.29902699291487):The odds of \"grey\" car to be categorized as expensive car are 4.30% smaller than \n",
    "                                         the odds of \"non-grey\" car.\n",
    "\n",
    "\n",
    "red(-17.1140664619564):The odds of \"red\" car to be categorized as expensive car are 17.11% smaller than \n",
    "                                         the odds of \"non-red\" car.\n",
    "\n",
    "\n",
    "other_color(-2.39397595487244):The odds of \"other_color\" car to be categorized as expensive car are 2.39% smaller than \n",
    "                                         the odds of \"non-other_color\" car.\n",
    "\n",
    "\n",
    "Volkswagen(19.0188043720761):The odds of \"Volkswagen\" car to be categorized as expensive car are 19.02% grater than \n",
    "                                         the odds of \"non-Volkswagen\" car.\n",
    "\n",
    "\n",
    "Opel(-97.7592431463414):The odds of \"Opel\" car to be categorized as expensive car are 97.76% smaller than \n",
    "                                         the odds of \"non-Opel\" car.\n",
    "\n",
    "\n",
    "BMW(27.5333534633327):The odds of \"BMW\" car to be categorized as expensive car are 27.54% grater than \n",
    "                                         the odds of \"non-BMW\" car.\n",
    "\n",
    "\n",
    "Ford(-15.0952347630879):The odds of \"Ford\" car to be categorized as expensive car are 15.10% smaller than \n",
    "                                         the odds of \"non-Ford\" car.\n",
    "\n",
    "\n",
    "Renault(-44.3490559581645):The odds of \"Renault\" car to be categorized as expensive car are 44.35% smaller than \n",
    "                                         the odds of \"non-Renault\" car.\n",
    "\n",
    "\n",
    "Audi(15.9179333078946):The odds of \"Audi\" car to be categorized as expensive car are 15.92% grater than \n",
    "                                         the odds of \"non-Audi\" car.\n",
    "\n",
    "\n",
    "diesel(33.4070289967421):The odds of \"diesel-engine-fuel\" car to be categorized as expensive car are 33.41% grater than \n",
    "                                         the odds of \"non-diesel-engine-fuel\" car.\n",
    "\n",
    "\n",
    "sedan(-23.7287417536718):The odds of \"sedan\" car to be categorized as expensive car are 23.73% smaller than \n",
    "                                         the odds of \"non-sedan\" car.\n",
    "\n",
    "\n",
    "hatchback(-35.6493776027695):The odds of \"hatchback-bodytype\" car to be categorized as expensive car are 35.65% smaller than \n",
    "                                         the odds of \"non-hatchback-bodytype\" car.\n",
    "\n",
    "\n",
    "universal(-44.796143099655):The odds of \"universal-bodytype\" car to be categorized as expensive car are 44.80% smaller than \n",
    "                                         the odds of \"non-universal-bodytype\" car.\n",
    "\n",
    "\n",
    "suv(3.50522029315599):The odds of \"suv-bodytype\" car to be categorized as expensive car are 3.51% grater than \n",
    "                                         the odds of \"non-suv-bodytype\" car.\n",
    "\n",
    "\n",
    "minibus(72.81740541724):The odds of \"minibus-bodytype\" car to be categorized as expensive car are 72.82% grater than \n",
    "                                         the odds of \"non-minibus-bodytype\" car.\n",
    "\n",
    "\n",
    "emergency(-79.2327333072365):The odds of \"emergency-state\" car to be categorized as expensive car are 79.23% smaller than \n",
    "                                         the odds of \"non-emergency-state\".\n",
    "\n",
    "\n",
    "new(8.43326415223295):The odds of \"new-state\" car to be categorized as expensive car are 8.43% grater than \n",
    "                                         the odds of \"non-new\" car.\n",
    "\n",
    "\n",
    "all(11.5086545173014):The odds of \"derivetrain in both and rear\" car to be categorized as expensive car are 11.51% grater than \n",
    "                                         the odds of \"non-derivetrain in both and rear\" car.\n",
    "\n",
    "\n",
    "front(-57.907492639756):The odds of \"front-drivetrain\" car to be categorized as expensive car are 57.91% smaller than \n",
    "                                         the odds of \"non-front-drivetrain\" car.\n",
    "                                         \n",
    "                                         \n",
    "                                         \n",
    "                                         \n",
    "\n",
    "# In resamplig method, the followings are our result.\n",
    "\n",
    "\n",
    "                       TPR\t     Precision\t    TNR\t        ACC     \tF1      Error Rate\n",
    "Logstic Regression\t0.5622642\t0.7563452\t0.9956506\t0.9854880\t0.6450216   0.0145119900893726\n",
    "Forward\t            0.5735849\t0.7794872\t0.9961037\t0.9861959\t0.6608696   0.0138040881337935\n",
    "Backward\t        0.5622642\t0.7720207\t0.9960130\t0.9858420\t0.6506550   0.014158039111583\n",
    "Lidge\t            0.2452830\t0.9154930\t0.9994563\t0.9817715\t0.3869048   0.0182284753561632\n",
    "Lasso\t            0.1698113\t0.9375000\t0.9997282\t0.9802672\t0.2875399   0.0197327670117689\n",
    "\n",
    "What is the most suitable resampling and rescaling method for this dataset? Forward selction. because it has the lowest error rate.\n",
    "\n",
    "\n",
    "\n",
    "\n",
    "# In decision tree, the followings are our result.\n",
    "\n",
    "\t               TPR\t     Precision\t  TNR\t    Accuracy\tF1-Measure\n",
    "Post-Pruning\t0.3245283\t0.8113208\t0.9981877\t0.9823909\t0.4636119\n",
    "Pre-Pruning\t    0.4568966\t0.8412698\t0.9981932\t0.9870808\t0.5921788\n",
    "\n",
    "Pre-Pruning has higher TPR, Precision, TNR, Accuract, and F1. So, Pre-Pruning perform better.\n",
    "\n",
    "\n",
    "\n",
    "\n",
    "\n",
    "\n",
    "\n",
    "\n",
    "\n"
   ]
  },
  {
   "cell_type": "markdown",
   "id": "gross-jewelry",
   "metadata": {},
   "source": [
    "# 9.How your contribution different from what's already existing(compare and contrast from Literature survey above)."
   ]
  },
  {
   "cell_type": "raw",
   "id": "secure-syndrome",
   "metadata": {},
   "source": [
    "    The study performed by Abhimanyu Dasarwar attempt several machine learinig methods on this dataset. The researchers claimed that\n",
    "\"year_produced\" is an important factor in Car Price Prediction. Also, he claims that DriveTrain, Odometer Value, Engine Capacity \n",
    " are also in top 5 Features for Price Prediction. Also, he obtained 88% Accuracy using Random Forest. Compared this, our conclusion\n",
    " has many common results. However, in our result, the brand of cars are also very important factos to decide the price of car. \n",
    " In addition, the engine_fuel type has significance. For example, in linear regression, the coefficien of Gasolin dummy variable is about -1886, and the coefficient of disel dummy variable is about -930. This means that people prefer sustainable energry to fuel energy for environment. And in out case the accuracy of post-pruning and pre-pruning is over 98%. This number is 10% more than the literature survey's result that has only 88% accurcy with Random Forest. "
   ]
  },
  {
   "cell_type": "markdown",
   "id": "herbal-madison",
   "metadata": {},
   "source": [
    "# 10. References"
   ]
  },
  {
   "cell_type": "markdown",
   "id": "accurate-mauritius",
   "metadata": {},
   "source": [
    "“# 85 ] R 결측값(NA) 확인 및 처리(Is.na, Complete.cases, Na.rm, Na.omit).” 네이버 블로그 | 지그드시, m.blog.naver.com/PostView.nhn?blogId=liberty264&logNo=220992831831&proxyReferer=https%3A%2F%2Fwww.google.com%2F. \n",
    "\n",
    "\n",
    "Abhimanyudasarwar. “Used Cars : Price Prediction.” Kaggle, Kaggle, 12 Aug. 2020, www.kaggle.com/abhimanyudasarwar/used-cars-price-prediction. \n",
    "\n",
    "\n",
    "AlexAlex 2311 silver badge44 bronze badges, and Peter FlomPeter Flom 91.9k3434 gold badges137137 silver badges268268 bronze badges. “R Help - Prediction from a Rank-Deficient Fit May Be Misleading.” Cross Validated, 1 Aug. 1968, stats.stackexchange.com/questions/438126/r-help-prediction-from-a-rank-deficient-fit-may-be-misleading. \n",
    "\n",
    "\n",
    "Bhalla, Deepanshu. “R : Keep / Drop Columns from Data Frame.” ListenData, www.listendata.com/2015/06/r-keep-drop-columns-from-data-frame.html. \n",
    "\n",
    "\n",
    "digitalwaterfalldigitalwaterfall 12311 gold badge11 silver badge66 bronze badges, and M--M-- 18.7k77 gold badges4343 silver badges7474 bronze badges. “Convert Scientific Notation to Numeric, Preserving Decimals.” Stack Overflow, 1 Mar. 1966, stackoverflow.com/questions/44725001/convert-scientific-notation-to-numeric-preserving-decimals. \n",
    "\n",
    "\n",
    "Fornanthu, et al. “Linear Regression in R : Coefficients Having NA in Summary(Model).” Data Science, Analytics and Big Data Discussions, 18 Mar. 2018, discuss.analyticsvidhya.com/t/linear-regression-in-r-coefficients-having-na-in-summary-model/64624. \n",
    "\n",
    "\n",
    "James, Gareth, et al. An Introduction to Statistical Learning with Applications in R. Springer, 2017. \n",
    "\n",
    "\n",
    "Lepchenkov, Kirill. “Used-Cars-Catalog.” Kaggle, 2 Dec. 2019, www.kaggle.com/lepchenkov/usedcarscatalog. \n",
    "\n",
    "\n",
    "Ollypop, et al. “How to Remove 'NA' in Lm Summary Ouput.” Cross Validated, 1 Nov. 1965, stats.stackexchange.com/questions/266549/how-to-remove-na-in-lm-summary-ouput. \n",
    "\n",
    "\n",
    "Saran. “Error in Plot Command - Error in Xy.coords(x, y, Xlabel, Ylabel, Log) : 'x' and 'y' Lengths Differ.” RStudio Community, 18 Feb. 2019, community.rstudio.com/t/error-in-plot-command-error-in-xy-coords-x-y-xlabel-ylabel-log-x-and-y-lengths-differ/24133/3. \n",
    "\n",
    "\n",
    "Tan, Pang-Ning, et al. Introduction to Data Mining. Pearson/Addison-Wesley, 2010. \n",
    "\n",
    "\n",
    "\n",
    "“[R프로그래밍] 2. R Studio(R스튜디오) 환경과 변수(객체)알기.” 네이버 블로그 | 24시 방구석 통계학, m.blog.naver.com/PostView.nhn?blogId=itisik&logNo=221448727927&proxyReferer=https%3A%2F%2Fwww.google.com%2F. \n",
    "\n",
    "\n",
    "“[깊게 배우는 머신러닝] LAB: Classification 코드 따라하기.” YouTube, YouTube, 8 Jan. 2020, www.youtube.com/watch?v=-UC8qghjNto&list=PLTGzWF3DajHQZ7zXesjid0zxmGdaNS4-K&index=16. \n",
    "\n",
    "\n",
    "\n"
   ]
  }
 ],
 "metadata": {
  "kernelspec": {
   "display_name": "R",
   "language": "R",
   "name": "ir"
  },
  "language_info": {
   "codemirror_mode": "r",
   "file_extension": ".r",
   "mimetype": "text/x-r-source",
   "name": "R",
   "pygments_lexer": "r",
   "version": "3.6.1"
  }
 },
 "nbformat": 4,
 "nbformat_minor": 5
}
